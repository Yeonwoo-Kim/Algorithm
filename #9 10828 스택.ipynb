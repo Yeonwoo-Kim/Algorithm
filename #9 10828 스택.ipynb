{
 "cells": [
  {
   "cell_type": "code",
   "execution_count": 3,
   "metadata": {},
   "outputs": [
    {
     "name": "stdout",
     "output_type": "stream",
     "text": [
      "14\n",
      "push 1\n",
      "push 2\n",
      "top\n",
      "2\n",
      "size\n",
      "2\n",
      "empty\n",
      "0\n",
      "pop\n",
      "2\n",
      "pop\n",
      "1\n",
      "pop\n",
      "-1\n",
      "size\n",
      "0\n",
      "empty\n",
      "1\n",
      "pop\n",
      "-1\n",
      "push 3\n",
      "empty\n",
      "0\n",
      "top\n",
      "3\n"
     ]
    }
   ],
   "source": [
    "import sys\n",
    "stack=[]\n",
    "def push(x):\n",
    "    stack.append(x)\n",
    "def pop():\n",
    "    s=len(stack)\n",
    "    if s==0:\n",
    "        print(-1)\n",
    "    else:\n",
    "        print(stack[s-1])\n",
    "        del stack[s-1]\n",
    "def size():\n",
    "    print(len(stack))\n",
    "    \n",
    "def empty():\n",
    "    s=len(stack)\n",
    "    if s==0:\n",
    "        print(1)\n",
    "    else:\n",
    "        print(0)\n",
    "    \n",
    "def top():\n",
    "    s=len(stack)\n",
    "    if s==0:\n",
    "        print(-1)\n",
    "    else:\n",
    "        print(stack[s-1])\n",
    "    \n",
    "n=int(input())\n",
    "\n",
    "for i in range(n):\n",
    "    k=sys.stdin.readline().split()\n",
    "    if k[0]=='push':\n",
    "        push(k[1])\n",
    "    \n",
    "    elif k[0]=='pop':\n",
    "        pop()\n",
    "    elif k[0]=='size':\n",
    "        size()\n",
    "    elif k[0]=='empty':\n",
    "        empty()\n",
    "    elif k[0]=='top':\n",
    "        top()\n",
    "        "
   ]
  },
  {
   "cell_type": "code",
   "execution_count": null,
   "metadata": {},
   "outputs": [],
   "source": []
  }
 ],
 "metadata": {
  "kernelspec": {
   "display_name": "Python 3",
   "language": "python",
   "name": "python3"
  },
  "language_info": {
   "codemirror_mode": {
    "name": "ipython",
    "version": 3
   },
   "file_extension": ".py",
   "mimetype": "text/x-python",
   "name": "python",
   "nbconvert_exporter": "python",
   "pygments_lexer": "ipython3",
   "version": "3.8.5"
  }
 },
 "nbformat": 4,
 "nbformat_minor": 4
}
