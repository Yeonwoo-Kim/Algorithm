{
 "cells": [
  {
   "cell_type": "code",
   "execution_count": 16,
   "metadata": {},
   "outputs": [
    {
     "name": "stdout",
     "output_type": "stream",
     "text": [
      "11001100\n",
      "314\n"
     ]
    }
   ],
   "source": [
    "#시간초과\n",
    "\n",
    "a=input()\n",
    "k=0\n",
    "n_10=0\n",
    "for i in range(len(a)-1,-1,-1):\n",
    "    n_10+=int(a[k])*(2**i)\n",
    "    k+=1\n",
    "\n",
    "result=[]\n",
    "\n",
    "while n_10 >= 8:\n",
    "    result.append(n_10%8)\n",
    "    n_10=n_10//8\n",
    "    \n",
    "result.append(n_10)\n",
    "\n",
    "result=list(reversed(result))\n",
    "\n",
    "print(''.join(map(str,result)))\n",
    "        "
   ]
  },
  {
   "cell_type": "code",
   "execution_count": 23,
   "metadata": {},
   "outputs": [
    {
     "name": "stdout",
     "output_type": "stream",
     "text": [
      "11001100\n",
      "314\n"
     ]
    }
   ],
   "source": [
    "#맞음\n",
    "a=input()\n",
    "List=list(reversed(a))\n",
    "\n",
    "n=len(List)//3 #3개씩 반복 횟수\n",
    "m=len(List)%3 #남은 것들\n",
    "k=0\n",
    "result=[]\n",
    "\n",
    "for j in range(n):\n",
    "    cnt=0\n",
    "    for i in range(3):\n",
    "        cnt+=int(List[k])*(2**i)\n",
    "        k+=1\n",
    "    result.append(cnt)\n",
    "\n",
    "cnt=0\n",
    "for j in range(m):\n",
    "    cnt+=int(List[k])*(2**j)\n",
    "    k+=1\n",
    "    \n",
    "result.append(cnt)\n",
    "        \n",
    "        \n",
    "result=list(reversed(result))\n",
    "print(int(''.join(map(str,result))))"
   ]
  },
  {
   "cell_type": "code",
   "execution_count": null,
   "metadata": {},
   "outputs": [],
   "source": [
    "#oct 내장함수 사용하면 한줄로 끝나긴함.."
   ]
  }
 ],
 "metadata": {
  "kernelspec": {
   "display_name": "Python 3",
   "language": "python",
   "name": "python3"
  },
  "language_info": {
   "codemirror_mode": {
    "name": "ipython",
    "version": 3
   },
   "file_extension": ".py",
   "mimetype": "text/x-python",
   "name": "python",
   "nbconvert_exporter": "python",
   "pygments_lexer": "ipython3",
   "version": "3.8.5"
  }
 },
 "nbformat": 4,
 "nbformat_minor": 4
}
