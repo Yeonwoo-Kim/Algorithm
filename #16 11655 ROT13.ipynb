{
 "cells": [
  {
   "cell_type": "code",
   "execution_count": 30,
   "metadata": {
    "scrolled": true
   },
   "outputs": [
    {
     "name": "stdout",
     "output_type": "stream",
     "text": [
      "Baekjoon Online Judge\n",
      "Onrxwbba Bayvar Whqtr\n"
     ]
    }
   ],
   "source": [
    "s=input()\n",
    "s=list(s)\n",
    "for j in range(len(s)):\n",
    "    i=s[j]\n",
    "\n",
    "    #대문자의 경우\n",
    "    if ord(i)>=65 and ord(i) <=90: #대문자인 경우\n",
    "        k=ord(i)+13 #13글자씩 밀어\n",
    "        if k>=65 and k <=90: #밀어낸게 대문자\n",
    "            s[j]=chr(ord(i)+13)\n",
    "        else: #대문자 범위 벗어남\n",
    "            s[j]=chr(ord(i)-13)\n",
    "            \n",
    "    #소문자의 경우\n",
    "    elif ord(i) >=97 and ord(i) <=122:\n",
    "        k=ord(i)+13 #13글자씩 밀어\n",
    "        if k>=97 and k <=122: #밀어낸게 소문자\n",
    "            s[j]=chr(ord(i)+13)\n",
    "        else: #소문자 범위 벗어남\n",
    "            s[j]=chr(ord(i)-13)\n",
    "        \n",
    "print(''.join(s)) "
   ]
  }
 ],
 "metadata": {
  "kernelspec": {
   "display_name": "Python 3",
   "language": "python",
   "name": "python3"
  },
  "language_info": {
   "codemirror_mode": {
    "name": "ipython",
    "version": 3
   },
   "file_extension": ".py",
   "mimetype": "text/x-python",
   "name": "python",
   "nbconvert_exporter": "python",
   "pygments_lexer": "ipython3",
   "version": "3.8.5"
  }
 },
 "nbformat": 4,
 "nbformat_minor": 4
}
