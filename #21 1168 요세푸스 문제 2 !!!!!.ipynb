{
 "cells": [
  {
   "cell_type": "code",
   "execution_count": null,
   "metadata": {},
   "outputs": [],
   "source": [
    "#시간초과"
   ]
  },
  {
   "cell_type": "code",
   "execution_count": 2,
   "metadata": {},
   "outputs": [
    {
     "name": "stdout",
     "output_type": "stream",
     "text": [
      "7 3\n",
      "<3, 6, 2, 7, 5, 1, 4>\n"
     ]
    }
   ],
   "source": [
    "#큐를 이용\n",
    "\n",
    "from collections import deque\n",
    "\n",
    "n,k=map(int,input().split()) \n",
    "result=[]\n",
    "que=deque([i for i in range(1,n+1)])\n",
    "\n",
    "while que:\n",
    "    que.rotate(-(k-1))\n",
    "    result.append(que.popleft())\n",
    "print('<'+', '.join(map(str,result))+'>')    "
   ]
  },
  {
   "cell_type": "code",
   "execution_count": null,
   "metadata": {},
   "outputs": [],
   "source": [
    "#큐 이용2\n",
    "from collections import deque\n",
    "import sys\n",
    "\n",
    "que = deque()\n",
    "n, k = map(int,sys.stdin.readline().split())\n",
    "result = []\n",
    "for i in range(n):\n",
    "    que.append(i+1)\n",
    "\n",
    "while que:\n",
    "    if len(que) > k-1:\n",
    "        for i in range(k-1):\n",
    "            que.append(que.popleft())\n",
    "        result.append(que.popleft())\n",
    "    else:\n",
    "        result.append(que.popleft())\n",
    "\n",
    "print('<'+','.join(map(str, result))+'>')\n"
   ]
  },
  {
   "cell_type": "code",
   "execution_count": null,
   "metadata": {},
   "outputs": [],
   "source": [
    "#세그먼트 트리\n",
    "\n"
   ]
  },
  {
   "cell_type": "markdown",
   "metadata": {},
   "source": [
    "https://jeonggyun.tistory.com/246"
   ]
  },
  {
   "cell_type": "code",
   "execution_count": null,
   "metadata": {},
   "outputs": [],
   "source": [
    "#세그먼트 트리 (segment tree) 사용!!!"
   ]
  }
 ],
 "metadata": {
  "kernelspec": {
   "display_name": "Python 3",
   "language": "python",
   "name": "python3"
  },
  "language_info": {
   "codemirror_mode": {
    "name": "ipython",
    "version": 3
   },
   "file_extension": ".py",
   "mimetype": "text/x-python",
   "name": "python",
   "nbconvert_exporter": "python",
   "pygments_lexer": "ipython3",
   "version": "3.8.5"
  }
 },
 "nbformat": 4,
 "nbformat_minor": 4
}
