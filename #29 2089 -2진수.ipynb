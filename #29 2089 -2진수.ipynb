{
 "cells": [
  {
   "cell_type": "code",
   "execution_count": 18,
   "metadata": {},
   "outputs": [
    {
     "name": "stdout",
     "output_type": "stream",
     "text": [
      "0\n"
     ]
    }
   ],
   "source": [
    "#0이 입렫되는 경우를 조심하기!!!!!!!\n",
    "\n",
    "n=int(input())\n",
    "k=n\n",
    "L=0\n",
    "k_1=0 #이전 k 값\n",
    "result=[]\n",
    "\n",
    "if n!=0:\n",
    "    while True:\n",
    "\n",
    "        if k==1:\n",
    "            break\n",
    "\n",
    "        if k%(-2) <0:\n",
    "            k_1=k\n",
    "            k=k//(-2)+1\n",
    "            L=k_1-((-2)*k)\n",
    "            result.append(L)\n",
    "\n",
    "        else:\n",
    "            k_1=k\n",
    "            k=k//(-2)\n",
    "            L=k_1-(k*(-2))\n",
    "            result.append(L)\n",
    "\n",
    "\n",
    "    result.append(1)\n",
    "\n",
    "    result=reversed(result)\n",
    "\n",
    "    print(''.join(map(str,result)))\n",
    "else:\n",
    "    print(0)"
   ]
  }
 ],
 "metadata": {
  "kernelspec": {
   "display_name": "Python 3",
   "language": "python",
   "name": "python3"
  },
  "language_info": {
   "codemirror_mode": {
    "name": "ipython",
    "version": 3
   },
   "file_extension": ".py",
   "mimetype": "text/x-python",
   "name": "python",
   "nbconvert_exporter": "python",
   "pygments_lexer": "ipython3",
   "version": "3.8.5"
  }
 },
 "nbformat": 4,
 "nbformat_minor": 4
}
