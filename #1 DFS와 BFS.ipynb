{
 "cells": [
  {
   "cell_type": "code",
   "execution_count": 2,
   "metadata": {},
   "outputs": [
    {
     "name": "stdout",
     "output_type": "stream",
     "text": [
      "5 5 3\n",
      "5 4\n",
      "5 2\n",
      "1 2\n",
      "3 4\n",
      "3 1\n",
      "3 1 2 5 4 \n",
      "3 1 4 2 5 "
     ]
    }
   ],
   "source": [
    "# BFS\n",
    "\n",
    "from collections import deque\n",
    "\n",
    "def BFS(graph,start):\n",
    "    \n",
    "    for key in graph:\n",
    "        graph[key].sort()\n",
    "    \n",
    "    visited=[0 for i in range(a)]\n",
    "    \n",
    "    queue=deque()\n",
    "    \n",
    "    queue.append(start)\n",
    "    \n",
    "    while queue: #큐 안에 원소가 있는 동안\n",
    "        k=queue.popleft()\n",
    "        \n",
    "        for i in graph[k]:\n",
    "            if(visited[k-1]==0):\n",
    "                queue.append(i) #연결된 노드 삽입\n",
    "        \n",
    "        if(visited[k-1]==0): #방문 안했으면 print\n",
    "            print(k,end=' ')\n",
    "            \n",
    "        visited[k-1]=1 #방문 체크\n",
    "\n",
    "# DFS\n",
    "\n",
    "#넣고 빼고 연결 넣고 출력\n",
    "\n",
    "def DFS(graph,start):\n",
    "    \n",
    "    for key in graph:\n",
    "        graph[key].sort(reverse=True)\n",
    "        \n",
    "    stack=[start]\n",
    "    visited=[0 for i in range(a)]\n",
    "    \n",
    "    while stack:\n",
    "        k=stack.pop()\n",
    "        for i in graph[k]:\n",
    "            if(visited[k-1]==0):\n",
    "                stack.append(i)\n",
    "        if(visited[k-1]==0):\n",
    "            print(k,end=' ')     \n",
    "        visited[k-1]=1\n",
    "\n",
    "\n",
    "a,b,c=map(int,input().split()) #정점 개수,간선 개수, 탐색 시작 번호\n",
    "graph={i:[] for i in range(1,a+1)}\n",
    "for i in range(b):\n",
    "    x,y=map(int,input().split())\n",
    "    graph[x].append(y)\n",
    "    graph[y].append(x)\n",
    "    \n",
    "DFS(graph,c)\n",
    "print('')\n",
    "BFS(graph,c)"
   ]
  },
  {
   "cell_type": "code",
   "execution_count": null,
   "metadata": {},
   "outputs": [],
   "source": []
  }
 ],
 "metadata": {
  "kernelspec": {
   "display_name": "Python 3",
   "language": "python",
   "name": "python3"
  },
  "language_info": {
   "codemirror_mode": {
    "name": "ipython",
    "version": 3
   },
   "file_extension": ".py",
   "mimetype": "text/x-python",
   "name": "python",
   "nbconvert_exporter": "python",
   "pygments_lexer": "ipython3",
   "version": "3.8.3"
  }
 },
 "nbformat": 4,
 "nbformat_minor": 4
}
