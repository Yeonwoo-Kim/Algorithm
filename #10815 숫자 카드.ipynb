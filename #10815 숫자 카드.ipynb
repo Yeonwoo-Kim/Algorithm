{
 "cells": [
  {
   "cell_type": "markdown",
   "metadata": {},
   "source": [
    "## bisect 정리하기!!!"
   ]
  },
  {
   "cell_type": "markdown",
   "metadata": {},
   "source": [
    "109492KB\t1104ms"
   ]
  },
  {
   "cell_type": "code",
   "execution_count": null,
   "metadata": {},
   "outputs": [],
   "source": [
    "import bisect\n",
    "import sys\n",
    "\n",
    "n=int(sys.stdin.readline().rstrip())\n",
    "List=list(map(int,sys.stdin.readline().rstrip().split()))\n",
    "\n",
    "m=int(input())\n",
    "ans=list(map(int,sys.stdin.readline().rstrip().split()))\n",
    "\n",
    "List.sort()\n",
    "\n",
    "for i in range(m):\n",
    "    b=bisect.bisect_right(List,ans[i])\n",
    "\n",
    "    if List[b-1]==ans[i]:\n",
    "        print(1,end=' ')\n",
    "    else:\n",
    "        print(0,end=' ')"
   ]
  }
 ],
 "metadata": {
  "kernelspec": {
   "display_name": "Python 3",
   "language": "python",
   "name": "python3"
  },
  "language_info": {
   "codemirror_mode": {
    "name": "ipython",
    "version": 3
   },
   "file_extension": ".py",
   "mimetype": "text/x-python",
   "name": "python",
   "nbconvert_exporter": "python",
   "pygments_lexer": "ipython3",
   "version": "3.8.5"
  }
 },
 "nbformat": 4,
 "nbformat_minor": 4
}
