{
 "cells": [
  {
   "cell_type": "code",
   "execution_count": null,
   "metadata": {},
   "outputs": [],
   "source": [
    "#시간초과난 코드\n",
    "\n",
    "import sys\n",
    "\n",
    "def func():\n",
    "    k=0\n",
    "    List=[1]*(1000000+1)\n",
    "    List[0]=0\n",
    "    List[1]=0\n",
    "    result=[]\n",
    "    for i in range(1000000+1):\n",
    "        if List[i]==1:           \n",
    "            for j in range(2*i,1000000+1,i):\n",
    "                List[j]=0\n",
    "    \n",
    "    for i in range(2,1000000+1):\n",
    "        if i%2!=0 and List[i]==1:\n",
    "            result.append(i)\n",
    "            \n",
    "    return result\n",
    "\n",
    "List=func()\n",
    "while True:\n",
    "    n=int(sys.stdin.readline())\n",
    "    if n==0:\n",
    "        break\n",
    "    else:\n",
    "        check=0\n",
    "        for i in range(n-1,-1,-1):\n",
    "            for j in range(0,n-i+1):\n",
    "                if List[i]+List[j]== n:\n",
    "                    print(f\"{n} = {List[j]} + {List[i]}\")\n",
    "                    check=1\n",
    "                    break\n",
    "            if check==1:\n",
    "                break\n",
    "        #반복문이 모두 끝났는데 check=0임        \n",
    "        if check==0: #나타낼 수 없음\n",
    "            print(\"Goldbach's conjecture is wrong.\")\n",
    "            break\n",
    "            "
   ]
  },
  {
   "cell_type": "code",
   "execution_count": 15,
   "metadata": {},
   "outputs": [
    {
     "name": "stdout",
     "output_type": "stream",
     "text": [
      "42\n",
      "42 = 5 + 37\n",
      "20\n",
      "20 = 3 + 17\n",
      "4\n",
      "Goldbach's conjecture is wrong.\n",
      "8\n",
      "8 = 3 + 5\n",
      "0\n"
     ]
    }
   ],
   "source": [
    "#시간 초과의 이유\n",
    "#1.에라토스테네스의 체를 이용하여 홀수인 소수를 구하는 과정에서 n이 입력될때마다  에라토스 함수를 돌림\n",
    "#2.함수 내에서 홀수인 소수를 저장하는 리스트를 따로 생성함\n",
    "#3.처음에 a 인 부분을 구하면 그 다음 b의 구간은 n-b로 설정해야함\n",
    "import sys\n",
    "\n",
    "#홀수인 소수들만 남기기\n",
    "def func():\n",
    "    k=0\n",
    "    List=[1]*(1000000+1)\n",
    "    List[0]=0\n",
    "    List[1]=0\n",
    "    result=[]\n",
    "    for i in range(1000000+1):\n",
    "        if List[i]==1:           \n",
    "            for j in range(2*i,1000000+1,i):\n",
    "                List[j]=0\n",
    "                \n",
    "        if i%2==0: #짝수 모두 지우기\n",
    "            List[i]=0\n",
    "            \n",
    "    return List\n",
    "\n",
    "List=func()\n",
    "\n",
    "while True:\n",
    "    n=int(sys.stdin.readline())\n",
    "    if n==0:\n",
    "        break\n",
    "    else:\n",
    "        check=0\n",
    "        for i in range(n-1,-1,-1):\n",
    "            for j in range(0,n-i+1):\n",
    "                if List[i] ==1 and List[j] ==1 and i+j== n:\n",
    "                    print(f\"{n} = {j} + {i}\")\n",
    "                    check=1\n",
    "                    break\n",
    "            if check==1:\n",
    "                break\n",
    "        #반복문이 모두 끝났는데 check=0임        \n",
    "        if check==0: #나타낼 수 없음\n",
    "            print(\"Goldbach's conjecture is wrong.\")"
   ]
  },
  {
   "cell_type": "code",
   "execution_count": null,
   "metadata": {},
   "outputs": [],
   "source": []
  }
 ],
 "metadata": {
  "kernelspec": {
   "display_name": "Python 3",
   "language": "python",
   "name": "python3"
  },
  "language_info": {
   "codemirror_mode": {
    "name": "ipython",
    "version": 3
   },
   "file_extension": ".py",
   "mimetype": "text/x-python",
   "name": "python",
   "nbconvert_exporter": "python",
   "pygments_lexer": "ipython3",
   "version": "3.8.5"
  }
 },
 "nbformat": 4,
 "nbformat_minor": 4
}
