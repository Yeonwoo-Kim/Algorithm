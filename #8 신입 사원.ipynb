{
 "cells": [
  {
   "cell_type": "code",
   "execution_count": 3,
   "metadata": {
    "scrolled": true
   },
   "outputs": [
    {
     "name": "stdout",
     "output_type": "stream",
     "text": [
      "1\n",
      "7\n",
      "3 6\n",
      "7 3\n",
      "4 2\n",
      "1 4\n",
      "5 7\n",
      "2 5\n",
      "6 1\n",
      "3\n"
     ]
    }
   ],
   "source": [
    "#import sys\n",
    "#input = sys.stdin.readline\n",
    "t=int(input())\n",
    "list=[]\n",
    "p=0\n",
    "for i in range(t):\n",
    "    del list[:]\n",
    "    cnt=0\n",
    "    n=int(input())\n",
    "    for j in range(n):\n",
    "        a,b=map(int,input().split())\n",
    "        list.append([a,b])\n",
    "    \n",
    "    list=sorted(list,key=lambda x:x[0])\n",
    "    \n",
    "    m_min=list[0][1]\n",
    "    for j in range(1,n):\n",
    "        if(m_min>list[j][1]):\n",
    "            cnt+=1\n",
    "            m_min=list[j][1]\n",
    "    \n",
    "    print(cnt+1)   \n",
    "    \n",
    "    '''\n",
    "    for j in range(1,n):\n",
    "        p=0\n",
    "        for k in range(0,j):\n",
    "            if(list[j][1]>list[k][1]):\n",
    "                break\n",
    "            else:\n",
    "                p+=1\n",
    "                    \n",
    "        if(p==j):\n",
    "            cnt+=1\n",
    "    \n",
    "    print(cnt+1) #우선순위 첫 번째 +1   \n",
    "    '''"
   ]
  }
 ],
 "metadata": {
  "kernelspec": {
   "display_name": "Python 3",
   "language": "python",
   "name": "python3"
  },
  "language_info": {
   "codemirror_mode": {
    "name": "ipython",
    "version": 3
   },
   "file_extension": ".py",
   "mimetype": "text/x-python",
   "name": "python",
   "nbconvert_exporter": "python",
   "pygments_lexer": "ipython3",
   "version": "3.8.3"
  }
 },
 "nbformat": 4,
 "nbformat_minor": 4
}
