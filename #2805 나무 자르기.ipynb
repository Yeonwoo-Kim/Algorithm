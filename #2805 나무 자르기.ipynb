{
 "cells": [
  {
   "cell_type": "markdown",
   "metadata": {},
   "source": [
    "## for 문과 sum(list) 의 시간 복잡도 검색해보기"
   ]
  },
  {
   "cell_type": "code",
   "execution_count": null,
   "metadata": {},
   "outputs": [],
   "source": [
    "# pypy3 으로 시간초과 통과 --> 271608 KB , 528 ms"
   ]
  },
  {
   "cell_type": "code",
   "execution_count": null,
   "metadata": {},
   "outputs": [],
   "source": [
    "import sys\n",
    "\n",
    "n,m=map(int,sys.stdin.readline().rstrip().split())\n",
    "List=list(map(int,sys.stdin.readline().rstrip().split()))\n",
    "\n",
    "start=0\n",
    "end=max(List)\n",
    "result=0\n",
    "\n",
    "while start<=end:\n",
    "    mid=(start+end)//2\n",
    "    total=0\n",
    "\n",
    "    for i in List:\n",
    "        if i>=mid:\n",
    "            total+=i-mid\n",
    "\n",
    "    if total >= m:\n",
    "        start=mid+1\n",
    "        result=mid\n",
    "    else:\n",
    "        end=mid-1\n",
    "\n",
    "print(result)"
   ]
  },
  {
   "cell_type": "code",
   "execution_count": null,
   "metadata": {},
   "outputs": [],
   "source": [
    "#\t147852 KB, 4448 ms 로 python3 통과!!\n",
    "# 저렇게 하나의 리스트에서 더해줄때와, for 문 돌릴때의 시간 복잡도 검색해보기!!!!!!\n",
    "\n",
    "\n",
    "import sys\n",
    "\n",
    "n,m=map(int,sys.stdin.readline().rstrip().split())\n",
    "List=list(map(int,sys.stdin.readline().rstrip().split()))\n",
    "\n",
    "start=0\n",
    "end=max(List)\n",
    "result=0\n",
    "\n",
    "while start<=end:\n",
    "    mid=(start+end)//2\n",
    "    total=0\n",
    "\n",
    "    total=sum([i-mid if mid < i else 0 for i in List])\n",
    "\n",
    "    if total >= m:\n",
    "        start=mid+1\n",
    "        result=mid\n",
    "    else:\n",
    "        end=mid-1\n",
    "\n",
    "print(result)"
   ]
  }
 ],
 "metadata": {
  "kernelspec": {
   "display_name": "Python 3",
   "language": "python",
   "name": "python3"
  },
  "language_info": {
   "codemirror_mode": {
    "name": "ipython",
    "version": 3
   },
   "file_extension": ".py",
   "mimetype": "text/x-python",
   "name": "python",
   "nbconvert_exporter": "python",
   "pygments_lexer": "ipython3",
   "version": "3.8.5"
  }
 },
 "nbformat": 4,
 "nbformat_minor": 4
}
