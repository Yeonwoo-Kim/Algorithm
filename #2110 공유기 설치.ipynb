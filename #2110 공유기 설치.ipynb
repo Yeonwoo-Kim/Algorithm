{
 "cells": [
  {
   "cell_type": "markdown",
   "metadata": {},
   "source": [
    "이분탐색의 공식적인 문제들만 풀어왔다면 이번 문제가 굉장히 어려울 수 있다. 나 또한 문제를 이해하는데에 시간이 걸렸다..\n",
    "f(x)에서 x의 값에 따라 증가함수 또는 감소함수 이므로 이분탐색으로 풀이가 가능하나, x가 되는 변수가 거리이고 start와 end가 최소 거리와 최대거리가 된다는 사고가 조금은 어렵고 불편하게 느껴졌다\n"
   ]
  },
  {
   "cell_type": "markdown",
   "metadata": {},
   "source": [
    "32628 KB \t564 ms"
   ]
  },
  {
   "cell_type": "code",
   "execution_count": 13,
   "metadata": {},
   "outputs": [
    {
     "name": "stdout",
     "output_type": "stream",
     "text": [
      "2 2\n",
      "5\n",
      "6\n",
      "0\n"
     ]
    }
   ],
   "source": [
    "import sys\n",
    "\n",
    "n,c=map(int,sys.stdin.readline().rstrip().split())\n",
    "List=[]\n",
    "for i in range(n):\n",
    "    List.append(int(sys.stdin.readline().rstrip()))\n",
    "List.sort()\n",
    "\n",
    "start=1 #최소거리는 1\n",
    "end=List[n-1]-List[0]\n",
    "result=0\n",
    "\n",
    "while start<=end:\n",
    "    mid=(start+end)//2\n",
    "    cnt=1 # 공유기의 개수\n",
    "    ptr=List[0] # 첫번째는 공유기 설치\n",
    "    \n",
    "    #인접하는 거리가 mid 이상인 거리일때 세울 수 있는 공유기의 개수를 구해보자\n",
    "    for i in range(1,n):\n",
    "        if List[i]-ptr >=mid:\n",
    "            cnt+=1\n",
    "            ptr=List[i]\n",
    "            \n",
    "    if cnt >= c: #거리를 넓혀야함\n",
    "        result=mid\n",
    "        start=mid+1\n",
    "        \n",
    "    else:\n",
    "        end=mid-1\n",
    "        \n",
    "print(result)  "
   ]
  },
  {
   "cell_type": "code",
   "execution_count": null,
   "metadata": {},
   "outputs": [],
   "source": []
  }
 ],
 "metadata": {
  "kernelspec": {
   "display_name": "Python 3",
   "language": "python",
   "name": "python3"
  },
  "language_info": {
   "codemirror_mode": {
    "name": "ipython",
    "version": 3
   },
   "file_extension": ".py",
   "mimetype": "text/x-python",
   "name": "python",
   "nbconvert_exporter": "python",
   "pygments_lexer": "ipython3",
   "version": "3.8.5"
  }
 },
 "nbformat": 4,
 "nbformat_minor": 4
}
