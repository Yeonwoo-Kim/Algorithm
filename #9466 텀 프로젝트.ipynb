{
 "cells": [
  {
   "cell_type": "code",
   "execution_count": null,
   "metadata": {},
   "outputs": [],
   "source": [
    "# 그래프에서 사이클 확인할 때 그룹이름을 붙여줘서, 거꾸로 갔을 때 같으면 같은 그룹"
   ]
  },
  {
   "cell_type": "code",
   "execution_count": 9,
   "metadata": {},
   "outputs": [
    {
     "name": "stdout",
     "output_type": "stream",
     "text": [
      "1\n",
      "8\n",
      "1 2 3 4 5 6 7 8\n",
      "0\n"
     ]
    }
   ],
   "source": [
    "import sys\n",
    "\n",
    "N=int(sys.stdin.readline().rstrip())\n",
    "\n",
    "for i in range(N):\n",
    "    n=int(input())\n",
    "    List=[0]+list(map(int,sys.stdin.readline().rstrip().split()))\n",
    "    visited=[0]*(n+1)\n",
    "    \n",
    "    group=1\n",
    "    \n",
    "    for j in range(1,n+1):\n",
    "        if visited[j]==0:\n",
    "            while visited[j]==0:\n",
    "                visited[j]=group\n",
    "                j=List[j]\n",
    "            while visited[j]==group: #거꾸로 돌아가면서 같은 그룹애들이면 -1로 체크\n",
    "                visited[j]=-1\n",
    "                j=List[j]\n",
    "            group+=1\n",
    "    cnt=0        \n",
    "    for i in visited:\n",
    "        if i!=0 and i!=-1:\n",
    "            cnt+=1\n",
    "    print(cnt)\n",
    "    "
   ]
  }
 ],
 "metadata": {
  "kernelspec": {
   "display_name": "Python 3",
   "language": "python",
   "name": "python3"
  },
  "language_info": {
   "codemirror_mode": {
    "name": "ipython",
    "version": 3
   },
   "file_extension": ".py",
   "mimetype": "text/x-python",
   "name": "python",
   "nbconvert_exporter": "python",
   "pygments_lexer": "ipython3",
   "version": "3.8.5"
  }
 },
 "nbformat": 4,
 "nbformat_minor": 4
}
