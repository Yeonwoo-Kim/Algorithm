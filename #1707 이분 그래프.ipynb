{
 "cells": [
  {
   "cell_type": "code",
   "execution_count": null,
   "metadata": {},
   "outputs": [],
   "source": [
    "from collections import deque\n",
    "import sys\n",
    "\n",
    "n = int(sys.stdin.readline().rstrip())\n",
    "\n",
    "for i in range(n):\n",
    "    \n",
    "    que = deque()\n",
    "    v, e = map(int, sys.stdin.readline().rstrip().split())\n",
    "    graph = {i: [] for i in range(1, v + 1)}\n",
    "    visited = [0 for i in range(v)]\n",
    "    c = 0\n",
    "\n",
    "    for j in range(e):\n",
    "        a, b = map(int, sys.stdin.readline().rstrip().split())\n",
    "        graph[a].append(b)\n",
    "        graph[b].append(a)\n",
    "\n",
    "    check = 0  # 처음 애인지 체크\n",
    "    for j in range(1, v + 1):\n",
    "        if not graph[j]:\n",
    "            continue\n",
    "        else:  # 그래프가 비어있지 않음\n",
    "            que.append(j)\n",
    "\n",
    "        while que:\n",
    "            p = que.popleft()\n",
    "\n",
    "            if visited[p-1]==0:\n",
    "                visited[p-1]=1\n",
    "\n",
    "            for k in graph[p]:\n",
    "                if visited[k-1]==visited[p-1]:\n",
    "                    print(\"NO\")\n",
    "                    c=-1\n",
    "                    break\n",
    "\n",
    "                elif visited[k - 1] == 0:\n",
    "                    visited[k - 1] = -visited[p - 1]\n",
    "                    que.append(k)\n",
    "            if c==-1:\n",
    "                break\n",
    "\n",
    "        if c == -1:\n",
    "            break\n",
    "\n",
    "    if c == 0:\n",
    "        print(\"YES\")\n"
   ]
  }
 ],
 "metadata": {
  "kernelspec": {
   "display_name": "Python 3",
   "language": "python",
   "name": "python3"
  },
  "language_info": {
   "codemirror_mode": {
    "name": "ipython",
    "version": 3
   },
   "file_extension": ".py",
   "mimetype": "text/x-python",
   "name": "python",
   "nbconvert_exporter": "python",
   "pygments_lexer": "ipython3",
   "version": "3.8.5"
  }
 },
 "nbformat": 4,
 "nbformat_minor": 4
}
