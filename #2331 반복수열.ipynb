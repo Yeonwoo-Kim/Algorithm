{
 "cells": [
  {
   "cell_type": "code",
   "execution_count": 2,
   "metadata": {},
   "outputs": [
    {
     "name": "stdout",
     "output_type": "stream",
     "text": [
      "57 2\n",
      "4\n"
     ]
    }
   ],
   "source": [
    "#런 타임 에러 = visited 범위 조정\n",
    "from collections import deque\n",
    "\n",
    "que=deque()\n",
    "\n",
    "visited=[0]*10000\n",
    "\n",
    "A,P=map(int,input().split())\n",
    "\n",
    "i=A\n",
    "que.append(i)\n",
    "visited[i]=1\n",
    "\n",
    "check=0\n",
    "cnt=0\n",
    "\n",
    "while True:\n",
    "    data=0\n",
    "        \n",
    "    for j in str(i):\n",
    "        data+=int(j)**P\n",
    "\n",
    "    i=data\n",
    "\n",
    "    if visited[i]==0:\n",
    "        que.append(i)\n",
    "        visited[i]=1\n",
    "        \n",
    "    else: #이미 한번 방문했었음\n",
    "        visited[i]=2\n",
    "        break\n",
    "        \n",
    "while que:\n",
    "    p=que.popleft()\n",
    "    if visited[p]==2:\n",
    "        break\n",
    "    elif visited[p]==1:\n",
    "        cnt+=1\n",
    "        \n",
    "print(cnt)            \n",
    "        "
   ]
  },
  {
   "cell_type": "code",
   "execution_count": null,
   "metadata": {},
   "outputs": [],
   "source": [
    "# 1<=A<=9999\n",
    "# 1<=P<=5\n",
    "\n",
    "from collections import deque\n",
    "import sys\n",
    "\n",
    "que = deque()\n",
    "k=(9**5)*4\n",
    "visited = [0] * (k+1)\n",
    "\n",
    "A, P = map(int, sys.stdin.readline().split())\n",
    "\n",
    "i = A\n",
    "que.append(i)\n",
    "visited[i] = 1\n",
    "\n",
    "check = 0\n",
    "cnt = 0\n",
    "\n",
    "while True:\n",
    "    data = 0\n",
    "\n",
    "    for j in str(i):\n",
    "        data += int(j) ** P\n",
    "\n",
    "    i = data\n",
    "\n",
    "    if visited[i] == 0:\n",
    "        que.append(i)\n",
    "        visited[i] = 1\n",
    "\n",
    "    else:  # 이미 한번 방문했었음\n",
    "        visited[i] = 2\n",
    "        break\n",
    "\n",
    "while que:\n",
    "    p = que.popleft()\n",
    "    if visited[p] == 2:\n",
    "        break\n",
    "    elif visited[p] == 1:\n",
    "        cnt += 1\n",
    "\n",
    "print(cnt)\n"
   ]
  }
 ],
 "metadata": {
  "kernelspec": {
   "display_name": "Python 3",
   "language": "python",
   "name": "python3"
  },
  "language_info": {
   "codemirror_mode": {
    "name": "ipython",
    "version": 3
   },
   "file_extension": ".py",
   "mimetype": "text/x-python",
   "name": "python",
   "nbconvert_exporter": "python",
   "pygments_lexer": "ipython3",
   "version": "3.8.5"
  }
 },
 "nbformat": 4,
 "nbformat_minor": 4
}
