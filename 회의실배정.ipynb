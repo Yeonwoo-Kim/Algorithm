{
 "cells": [
  {
   "cell_type": "code",
   "execution_count": 26,
   "metadata": {
    "scrolled": false
   },
   "outputs": [
    {
     "name": "stdout",
     "output_type": "stream",
     "text": [
      "11\n",
      "1 4\n",
      "3 5\n",
      "0 6\n",
      "5 7\n",
      "3 8\n",
      "5 9\n",
      "6 10\n",
      "8 11\n",
      "8 12\n",
      "2 13\n",
      "12 14\n"
     ]
    }
   ],
   "source": [
    "n=int(input())\n",
    "t_list=[]\n",
    "cnt=0\n",
    "for i in range(n):\n",
    "    meet=list(map(int,input().split()))\n",
    "    t_list.append(meet)\n",
    "\n",
    "t_list=sorted(t_list,key=lambda x:x[0])\n",
    "t_list=sorted(t_list,key=lambda x:x[1])\n",
    "\n",
    "end=0\n",
    "\n",
    "for i,j in t_list:\n",
    "    if(i>=end):\n",
    "        cnt+=1\n",
    "        end=j\n",
    "\n",
    "print(cnt)"
   ]
  }
 ],
 "metadata": {
  "kernelspec": {
   "display_name": "Python 3",
   "language": "python",
   "name": "python3"
  },
  "language_info": {
   "codemirror_mode": {
    "name": "ipython",
    "version": 3
   },
   "file_extension": ".py",
   "mimetype": "text/x-python",
   "name": "python",
   "nbconvert_exporter": "python",
   "pygments_lexer": "ipython3",
   "version": "3.8.3"
  }
 },
 "nbformat": 4,
 "nbformat_minor": 4
}
