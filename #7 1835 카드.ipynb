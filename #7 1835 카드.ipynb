{
 "cells": [
  {
   "cell_type": "code",
   "execution_count": 5,
   "metadata": {},
   "outputs": [
    {
     "name": "stdout",
     "output_type": "stream",
     "text": [
      "6\n",
      "1\n",
      "2\n",
      "1\n",
      "2\n",
      "1\n",
      "2\n",
      "1\n"
     ]
    }
   ],
   "source": [
    "n=int(input())\n",
    "List=[]\n",
    "\n",
    "for i in range(n):\n",
    "    List.append(int(input()))\n",
    "List=sorted(List)\n",
    "\n",
    "i=0\n",
    "ptr=0\n",
    "cnt=0\n",
    "max_cnt=0\n",
    "Max=0\n",
    "\n",
    "while i<n:\n",
    "    ptr=List[i]\n",
    "    cnt=0\n",
    "    while List[i]==ptr:\n",
    "        cnt+=1\n",
    "        i+=1\n",
    "        if i==n:\n",
    "            break\n",
    "    if max_cnt<cnt:\n",
    "        max_cnt=cnt\n",
    "        Max=ptr\n",
    "\n",
    "print(Max)\n",
    "        "
   ]
  },
  {
   "cell_type": "code",
   "execution_count": null,
   "metadata": {},
   "outputs": [],
   "source": []
  }
 ],
 "metadata": {
  "kernelspec": {
   "display_name": "Python 3",
   "language": "python",
   "name": "python3"
  },
  "language_info": {
   "codemirror_mode": {
    "name": "ipython",
    "version": 3
   },
   "file_extension": ".py",
   "mimetype": "text/x-python",
   "name": "python",
   "nbconvert_exporter": "python",
   "pygments_lexer": "ipython3",
   "version": "3.8.5"
  }
 },
 "nbformat": 4,
 "nbformat_minor": 4
}
