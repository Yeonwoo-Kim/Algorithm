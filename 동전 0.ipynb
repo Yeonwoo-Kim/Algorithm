{
 "cells": [
  {
   "cell_type": "code",
   "execution_count": 9,
   "metadata": {},
   "outputs": [
    {
     "name": "stdout",
     "output_type": "stream",
     "text": [
      "3 5000\n",
      "10\n",
      "40\n",
      "5000\n",
      "1\n"
     ]
    }
   ],
   "source": [
    "n,k=map(int,input().split())\n",
    "money=[int(input()) for _ in range(n)]\n",
    "\n",
    "money.sort(reverse=True)\n",
    "cnt=0\n",
    "\n",
    "for i in money:\n",
    "    if(i>k):\n",
    "        continue\n",
    "    elif(i==k):\n",
    "        cnt+=1\n",
    "        break\n",
    "    else:\n",
    "        cnt+=k//i\n",
    "        k=k%i\n",
    "    if(k==0):\n",
    "        break\n",
    "        \n",
    "print(cnt)        \n",
    "    "
   ]
  }
 ],
 "metadata": {
  "kernelspec": {
   "display_name": "Python 3",
   "language": "python",
   "name": "python3"
  },
  "language_info": {
   "codemirror_mode": {
    "name": "ipython",
    "version": 3
   },
   "file_extension": ".py",
   "mimetype": "text/x-python",
   "name": "python",
   "nbconvert_exporter": "python",
   "pygments_lexer": "ipython3",
   "version": "3.8.3"
  }
 },
 "nbformat": 4,
 "nbformat_minor": 4
}
