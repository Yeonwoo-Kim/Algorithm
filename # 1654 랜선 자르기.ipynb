{
 "cells": [
  {
   "cell_type": "code",
   "execution_count": null,
   "metadata": {},
   "outputs": [],
   "source": [
    "#반례\n",
    "#1 1\n",
    "#1 --> 1\n",
    "# 2 2\n",
    "#1 4 -->2"
   ]
  },
  {
   "cell_type": "markdown",
   "metadata": {},
   "source": [
    "29028 KB, 124 ms"
   ]
  },
  {
   "cell_type": "code",
   "execution_count": 16,
   "metadata": {},
   "outputs": [
    {
     "name": "stdout",
     "output_type": "stream",
     "text": [
      "1 1\n",
      "1\n",
      "1\n"
     ]
    }
   ],
   "source": [
    "import sys\n",
    "\n",
    "n,x=map(int,sys.stdin.readline().rstrip().split())\n",
    "List=[]\n",
    "for i in range(n):\n",
    "    List.append(int(sys.stdin.readline().rstrip()))\n",
    "    \n",
    "start=0\n",
    "end=max(List)\n",
    "result=0\n",
    "\n",
    "while start<=end:\n",
    "    cnt=0\n",
    "    if start+end==1:\n",
    "        mid=1\n",
    "    else:\n",
    "        mid=(start+end)//2\n",
    "    \n",
    "    for i in List:\n",
    "        if i>=mid:\n",
    "            cnt+=i//mid\n",
    "    \n",
    "    if cnt >= x:\n",
    "        result=mid\n",
    "        start=mid+1\n",
    "        \n",
    "    elif cnt < x:\n",
    "        end=mid-1\n",
    "        \n",
    "print(result)\n",
    "        "
   ]
  },
  {
   "cell_type": "code",
   "execution_count": null,
   "metadata": {},
   "outputs": [],
   "source": []
  }
 ],
 "metadata": {
  "kernelspec": {
   "display_name": "Python 3",
   "language": "python",
   "name": "python3"
  },
  "language_info": {
   "codemirror_mode": {
    "name": "ipython",
    "version": 3
   },
   "file_extension": ".py",
   "mimetype": "text/x-python",
   "name": "python",
   "nbconvert_exporter": "python",
   "pygments_lexer": "ipython3",
   "version": "3.8.5"
  }
 },
 "nbformat": 4,
 "nbformat_minor": 4
}
