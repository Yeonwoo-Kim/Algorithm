{
 "cells": [
  {
   "cell_type": "code",
   "execution_count": 23,
   "metadata": {},
   "outputs": [
    {
     "name": "stdout",
     "output_type": "stream",
     "text": [
      "1\n"
     ]
    }
   ],
   "source": [
    "#n이하의 소수들만 남기기\n",
    "def func(n):\n",
    "    k=0\n",
    "    List=[1]*(n+1)\n",
    "    List[0]=0\n",
    "    List[1]=0\n",
    "    result=[]\n",
    "    for i in range(n+1):\n",
    "        if List[i]==1:           \n",
    "            for j in range(2*i,n+1,i):\n",
    "                List[j]=0\n",
    "    \n",
    "    for i in range(2,n+1):\n",
    "        if List[i]==1:\n",
    "            result.append(i)\n",
    "            \n",
    "    return result\n",
    "\n",
    "n=int(input())\n",
    "List=func(n)\n",
    "\n",
    "if n!=1:\n",
    "    while True:\n",
    "        if n==1:\n",
    "            break\n",
    "        for i in List:\n",
    "            while True:\n",
    "                if n%i!=0:\n",
    "                    break\n",
    "                elif n%i==0:\n",
    "                    print(i)\n",
    "                    n=n//i\n",
    "                \n",
    "   "
   ]
  }
 ],
 "metadata": {
  "kernelspec": {
   "display_name": "Python 3",
   "language": "python",
   "name": "python3"
  },
  "language_info": {
   "codemirror_mode": {
    "name": "ipython",
    "version": 3
   },
   "file_extension": ".py",
   "mimetype": "text/x-python",
   "name": "python",
   "nbconvert_exporter": "python",
   "pygments_lexer": "ipython3",
   "version": "3.8.5"
  }
 },
 "nbformat": 4,
 "nbformat_minor": 4
}
