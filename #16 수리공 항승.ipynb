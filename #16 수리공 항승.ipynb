{
 "cells": [
  {
   "cell_type": "code",
   "execution_count": 30,
   "metadata": {},
   "outputs": [
    {
     "name": "stdout",
     "output_type": "stream",
     "text": [
      "4 2\n",
      "1 2 100 101\n",
      "2\n"
     ]
    }
   ],
   "source": [
    "n,L=map(int,input().split())\n",
    "List=list(map(int,input().split()))\n",
    "List=sorted(List,key=lambda x:x)\n",
    "cnt=0\n",
    "m=0\n",
    "\n",
    "for i in range(n-1):\n",
    "    m+=List[i+1]-List[i]\n",
    "    \n",
    "    if m > L-1:\n",
    "        cnt+=1\n",
    "        m=0\n",
    "    \n",
    "\n",
    "print(cnt+1)\n"
   ]
  },
  {
   "cell_type": "code",
   "execution_count": null,
   "metadata": {},
   "outputs": [],
   "source": []
  }
 ],
 "metadata": {
  "kernelspec": {
   "display_name": "Python 3",
   "language": "python",
   "name": "python3"
  },
  "language_info": {
   "codemirror_mode": {
    "name": "ipython",
    "version": 3
   },
   "file_extension": ".py",
   "mimetype": "text/x-python",
   "name": "python",
   "nbconvert_exporter": "python",
   "pygments_lexer": "ipython3",
   "version": "3.8.3"
  }
 },
 "nbformat": 4,
 "nbformat_minor": 4
}
