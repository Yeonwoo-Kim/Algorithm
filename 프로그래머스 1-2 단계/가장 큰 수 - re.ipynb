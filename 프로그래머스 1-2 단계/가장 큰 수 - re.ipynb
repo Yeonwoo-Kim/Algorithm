{
 "cells": [
  {
   "cell_type": "code",
   "execution_count": 4,
   "metadata": {},
   "outputs": [
    {
     "name": "stdout",
     "output_type": "stream",
     "text": [
      "f\n"
     ]
    }
   ],
   "source": [
    "def solution(numbers):\n",
    "    \n",
    "    List=list(map(str,numbers))\n",
    "    \n",
    "    List=sorted(List,key=lambda x:x*3,reverse=True)\n",
    "    \n",
    "    answer=''.join(List)\n",
    "    answer=int(answer)\n",
    "    \n",
    "    return str(answer)"
   ]
  }
 ],
 "metadata": {
  "kernelspec": {
   "display_name": "Python 3",
   "language": "python",
   "name": "python3"
  },
  "language_info": {
   "codemirror_mode": {
    "name": "ipython",
    "version": 3
   },
   "file_extension": ".py",
   "mimetype": "text/x-python",
   "name": "python",
   "nbconvert_exporter": "python",
   "pygments_lexer": "ipython3",
   "version": "3.8.5"
  }
 },
 "nbformat": 4,
 "nbformat_minor": 4
}
