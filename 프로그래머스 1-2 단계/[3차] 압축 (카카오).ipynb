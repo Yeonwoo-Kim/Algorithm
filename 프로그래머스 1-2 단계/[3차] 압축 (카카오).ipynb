{
 "cells": [
  {
   "cell_type": "code",
   "execution_count": 1,
   "metadata": {},
   "outputs": [],
   "source": [
    "def solution(msg):\n",
    "    answer = []\n",
    "    dic=[0]\n",
    "    \n",
    "    for i in range(26):\n",
    "        dic.append(chr(i+65))\n",
    "        \n",
    "    i=0\n",
    "    check=0\n",
    "    \n",
    "    while True:\n",
    "            \n",
    "        if msg[i] in dic:\n",
    "            ptr=msg[i]\n",
    "            idx=i\n",
    "            while True:                    \n",
    "                if msg[i:idx+1] in dic:\n",
    "                    if idx==len(msg)-1:\n",
    "                        answer.append(dic.index(msg[i:idx+1]))\n",
    "                        check=1\n",
    "                        break\n",
    "                        \n",
    "                    else:\n",
    "                        idx+=1\n",
    "                        \n",
    "                else:\n",
    "                    answer.append(dic.index(msg[i:idx]))\n",
    "                    dic.append(msg[i:idx+1])                    \n",
    "                    i=idx\n",
    "                    break\n",
    "                    \n",
    "            if check==1:\n",
    "                break\n",
    "        \n",
    "    return answer"
   ]
  }
 ],
 "metadata": {
  "kernelspec": {
   "display_name": "Python 3",
   "language": "python",
   "name": "python3"
  },
  "language_info": {
   "codemirror_mode": {
    "name": "ipython",
    "version": 3
   },
   "file_extension": ".py",
   "mimetype": "text/x-python",
   "name": "python",
   "nbconvert_exporter": "python",
   "pygments_lexer": "ipython3",
   "version": "3.8.5"
  }
 },
 "nbformat": 4,
 "nbformat_minor": 4
}
