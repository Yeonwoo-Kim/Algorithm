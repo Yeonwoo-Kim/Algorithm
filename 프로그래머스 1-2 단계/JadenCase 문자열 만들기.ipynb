{
 "cells": [
  {
   "cell_type": "code",
   "execution_count": 5,
   "metadata": {},
   "outputs": [],
   "source": [
    "def solution(s):\n",
    "    answer = ''\n",
    "    start=0\n",
    "    \n",
    "    for i in range(len(s)):\n",
    "        if s[i]==' ':\n",
    "            answer+=' '\n",
    "        elif start==0 and s[i]!=' ':\n",
    "            answer+=s[i].upper()\n",
    "            start=1\n",
    "        elif s[i-1]==' ' and s[i]!=' ':\n",
    "            answer+=s[i].upper()\n",
    "        else:\n",
    "            answer+=s[i].lower()  \n",
    "            \n",
    "    return answer"
   ]
  }
 ],
 "metadata": {
  "kernelspec": {
   "display_name": "Python 3",
   "language": "python",
   "name": "python3"
  },
  "language_info": {
   "codemirror_mode": {
    "name": "ipython",
    "version": 3
   },
   "file_extension": ".py",
   "mimetype": "text/x-python",
   "name": "python",
   "nbconvert_exporter": "python",
   "pygments_lexer": "ipython3",
   "version": "3.8.5"
  }
 },
 "nbformat": 4,
 "nbformat_minor": 4
}
