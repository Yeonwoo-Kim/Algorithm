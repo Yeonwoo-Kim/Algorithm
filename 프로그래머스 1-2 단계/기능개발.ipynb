{
 "cells": [
  {
   "cell_type": "code",
   "execution_count": 2,
   "metadata": {},
   "outputs": [],
   "source": [
    "import math\n",
    "def solution(progresses, speeds):\n",
    "    answer = []\n",
    "    result=[]\n",
    "    remove=[]\n",
    "    n=len(progresses)\n",
    "    \n",
    "    for i in range(n):\n",
    "        k=math.ceil((100-progresses[i])/speeds[i])\n",
    "        result.append(k)\n",
    "        \n",
    "    while True:\n",
    "        if n==0:\n",
    "            break\n",
    "        s=result[0]\n",
    "        cnt=0\n",
    "        \n",
    "        for i in result:\n",
    "            if i<=s:\n",
    "                cnt+=1\n",
    "                remove.append(i) #지울 것\n",
    "                n-=1\n",
    "            else:\n",
    "                break\n",
    "                \n",
    "        if cnt==0:\n",
    "            cnt=1\n",
    "            n-=1\n",
    "        \n",
    "        #카운트 한 것은 지움\n",
    "        for r in remove:\n",
    "            result.remove(r)\n",
    "            \n",
    "        remove.clear()\n",
    "            \n",
    "        answer.append(cnt)\n",
    "        \n",
    "    return answer\n"
   ]
  }
 ],
 "metadata": {
  "kernelspec": {
   "display_name": "Python 3",
   "language": "python",
   "name": "python3"
  },
  "language_info": {
   "codemirror_mode": {
    "name": "ipython",
    "version": 3
   },
   "file_extension": ".py",
   "mimetype": "text/x-python",
   "name": "python",
   "nbconvert_exporter": "python",
   "pygments_lexer": "ipython3",
   "version": "3.8.5"
  }
 },
 "nbformat": 4,
 "nbformat_minor": 4
}
