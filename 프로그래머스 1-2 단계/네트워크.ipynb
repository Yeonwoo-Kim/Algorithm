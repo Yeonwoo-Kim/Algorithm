{
 "cells": [
  {
   "cell_type": "code",
   "execution_count": 6,
   "metadata": {},
   "outputs": [],
   "source": [
    "from collections import deque\n",
    "def solution(n, computers):\n",
    "    que=deque()\n",
    "    cnt = 0\n",
    "    visited=[0]*(n)\n",
    "    for i in range(n):\n",
    "        computers[i][i]=0\n",
    "        if 1 in computers[i]: # 외톨이가 아니면\n",
    "            continue\n",
    "        else:\n",
    "            visited[i]=1\n",
    "            cnt+=1\n",
    "            \n",
    "    for i in range(n):\n",
    "        for j in range(n):\n",
    "            if visited[i]==1:\n",
    "                continue\n",
    "            else:\n",
    "                if computers[i][j]==1:\n",
    "                    que.append((i,j))\n",
    "                    computers[i][j]=0\n",
    "                    visited[i]=1\n",
    "                    cnt+=1\n",
    "                    \n",
    "        while que:\n",
    "            x,y=que.pop()\n",
    "            for k in range(n):\n",
    "                if computers[y][k]==1:\n",
    "                    que.append((y,k))\n",
    "                    computers[y][k]=0\n",
    "                    visited[y]=1\n",
    "        if 1 in visited:\n",
    "            continue\n",
    "        else:\n",
    "            break\n",
    "            \n",
    "    return cnt"
   ]
  }
 ],
 "metadata": {
  "kernelspec": {
   "display_name": "Python 3",
   "language": "python",
   "name": "python3"
  },
  "language_info": {
   "codemirror_mode": {
    "name": "ipython",
    "version": 3
   },
   "file_extension": ".py",
   "mimetype": "text/x-python",
   "name": "python",
   "nbconvert_exporter": "python",
   "pygments_lexer": "ipython3",
   "version": "3.8.5"
  }
 },
 "nbformat": 4,
 "nbformat_minor": 4
}
