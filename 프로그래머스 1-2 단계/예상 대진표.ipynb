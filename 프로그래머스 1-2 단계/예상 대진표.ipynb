{
 "cells": [
  {
   "cell_type": "code",
   "execution_count": null,
   "metadata": {},
   "outputs": [],
   "source": [
    "def solution(n,a,b):\n",
    "    answer=0\n",
    "    \n",
    "    for i in range(1,n//2+1):\n",
    "        if abs(a-b)==1 and (a+1)//2==(b+1)//2:\n",
    "            answer=i\n",
    "            break\n",
    "        else:\n",
    "            a=(a+1)//2\n",
    "            b=(b+1)//2\n",
    "\n",
    "    return answer"
   ]
  }
 ],
 "metadata": {
  "kernelspec": {
   "display_name": "Python 3",
   "language": "python",
   "name": "python3"
  },
  "language_info": {
   "codemirror_mode": {
    "name": "ipython",
    "version": 3
   },
   "file_extension": ".py",
   "mimetype": "text/x-python",
   "name": "python",
   "nbconvert_exporter": "python",
   "pygments_lexer": "ipython3",
   "version": "3.8.5"
  }
 },
 "nbformat": 4,
 "nbformat_minor": 4
}
