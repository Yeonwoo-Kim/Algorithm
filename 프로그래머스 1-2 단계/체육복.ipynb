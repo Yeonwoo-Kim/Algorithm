{
 "cells": [
  {
   "cell_type": "code",
   "execution_count": 16,
   "metadata": {},
   "outputs": [],
   "source": [
    "import copy\n",
    "def solution(n, lost, reserve):\n",
    "    answer = n-len(lost)\n",
    "    \n",
    "    lost.sort()\n",
    "    reserve.sort()\n",
    "    lost2=copy.deepcopy(lost)\n",
    "    \n",
    "    \n",
    "    #자기 자신에게 빌려주는 애\n",
    "    answer+=len(list(set(lost) & set(reserve)))\n",
    "    \n",
    "    lost=list(set(lost)-set(reserve))\n",
    "    reserve=list(set(reserve)-set(lost2))\n",
    "\n",
    "    \n",
    "    for i in range(len(reserve)):        \n",
    "        ptr=reserve[i] #빌려줄 수 있는애\n",
    "        \n",
    "        if len(lost)>0:\n",
    "            \n",
    "            if ptr-1 in lost:\n",
    "                answer+=1\n",
    "                lost.remove(ptr-1)\n",
    "                \n",
    "            elif ptr+1 in lost:\n",
    "                answer+=1\n",
    "                lost.remove(ptr+1)\n",
    "                            \n",
    "    return answer"
   ]
  }
 ],
 "metadata": {
  "kernelspec": {
   "display_name": "Python 3",
   "language": "python",
   "name": "python3"
  },
  "language_info": {
   "codemirror_mode": {
    "name": "ipython",
    "version": 3
   },
   "file_extension": ".py",
   "mimetype": "text/x-python",
   "name": "python",
   "nbconvert_exporter": "python",
   "pygments_lexer": "ipython3",
   "version": "3.8.5"
  }
 },
 "nbformat": 4,
 "nbformat_minor": 4
}
