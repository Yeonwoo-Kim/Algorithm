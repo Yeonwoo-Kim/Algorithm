{
 "cells": [
  {
   "cell_type": "code",
   "execution_count": 1,
   "metadata": {},
   "outputs": [],
   "source": [
    "import math\n",
    "def solution(str1, str2):\n",
    "    answer = 0\n",
    "    str1=str1.lower()\n",
    "    str2=str2.lower()\n",
    "    \n",
    "    if len(str1)==0 or len(str2)==0 or str1==str2:\n",
    "        return 65536\n",
    "    \n",
    "    List1=[]\n",
    "    for i in range(len(str1)-1):\n",
    "        if str1[i].isalpha() and str1[i+1].isalpha():\n",
    "            List1.append(str1[i:i+2])\n",
    "        \n",
    "    List2=[]\n",
    "    for i in range(len(str2)-1):\n",
    "        if str2[i].isalpha() and str2[i+1].isalpha():\n",
    "            List2.append(str2[i:i+2])\n",
    "            \n",
    "    \n",
    "    set1=set(List1)\n",
    "    set2=set(List2)\n",
    "    \n",
    "    cnt1=0\n",
    "    cnt2=0\n",
    "    \n",
    "    # 교집합\n",
    "    sub=set1&set2\n",
    "    for i in sub: # 중복확인\n",
    "        cnt1+=min(List1.count(i),List2.count(i))\n",
    "    \n",
    "    # 합집합   \n",
    "    for i in List1:\n",
    "        if i not in sub:\n",
    "            cnt2+=1\n",
    "    \n",
    "    for i in List2:\n",
    "        if i not in sub:\n",
    "            cnt2+=1\n",
    "    \n",
    "    for i in sub:\n",
    "        cnt2+=max(List1.count(i),List2.count(i))\n",
    "\n",
    "        \n",
    "    if cnt2==0:\n",
    "        return 65536\n",
    "    \n",
    "    answer=math.floor((cnt1/cnt2)*65536)\n",
    "    \n",
    "    \n",
    "    \n",
    "    return answer"
   ]
  }
 ],
 "metadata": {
  "kernelspec": {
   "display_name": "Python 3",
   "language": "python",
   "name": "python3"
  },
  "language_info": {
   "codemirror_mode": {
    "name": "ipython",
    "version": 3
   },
   "file_extension": ".py",
   "mimetype": "text/x-python",
   "name": "python",
   "nbconvert_exporter": "python",
   "pygments_lexer": "ipython3",
   "version": "3.8.5"
  }
 },
 "nbformat": 4,
 "nbformat_minor": 4
}
