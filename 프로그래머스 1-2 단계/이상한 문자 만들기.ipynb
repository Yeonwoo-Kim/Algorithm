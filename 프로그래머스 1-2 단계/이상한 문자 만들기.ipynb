{
 "cells": [
  {
   "cell_type": "code",
   "execution_count": null,
   "metadata": {},
   "outputs": [],
   "source": [
    "def solution(s):\n",
    "    answer = ''\n",
    "    i=0\n",
    "    k=0 # 공백 구분\n",
    "    \n",
    "    for i in range(len(s)):\n",
    "        if s[i]==' ':\n",
    "            answer+=s[i]\n",
    "            k=0\n",
    "            \n",
    "        else:\n",
    "            if k%2==0: #짝수일때\n",
    "                #이미 대문자\n",
    "                o=ord(s[i])\n",
    "                if o>=65 and o<=90:\n",
    "                    answer+=s[i]\n",
    "                else:  \n",
    "                    answer+=chr(o-32)\n",
    "                k+=1\n",
    "\n",
    "            elif k%2!=0: #홀수일때\n",
    "                #이미 소문자\n",
    "                o=ord(s[i])\n",
    "                if o>=97 and o<=122:\n",
    "                    answer+=s[i]\n",
    "                else:  \n",
    "                    answer+=chr(o+32)\n",
    "                k+=1\n",
    "                  \n",
    "    return answer"
   ]
  }
 ],
 "metadata": {
  "kernelspec": {
   "display_name": "Python 3",
   "language": "python",
   "name": "python3"
  },
  "language_info": {
   "codemirror_mode": {
    "name": "ipython",
    "version": 3
   },
   "file_extension": ".py",
   "mimetype": "text/x-python",
   "name": "python",
   "nbconvert_exporter": "python",
   "pygments_lexer": "ipython3",
   "version": "3.8.5"
  }
 },
 "nbformat": 4,
 "nbformat_minor": 4
}
