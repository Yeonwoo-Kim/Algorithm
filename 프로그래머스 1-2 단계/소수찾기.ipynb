{
 "cells": [
  {
   "cell_type": "code",
   "execution_count": null,
   "metadata": {},
   "outputs": [],
   "source": [
    "def solution(n):\n",
    "    \n",
    "    List=[1]*(n+1) #소수인 애들은 1로 채움 초기화\n",
    "    List[0]=0\n",
    "    List[1]=0\n",
    "    result=[]\n",
    "    for i in range(2,n+1):\n",
    "        if List[i]==1:\n",
    "            result.append(i)\n",
    "        for j in range(2*i,n+1,i): #2배,3배,4배..\n",
    "            List[j]=0\n",
    "   \n",
    "    return len(result)"
   ]
  }
 ],
 "metadata": {
  "kernelspec": {
   "display_name": "Python 3",
   "language": "python",
   "name": "python3"
  }
 },
 "nbformat": 4,
 "nbformat_minor": 4
}
