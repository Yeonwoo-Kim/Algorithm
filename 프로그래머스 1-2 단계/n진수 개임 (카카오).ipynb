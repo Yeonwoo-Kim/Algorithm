{
 "cells": [
  {
   "cell_type": "code",
   "execution_count": 1,
   "metadata": {},
   "outputs": [],
   "source": [
    "def solution(n, t, m, p):\n",
    "    answer = ''\n",
    "    result='0'    \n",
    "\n",
    "    for i in range(100000):\n",
    "        s=''\n",
    "        #n 진법 구하기\n",
    "        while i!=0:\n",
    "            if n<=10:\n",
    "                s=str(i%n)+s\n",
    "                i=i//n\n",
    "            else:\n",
    "                ptr=i%n\n",
    "                if ptr>=10:\n",
    "                    ptr=chr(ptr+55) # 10이상은 A,B,C...로 바꾸기\n",
    "                s=str(ptr)+s\n",
    "                i=i//n\n",
    "\n",
    "\n",
    "        result+=s\n",
    "\n",
    "        if len(result)>=t*m:\n",
    "            break\n",
    "\n",
    "\n",
    "    answer=[result[i] for i in range(p-1,t*m,m)]\n",
    "    return ''.join(map(str,answer))"
   ]
  }
 ],
 "metadata": {
  "kernelspec": {
   "display_name": "Python 3",
   "language": "python",
   "name": "python3"
  },
  "language_info": {
   "codemirror_mode": {
    "name": "ipython",
    "version": 3
   },
   "file_extension": ".py",
   "mimetype": "text/x-python",
   "name": "python",
   "nbconvert_exporter": "python",
   "pygments_lexer": "ipython3",
   "version": "3.8.5"
  }
 },
 "nbformat": 4,
 "nbformat_minor": 4
}
