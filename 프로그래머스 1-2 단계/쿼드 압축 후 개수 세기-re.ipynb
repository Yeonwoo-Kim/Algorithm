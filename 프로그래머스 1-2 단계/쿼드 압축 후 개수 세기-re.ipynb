{
 "cells": [
  {
   "cell_type": "code",
   "execution_count": 25,
   "metadata": {},
   "outputs": [],
   "source": [
    "import copy\n",
    "def solution(arr):\n",
    "    answer = []\n",
    "    n=len(arr)\n",
    "    List=[[] for _ in range(n//2)]\n",
    "    \n",
    "    # [0의 개수,1의 개수] 형태로 만들기\n",
    "    for i in range(1,n,2):\n",
    "        for j in range(1,n,2):\n",
    "            cnt=[0,0]\n",
    "            \n",
    "            if arr[i][j]==0:cnt[0]+=1\n",
    "            else:cnt[1]+=1\n",
    "            \n",
    "            if arr[i-1][j-1]==0:cnt[0]+=1\n",
    "            else:cnt[1]+=1\n",
    "            \n",
    "            if arr[i-1][j]==0:cnt[0]+=1\n",
    "            else:cnt[1]+=1\n",
    "            \n",
    "            if arr[i][j-1]==0:cnt[0]+=1\n",
    "            else:cnt[1]+=1\n",
    "                \n",
    "            if cnt[0]==0:\n",
    "                cnt[1]=1\n",
    "            elif cnt[1]==0:\n",
    "                cnt[0]=1\n",
    "            \n",
    "            List[i//2].append(cnt)\n",
    "\n",
    "    while True:\n",
    "        n=len(List)\n",
    "        result=[[] for _ in range(n//2)]\n",
    "        \n",
    "        for i in range(1,n,2):\n",
    "            for j in range(1,n,2):\n",
    "                a=List[i][j][0]+List[i-1][j-1][0]+List[i-1][j][0]+List[i][j-1][0]\n",
    "                b=List[i][j][1]+List[i-1][j-1][1]+List[i-1][j][1]+List[i][j-1][1]\n",
    "                \n",
    "                if a==0:\n",
    "                    b=1\n",
    "                if b==0:\n",
    "                    a=1\n",
    "                    \n",
    "                result[i//2].append([a,b])\n",
    "\n",
    "        List=copy.deepcopy(result)\n",
    "        \n",
    "        if len(result)==1:\n",
    "            return result[0][0]\n",
    "        \n",
    "    return answer"
   ]
  }
 ],
 "metadata": {
  "kernelspec": {
   "display_name": "Python 3",
   "language": "python",
   "name": "python3"
  },
  "language_info": {
   "codemirror_mode": {
    "name": "ipython",
    "version": 3
   },
   "file_extension": ".py",
   "mimetype": "text/x-python",
   "name": "python",
   "nbconvert_exporter": "python",
   "pygments_lexer": "ipython3",
   "version": "3.8.5"
  }
 },
 "nbformat": 4,
 "nbformat_minor": 4
}
