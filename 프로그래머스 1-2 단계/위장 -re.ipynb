{
 "cells": [
  {
   "cell_type": "code",
   "execution_count": 20,
   "metadata": {},
   "outputs": [],
   "source": [
    "from collections import defaultdict\n",
    "def solution(clothes):\n",
    "    answer = 1   \n",
    "    List=defaultdict(int)\n",
    "    for a,b in clothes:\n",
    "        List[b]+=1\n",
    "    \n",
    "    for v in List.values():\n",
    "        answer=answer*(v+1)\n",
    "               \n",
    "    return answer-1"
   ]
  }
 ],
 "metadata": {
  "kernelspec": {
   "display_name": "Python 3",
   "language": "python",
   "name": "python3"
  },
  "language_info": {
   "codemirror_mode": {
    "name": "ipython",
    "version": 3
   },
   "file_extension": ".py",
   "mimetype": "text/x-python",
   "name": "python",
   "nbconvert_exporter": "python",
   "pygments_lexer": "ipython3",
   "version": "3.8.5"
  }
 },
 "nbformat": 4,
 "nbformat_minor": 4
}
