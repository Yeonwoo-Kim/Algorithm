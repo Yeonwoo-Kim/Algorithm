{
 "cells": [
  {
   "cell_type": "code",
   "execution_count": null,
   "metadata": {},
   "outputs": [],
   "source": [
    "def solution(prices):\n",
    "    answer = []\n",
    "    cnt=0\n",
    "    n=len(prices)\n",
    "    \n",
    "    for i in range(n-1):\n",
    "        cnt=0\n",
    "        ptr=prices[i] #기준이 되는 애\n",
    "        \n",
    "        for j in range(i+1,n):\n",
    "            cnt+=1\n",
    "            if prices[j]< ptr: #떨어짐\n",
    "                break\n",
    "        answer.append(cnt)\n",
    "    \n",
    "    answer.append(0) #마지막 애\n",
    "    return answer"
   ]
  }
 ],
 "metadata": {
  "kernelspec": {
   "display_name": "Python 3",
   "language": "python",
   "name": "python3"
  }
 },
 "nbformat": 4,
 "nbformat_minor": 4
}
