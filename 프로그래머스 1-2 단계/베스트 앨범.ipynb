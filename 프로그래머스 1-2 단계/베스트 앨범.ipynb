{
 "cells": [
  {
   "cell_type": "code",
   "execution_count": 48,
   "metadata": {},
   "outputs": [],
   "source": [
    "from collections import defaultdict\n",
    "\n",
    "def solution(genres, plays):\n",
    "    answer = []\n",
    "    dic=defaultdict(list)\n",
    "    max_g=defaultdict(int)\n",
    "    \n",
    "    # dic 배열 먼저 만들기\n",
    "    for i in range(len(genres)):\n",
    "        g=genres[i]\n",
    "        p=plays[i]\n",
    "        dic[g].append((p,i)) #play 수와 고유번호\n",
    "    \n",
    "    #최대인 장르 순서대로 넣기\n",
    "    for i in range(len(genres)):\n",
    "        g=genres[i]\n",
    "        p=plays[i]\n",
    "        max_g[g]+=p\n",
    "        \n",
    "    #총 곡수가 많은 순서대로 정렬\n",
    "    max_g=sorted(max_g.items(),key=lambda x:x[1],reverse=True)\n",
    "    \n",
    "    \n",
    "    for g in max_g:\n",
    "        cnt=0\n",
    "        ptr=g[0]\n",
    "        p=dic.pop(ptr) #해당 value 값 반환\n",
    "        p=sorted(p,key=lambda x:x[0],reverse=True)\n",
    "        for play in p:\n",
    "            answer.append(play[1])\n",
    "            cnt+=1\n",
    "            if cnt==2:\n",
    "                break\n",
    "    \n",
    "    return answer"
   ]
  }
 ],
 "metadata": {
  "kernelspec": {
   "display_name": "Python 3",
   "language": "python",
   "name": "python3"
  },
  "language_info": {
   "codemirror_mode": {
    "name": "ipython",
    "version": 3
   },
   "file_extension": ".py",
   "mimetype": "text/x-python",
   "name": "python",
   "nbconvert_exporter": "python",
   "pygments_lexer": "ipython3",
   "version": "3.8.5"
  }
 },
 "nbformat": 4,
 "nbformat_minor": 4
}
