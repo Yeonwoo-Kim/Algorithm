{
 "cells": [
  {
   "cell_type": "markdown",
   "metadata": {},
   "source": [
    "- 문제 보자마자 풀이가 생각날만큼 쉬웠던 문제\n",
    "- 채점 기준에 시간초과가 들어가있는 것 같다\n",
    "- 같은 로직으로 리스트로 풀었을 땐, 테케 마지막쯤에서 오류 뜨고, 스택으로 풀었더니 통과했다."
   ]
  },
  {
   "cell_type": "code",
   "execution_count": null,
   "metadata": {},
   "outputs": [],
   "source": [
    "from collections import deque\n",
    "\n",
    "def solution(board, moves):\n",
    "    que=deque()\n",
    "    cnt = 0\n",
    "    \n",
    "    for i in moves:\n",
    "        for List in board:\n",
    "            if List[i-1]!=0:\n",
    "                que.append(List[i-1])\n",
    "                List[i-1]=0\n",
    "                #중복된 것삭제\n",
    "                if len(que)>1:\n",
    "                    a=que.pop()\n",
    "                    b=que.pop()\n",
    "                    if a==b:\n",
    "                        cnt+=2\n",
    "                    else:\n",
    "                        que.append(b)\n",
    "                        que.append(a)\n",
    "                break   \n",
    "\n",
    "    return cnt"
   ]
  }
 ],
 "metadata": {
  "kernelspec": {
   "display_name": "Python 3",
   "language": "python",
   "name": "python3"
  },
  "language_info": {
   "codemirror_mode": {
    "name": "ipython",
    "version": 3
   },
   "file_extension": ".py",
   "mimetype": "text/x-python",
   "name": "python",
   "nbconvert_exporter": "python",
   "pygments_lexer": "ipython3",
   "version": "3.8.5"
  }
 },
 "nbformat": 4,
 "nbformat_minor": 4
}
