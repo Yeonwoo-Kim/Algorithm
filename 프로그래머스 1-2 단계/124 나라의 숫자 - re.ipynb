{
 "cells": [
  {
   "cell_type": "markdown",
   "metadata": {},
   "source": [
    "- 첫번째 발상..\n",
    "- 중복순열을 이용하기\n",
    "- 효율성 문제에서 실패"
   ]
  },
  {
   "cell_type": "code",
   "execution_count": 24,
   "metadata": {
    "scrolled": true
   },
   "outputs": [
    {
     "data": {
      "text/plain": [
       "'111'"
      ]
     },
     "execution_count": 24,
     "metadata": {},
     "output_type": "execute_result"
    }
   ],
   "source": [
    "from itertools import product\n",
    "def solution(n):\n",
    "    answer = ''\n",
    "    List=['1','2','4']\n",
    "    i=0 #총합\n",
    "    j=1 #몇 자리수인지\n",
    "    \n",
    "    while True:\n",
    "        L=list(product(List,repeat=j))\n",
    "        i+=len(L)\n",
    "        j+=1\n",
    "        if i>=n:\n",
    "            i=i-len(L)\n",
    "            j=j-1\n",
    "            break\n",
    "\n",
    "    k=n-i-1 #k 번째\n",
    "    \n",
    "    result=list(product(List,repeat=j))\n",
    "    \n",
    "    answer=''.join(result[k])\n",
    "            \n",
    "    return answer\n"
   ]
  },
  {
   "cell_type": "markdown",
   "metadata": {},
   "source": [
    "- 3진수법으로 구글링 참고해서 생각"
   ]
  },
  {
   "cell_type": "code",
   "execution_count": null,
   "metadata": {},
   "outputs": [],
   "source": [
    "from itertools import product\n",
    "def solution(n):\n",
    "    answer=''\n",
    "    \n",
    "    while n>0:\n",
    "        m=n%3\n",
    "        n=n//3\n",
    "        \n",
    "        if m==0:\n",
    "            n=n-1\n",
    "        \n",
    "        answer = '412'[m]+answer\n",
    "            \n",
    "    return answer\n"
   ]
  }
 ],
 "metadata": {
  "kernelspec": {
   "display_name": "Python 3",
   "language": "python",
   "name": "python3"
  },
  "language_info": {
   "codemirror_mode": {
    "name": "ipython",
    "version": 3
   },
   "file_extension": ".py",
   "mimetype": "text/x-python",
   "name": "python",
   "nbconvert_exporter": "python",
   "pygments_lexer": "ipython3",
   "version": "3.8.5"
  }
 },
 "nbformat": 4,
 "nbformat_minor": 4
}
