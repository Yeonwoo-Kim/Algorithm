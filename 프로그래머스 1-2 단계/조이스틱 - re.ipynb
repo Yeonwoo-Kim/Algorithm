{
 "cells": [
  {
   "cell_type": "code",
   "execution_count": 18,
   "metadata": {},
   "outputs": [],
   "source": [
    "def solution(name):    \n",
    "    answer = 0\n",
    "    i=0\n",
    "    name=list(name)\n",
    "    \n",
    "    List=['A']*len(name)\n",
    "    \n",
    "    while True:\n",
    "        right=1\n",
    "        left=1\n",
    "        \n",
    "        if i==len(name):\n",
    "            break\n",
    "            \n",
    "        if name[i]!='A':\n",
    "            if ord(name[i])<=77:\n",
    "                answer+=ord(name[i])-ord('A')\n",
    "                \n",
    "            else: #아래로 조작하는게 더 빠름\n",
    "                answer+=ord('Z')-ord(name[i])+1\n",
    "            name[i]='A'   \n",
    "        \n",
    "        if List==name:\n",
    "            break\n",
    "            \n",
    "        else: #A를 만나면         \n",
    "            for j in range(1,len(name)):\n",
    "                if name[i+j]=='A':\n",
    "                    right+=1\n",
    "                else:\n",
    "                    break\n",
    "                    \n",
    "                if name[i-j]=='A':\n",
    "                    left+=1\n",
    "                else:\n",
    "                    break\n",
    "\n",
    "            if left < right: #거꾸로 가는게 더 적음\n",
    "                answer+=left\n",
    "                i=i-left\n",
    "                \n",
    "            else:\n",
    "                answer+=right\n",
    "                i=i+right\n",
    "            \n",
    "                \n",
    "    return answer"
   ]
  }
 ],
 "metadata": {
  "kernelspec": {
   "display_name": "Python 3",
   "language": "python",
   "name": "python3"
  },
  "language_info": {
   "codemirror_mode": {
    "name": "ipython",
    "version": 3
   },
   "file_extension": ".py",
   "mimetype": "text/x-python",
   "name": "python",
   "nbconvert_exporter": "python",
   "pygments_lexer": "ipython3",
   "version": "3.8.5"
  }
 },
 "nbformat": 4,
 "nbformat_minor": 4
}
