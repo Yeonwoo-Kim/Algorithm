{
 "cells": [
  {
   "cell_type": "code",
   "execution_count": 4,
   "metadata": {},
   "outputs": [],
   "source": [
    "from itertools import product\n",
    "def solution(numbers, target):\n",
    "    cnt = 0\n",
    "    n=len(numbers)\n",
    "    List=['+','-']\n",
    "    cul=list(product(List,repeat=n)) #사이사이에 들어갈 부호 찾기\n",
    "    p=[]\n",
    "    \n",
    "    for i in range(0,len(cul)):\n",
    "        result=0\n",
    "        for j in range(0,n):\n",
    "            c=cul[i][j]\n",
    "            num=numbers[j]\n",
    "            if c=='-':\n",
    "                result+=(-1)*num\n",
    "            else:\n",
    "                result+=num   \n",
    "        if result==target:\n",
    "            cnt+=1        \n",
    "    \n",
    "    return cnt"
   ]
  }
 ],
 "metadata": {
  "kernelspec": {
   "display_name": "Python 3",
   "language": "python",
   "name": "python3"
  },
  "language_info": {
   "codemirror_mode": {
    "name": "ipython",
    "version": 3
   },
   "file_extension": ".py",
   "mimetype": "text/x-python",
   "name": "python",
   "nbconvert_exporter": "python",
   "pygments_lexer": "ipython3",
   "version": "3.8.5"
  }
 },
 "nbformat": 4,
 "nbformat_minor": 4
}
