{
 "cells": [
  {
   "cell_type": "code",
   "execution_count": null,
   "metadata": {},
   "outputs": [],
   "source": [
    "def solution(phone_book):\n",
    "    answer = True\n",
    "    check=0\n",
    "    n=len(phone_book)\n",
    "    phone_book=sorted(phone_book,key=lambda x:len(x)) #길이를 기준으로 sorting\n",
    "    for i in range(n-1):\n",
    "        ptr=phone_book[i]\n",
    "        l=len(ptr)\n",
    "        for j in range(i+1,n):\n",
    "            compare=phone_book[j]\n",
    "            if compare[0:l]==ptr:\n",
    "                answer=False\n",
    "                check=-1\n",
    "                break\n",
    "        if check==-1:\n",
    "            break\n",
    "            \n",
    "    return answer"
   ]
  }
 ],
 "metadata": {
  "kernelspec": {
   "display_name": "Python 3",
   "language": "python",
   "name": "python3"
  },
  "language_info": {
   "codemirror_mode": {
    "name": "ipython",
    "version": 3
   },
   "file_extension": ".py",
   "mimetype": "text/x-python",
   "name": "python",
   "nbconvert_exporter": "python",
   "pygments_lexer": "ipython3",
   "version": "3.8.5"
  }
 },
 "nbformat": 4,
 "nbformat_minor": 4
}
