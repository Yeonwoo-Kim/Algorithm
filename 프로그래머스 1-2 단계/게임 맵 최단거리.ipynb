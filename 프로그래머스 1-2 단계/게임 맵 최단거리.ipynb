{
 "cells": [
  {
   "cell_type": "code",
   "execution_count": null,
   "metadata": {},
   "outputs": [],
   "source": [
    "from collections import deque\n",
    "def solution(maps):\n",
    "    answer = 0\n",
    "    que=deque()\n",
    "    \n",
    "    n=len(maps[0]) # 가로\n",
    "    m=len(maps) # 세로\n",
    "    \n",
    "    dx=[-1,1,0,0]\n",
    "    dy=[0,0,-1,1]\n",
    "    \n",
    "    que.append((0,0)) # (0,0)에서 출발\n",
    "    \n",
    "    while que:\n",
    "        x,y=que.popleft()\n",
    "        \n",
    "        for i in range(4):\n",
    "            xx=dx[i]\n",
    "            yy=dy[i]\n",
    "            \n",
    "            if x+xx <0 or y+yy<0 or x+xx >=m or y+yy>=n:\n",
    "                continue\n",
    "                \n",
    "            if maps[x+xx][y+yy]==1:\n",
    "                que.append((x+xx,y+yy))\n",
    "                maps[x+xx][y+yy]=maps[x][y]+1\n",
    "                \n",
    "    if maps[m-1][n-1]==1:\n",
    "        answer=-1\n",
    "    else:\n",
    "        answer=maps[m-1][n-1]\n",
    "                    \n",
    "    return answer"
   ]
  }
 ],
 "metadata": {
  "kernelspec": {
   "display_name": "Python 3",
   "language": "python",
   "name": "python3"
  },
  "language_info": {
   "codemirror_mode": {
    "name": "ipython",
    "version": 3
   },
   "file_extension": ".py",
   "mimetype": "text/x-python",
   "name": "python",
   "nbconvert_exporter": "python",
   "pygments_lexer": "ipython3",
   "version": "3.8.5"
  }
 },
 "nbformat": 4,
 "nbformat_minor": 4
}
