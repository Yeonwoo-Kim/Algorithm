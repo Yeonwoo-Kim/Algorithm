{
 "cells": [
  {
   "cell_type": "code",
   "execution_count": 1,
   "metadata": {},
   "outputs": [],
   "source": [
    "def change(s):\n",
    "    s=s.replace('C#','c')\n",
    "    s=s.replace('D#','d')\n",
    "    s=s.replace('F#','f')\n",
    "    s=s.replace('G#','g')\n",
    "    s=s.replace('A#','a')\n",
    "    \n",
    "    return s\n",
    "    \n",
    "\n",
    "def solution(m, musicinfos):\n",
    "    answer = ''\n",
    "    result=[]\n",
    "    \n",
    "    m=change(m)\n",
    "        \n",
    "    for i in range(len(musicinfos)):\n",
    "        \n",
    "        start,end,name,melody=musicinfos[i].split(',')\n",
    "        \n",
    "        melody=change(melody)\n",
    "        \n",
    "        song=''\n",
    "        s=start.split(':')\n",
    "        e=end.split(':')\n",
    "        \n",
    "        time=(int(e[0])*60+int(e[1]))-(int(s[0])*60+int(s[1]))       \n",
    "        \n",
    "        n=len(melody)\n",
    "        a=time//n\n",
    "        b=time%n\n",
    "        song=melody*a+melody[:b]\n",
    "        \n",
    "        if m in song:\n",
    "            result.append([name,time])\n",
    "    \n",
    "    \n",
    "    if len(result)==0:\n",
    "        answer=\"(None)\"\n",
    "    else:\n",
    "        result=sorted(result,key=lambda x:-x[1])\n",
    "        answer=result[0][0]\n",
    "        \n",
    "    return answer"
   ]
  }
 ],
 "metadata": {
  "kernelspec": {
   "display_name": "Python 3",
   "language": "python",
   "name": "python3"
  },
  "language_info": {
   "codemirror_mode": {
    "name": "ipython",
    "version": 3
   },
   "file_extension": ".py",
   "mimetype": "text/x-python",
   "name": "python",
   "nbconvert_exporter": "python",
   "pygments_lexer": "ipython3",
   "version": "3.8.5"
  }
 },
 "nbformat": 4,
 "nbformat_minor": 4
}
