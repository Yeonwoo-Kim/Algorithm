{
 "cells": [
  {
   "cell_type": "code",
   "execution_count": null,
   "metadata": {},
   "outputs": [],
   "source": [
    "import re\n",
    "def solution(s):\n",
    "    List=[]\n",
    "    List=re.findall('[^0-9]',s) #숫자로만 구성되어있나 체크\n",
    "    if len(List)!=0:\n",
    "        answer=False\n",
    "    else:\n",
    "        List2=re.findall('[0-9]',s)\n",
    "        if len(List2)==4 or len(List2)==6:\n",
    "            answer=True\n",
    "        else:\n",
    "            answer=False\n",
    "            \n",
    "    return answer"
   ]
  }
 ],
 "metadata": {
  "kernelspec": {
   "display_name": "Python 3",
   "language": "python",
   "name": "python3"
  },
  "language_info": {
   "codemirror_mode": {
    "name": "ipython",
    "version": 3
   },
   "file_extension": ".py",
   "mimetype": "text/x-python",
   "name": "python",
   "nbconvert_exporter": "python",
   "pygments_lexer": "ipython3",
   "version": "3.8.5"
  }
 },
 "nbformat": 4,
 "nbformat_minor": 4
}
