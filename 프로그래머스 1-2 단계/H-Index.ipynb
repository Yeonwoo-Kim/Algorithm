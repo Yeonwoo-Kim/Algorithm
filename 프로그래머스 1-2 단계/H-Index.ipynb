{
 "cells": [
  {
   "cell_type": "code",
   "execution_count": null,
   "metadata": {},
   "outputs": [],
   "source": [
    "def solution(citations):\n",
    "    cnt=0\n",
    "    answer=0\n",
    "    citations.sort(reverse=True)\n",
    "    \n",
    "    for i in range(len(citations)):\n",
    "        cnt+=1\n",
    "        if cnt <=citations[i]:\n",
    "            answer+=1\n",
    "        else:\n",
    "            break\n",
    "            \n",
    "    return answer"
   ]
  }
 ],
 "metadata": {
  "kernelspec": {
   "display_name": "Python 3",
   "language": "python",
   "name": "python3"
  }
 },
 "nbformat": 4,
 "nbformat_minor": 4
}
