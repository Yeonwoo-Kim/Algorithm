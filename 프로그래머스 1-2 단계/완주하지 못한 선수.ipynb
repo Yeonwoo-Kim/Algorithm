{
 "cells": [
  {
   "cell_type": "markdown",
   "metadata": {},
   "source": [
    "### 효율성 실패의 이유\n",
    "- 조건에 선수는 100,000명 이하 --> O(nlogn)을 요구함\n",
    "- remove =O(n) & i in x = O(n) --> O(n^2)"
   ]
  },
  {
   "cell_type": "code",
   "execution_count": null,
   "metadata": {},
   "outputs": [],
   "source": [
    "def solution(participant, completion):\n",
    "    answer = ''\n",
    "    \n",
    "    [participant.remove(i) for i in completion]\n",
    "            \n",
    "    return participant.pop()"
   ]
  },
  {
   "cell_type": "markdown",
   "metadata": {},
   "source": [
    "### 성능 개선\n",
    "- sort() = O(nlogn)\n",
    "- for 문 = n\n",
    "- --> 2*O(nlogn) + n"
   ]
  },
  {
   "cell_type": "code",
   "execution_count": 4,
   "metadata": {},
   "outputs": [],
   "source": [
    "def solution(participant, completion):\n",
    "    answer = ''\n",
    "    \n",
    "    participant.sort()\n",
    "    completion.sort()\n",
    "\n",
    "    for i,j in zip(participant,completion):\n",
    "        if i!=j:\n",
    "            answer=i\n",
    "            break\n",
    "            \n",
    "    if len(answer)==0:\n",
    "        answer=participant[-1]\n",
    "            \n",
    "    return answer"
   ]
  }
 ],
 "metadata": {
  "kernelspec": {
   "display_name": "Python 3",
   "language": "python",
   "name": "python3"
  },
  "language_info": {
   "codemirror_mode": {
    "name": "ipython",
    "version": 3
   },
   "file_extension": ".py",
   "mimetype": "text/x-python",
   "name": "python",
   "nbconvert_exporter": "python",
   "pygments_lexer": "ipython3",
   "version": "3.8.5"
  }
 },
 "nbformat": 4,
 "nbformat_minor": 4
}
