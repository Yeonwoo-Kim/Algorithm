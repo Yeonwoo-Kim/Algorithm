{
 "cells": [
  {
   "cell_type": "code",
   "execution_count": 1,
   "metadata": {},
   "outputs": [
    {
     "data": {
      "text/plain": [
       "4"
      ]
     },
     "execution_count": 1,
     "metadata": {},
     "output_type": "execute_result"
    }
   ],
   "source": [
    "def solution(s):\n",
    "\n",
    "    cnt1=0\n",
    "    cnt2=0\n",
    "    while s!='1':\n",
    "        cnt2+=s.count('0')\n",
    "        s=s.replace('0','') #0없앰\n",
    "        n=len(s)\n",
    "        s=''\n",
    "        while n!=0:\n",
    "            s=str(n%2)+s\n",
    "            n=n//2\n",
    "        cnt1+=1\n",
    "        \n",
    "    answer=[cnt1, cnt2]\n",
    "        \n",
    "    return answer #이진 변환의 횟수, 과정 중 제거된 모든 0의 개수"
   ]
  }
 ],
 "metadata": {
  "kernelspec": {
   "display_name": "Python 3",
   "language": "python",
   "name": "python3"
  },
  "language_info": {
   "codemirror_mode": {
    "name": "ipython",
    "version": 3
   },
   "file_extension": ".py",
   "mimetype": "text/x-python",
   "name": "python",
   "nbconvert_exporter": "python",
   "pygments_lexer": "ipython3",
   "version": "3.8.5"
  }
 },
 "nbformat": 4,
 "nbformat_minor": 4
}
