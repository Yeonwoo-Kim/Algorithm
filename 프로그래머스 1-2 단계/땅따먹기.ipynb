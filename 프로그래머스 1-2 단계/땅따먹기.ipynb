{
 "cells": [
  {
   "cell_type": "code",
   "execution_count": null,
   "metadata": {},
   "outputs": [],
   "source": [
    "def solution(land):\n",
    "    answer = 0\n",
    "    n=len(land)\n",
    "    \n",
    "    for i in range(n-1):\n",
    "        land[i+1][0]+=max(land[i][1],land[i][2],land[i][3])\n",
    "        land[i+1][1]+=max(land[i][0],land[i][2],land[i][3])\n",
    "        land[i+1][2]+=max(land[i][1],land[i][0],land[i][3])\n",
    "        land[i+1][3]+=max(land[i][1],land[i][2],land[i][0])\n",
    "        \n",
    "    answer=max(land[n-1])\n",
    "    \n",
    "\n",
    "    return answer"
   ]
  }
 ],
 "metadata": {
  "kernelspec": {
   "display_name": "Python 3",
   "language": "python",
   "name": "python3"
  },
  "language_info": {
   "codemirror_mode": {
    "name": "ipython",
    "version": 3
   },
   "file_extension": ".py",
   "mimetype": "text/x-python",
   "name": "python",
   "nbconvert_exporter": "python",
   "pygments_lexer": "ipython3",
   "version": "3.8.5"
  }
 },
 "nbformat": 4,
 "nbformat_minor": 4
}
