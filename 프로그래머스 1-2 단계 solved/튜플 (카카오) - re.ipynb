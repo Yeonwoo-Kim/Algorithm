{
 "cells": [
  {
   "cell_type": "code",
   "execution_count": 63,
   "metadata": {},
   "outputs": [],
   "source": [
    "def solution(s):\n",
    "    answer = []\n",
    "    \n",
    "    s=s[2:-2]\n",
    "    List=s.split('},{')\n",
    "    \n",
    "    result=[]\n",
    "    \n",
    "    for i in List:\n",
    "        L=i.split(',')\n",
    "        result.append(L)\n",
    "        \n",
    "    result.sort(key=len)\n",
    "        \n",
    "    for i in result:\n",
    "        for j in i:\n",
    "            if int(j) not in answer:\n",
    "                answer.append(int(j))\n",
    "    \n",
    "    return answer"
   ]
  },
  {
   "cell_type": "code",
   "execution_count": 15,
   "metadata": {},
   "outputs": [],
   "source": [
    "import re\n",
    "def solution(s):\n",
    "    answer=[]\n",
    "\n",
    "    s=s[1:-1]\n",
    "    s=s.split(',{')\n",
    "    s.sort(key=len)\n",
    "    p=re.compile('\\d+')\n",
    "\n",
    "    for i in s:\n",
    "        data=p.findall(i)\n",
    "        for num in data:\n",
    "            if int(num) not in answer:\n",
    "                answer.append(int(num))\n",
    "    \n",
    "    return answer"
   ]
  }
 ],
 "metadata": {
  "kernelspec": {
   "display_name": "Python 3",
   "language": "python",
   "name": "python3"
  },
  "language_info": {
   "codemirror_mode": {
    "name": "ipython",
    "version": 3
   },
   "file_extension": ".py",
   "mimetype": "text/x-python",
   "name": "python",
   "nbconvert_exporter": "python",
   "pygments_lexer": "ipython3",
   "version": "3.8.5"
  }
 },
 "nbformat": 4,
 "nbformat_minor": 4
}
