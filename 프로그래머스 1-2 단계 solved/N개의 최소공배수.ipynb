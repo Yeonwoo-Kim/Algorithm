{
 "cells": [
  {
   "cell_type": "code",
   "execution_count": 9,
   "metadata": {},
   "outputs": [],
   "source": [
    "import math\n",
    "from collections import deque\n",
    "def solution(arr):\n",
    "\n",
    "    que=deque(arr)\n",
    "    \n",
    "    while len(que)>1:\n",
    "        a=que.popleft()\n",
    "        b=que.popleft()\n",
    "        \n",
    "        #두개의 최소 공배수 구하기\n",
    "        gcd=math.gcd(a,b)\n",
    "        ans=gcd*(a//gcd)*(b//gcd)\n",
    "        \n",
    "        que.appendleft(ans)   \n",
    "                \n",
    "    return que[0]"
   ]
  }
 ],
 "metadata": {
  "kernelspec": {
   "display_name": "Python 3",
   "language": "python",
   "name": "python3"
  },
  "language_info": {
   "codemirror_mode": {
    "name": "ipython",
    "version": 3
   },
   "file_extension": ".py",
   "mimetype": "text/x-python",
   "name": "python",
   "nbconvert_exporter": "python",
   "pygments_lexer": "ipython3",
   "version": "3.8.5"
  }
 },
 "nbformat": 4,
 "nbformat_minor": 4
}
