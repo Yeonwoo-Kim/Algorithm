{
 "cells": [
  {
   "cell_type": "code",
   "execution_count": null,
   "metadata": {},
   "outputs": [],
   "source": [
    "from collections import deque\n",
    "def solution(priorities, location):\n",
    "    que=deque()\n",
    "    cnt=0\n",
    "    \n",
    "    for i in range(len(priorities)):\n",
    "        que.append((priorities[i],i))\n",
    "        \n",
    "    while que:\n",
    "        pri,idx=que.popleft()\n",
    "        \n",
    "        if len(que)>0:\n",
    "            m=max(que)\n",
    "\n",
    "            if pri >= m[0]:\n",
    "                cnt+=1\n",
    "                if idx==location:\n",
    "                    answer=cnt\n",
    "                    break\n",
    "\n",
    "            else:\n",
    "                que.append((pri,idx)) #다시 넣어줌\n",
    "        \n",
    "        elif len(que)==0:\n",
    "            answer=cnt+1\n",
    "            \n",
    "                \n",
    "    return answer"
   ]
  }
 ],
 "metadata": {
  "kernelspec": {
   "display_name": "Python 3",
   "language": "python",
   "name": "python3"
  },
  "language_info": {
   "codemirror_mode": {
    "name": "ipython",
    "version": 3
   },
   "file_extension": ".py",
   "mimetype": "text/x-python",
   "name": "python",
   "nbconvert_exporter": "python",
   "pygments_lexer": "ipython3",
   "version": "3.8.5"
  }
 },
 "nbformat": 4,
 "nbformat_minor": 4
}
