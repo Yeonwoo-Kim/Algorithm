{
 "cells": [
  {
   "cell_type": "code",
   "execution_count": 7,
   "metadata": {},
   "outputs": [
    {
     "name": "stdout",
     "output_type": "stream",
     "text": [
      "0 0\n",
      "0 1\n",
      "1 0\n",
      "1 1\n"
     ]
    },
    {
     "data": {
      "text/plain": [
       "[[4, 6], [7, 9]]"
      ]
     },
     "execution_count": 7,
     "metadata": {},
     "output_type": "execute_result"
    }
   ],
   "source": [
    "def solution(n, arr1, arr2):\n",
    "    answer = []\n",
    "    \n",
    "    for i in range(n):\n",
    "        n1=arr1[i]\n",
    "        n2=arr2[i]\n",
    "        # n자리수의 이진법으로 바꾸기\n",
    "        a=''\n",
    "        b=''\n",
    "        result=''\n",
    "        \n",
    "        while n1!=0:\n",
    "            a=str(n1%2)+a\n",
    "            n1=n1//2\n",
    "        if len(a)<n: #자릿수가 작으면 앞에 0 붙여주기\n",
    "            a='0'*(n-len(a))+a\n",
    "        \n",
    "        while n2!=0:\n",
    "            b=str(n2%2)+b\n",
    "            n2=n2//2\n",
    "        if len(b)<n: #자릿수가 작으면 앞에 0 붙여주기\n",
    "            b='0'*(n-len(b))+b\n",
    "            \n",
    "        #두개 비교하기\n",
    "        for i in range(n):\n",
    "            if a[i]=='1' or b[i]=='1':\n",
    "                result+='#'\n",
    "            elif a[i]=='0' and b[i]=='0':\n",
    "                result+=' '\n",
    "                \n",
    "        answer.append(result)\n",
    "        \n",
    "        \n",
    "        \n",
    "    return answer"
   ]
  }
 ],
 "metadata": {
  "kernelspec": {
   "display_name": "Python 3",
   "language": "python",
   "name": "python3"
  },
  "language_info": {
   "codemirror_mode": {
    "name": "ipython",
    "version": 3
   },
   "file_extension": ".py",
   "mimetype": "text/x-python",
   "name": "python",
   "nbconvert_exporter": "python",
   "pygments_lexer": "ipython3",
   "version": "3.8.5"
  }
 },
 "nbformat": 4,
 "nbformat_minor": 4
}
