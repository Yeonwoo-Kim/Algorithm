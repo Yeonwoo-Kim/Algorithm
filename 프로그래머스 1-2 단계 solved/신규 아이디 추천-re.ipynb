{
 "cells": [
  {
   "cell_type": "code",
   "execution_count": 16,
   "metadata": {},
   "outputs": [],
   "source": [
    "import re\n",
    "def solution(new_id):\n",
    "    answer = ''\n",
    "    i=0\n",
    "    \n",
    "    #1단계\n",
    "    new_id=new_id.lower()\n",
    "        \n",
    "    #2단계    \n",
    "    new_id=re.sub(\"[^0-9a-z_.-]\",\"\",new_id) \n",
    "    \n",
    "    #3단계\n",
    "    new_id=re.sub(\"[.]{2,}\",\".\",new_id)\n",
    "   \n",
    "    #4단계\n",
    "    \n",
    "    new_id=re.sub(\"^[.]\",\"\",new_id)\n",
    "    new_id=re.sub(\"[.]$\",\"\",new_id)\n",
    "    \n",
    "    #5단계\n",
    "    if len(new_id)==0:\n",
    "        new_id+='a'\n",
    "        \n",
    "    #6단계\n",
    "    if len(new_id)>=16:\n",
    "        new_id=new_id[0:15]\n",
    "    new_id=re.sub(\"[.]$\",\"\",new_id)\n",
    "    \n",
    "    #7단계\n",
    "    \n",
    "    if len(new_id)<=2 and len(new_id)>0:\n",
    "        new_id=new_id+new_id[-1]*(3-len(new_id))    \n",
    "            \n",
    "            \n",
    "    return new_id"
   ]
  }
 ],
 "metadata": {
  "kernelspec": {
   "display_name": "Python 3",
   "language": "python",
   "name": "python3"
  },
  "language_info": {
   "codemirror_mode": {
    "name": "ipython",
    "version": 3
   },
   "file_extension": ".py",
   "mimetype": "text/x-python",
   "name": "python",
   "nbconvert_exporter": "python",
   "pygments_lexer": "ipython3",
   "version": "3.8.5"
  }
 },
 "nbformat": 4,
 "nbformat_minor": 4
}
