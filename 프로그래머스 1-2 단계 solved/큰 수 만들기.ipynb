{
 "cells": [
  {
   "cell_type": "code",
   "execution_count": 28,
   "metadata": {},
   "outputs": [],
   "source": [
    "from collections import deque\n",
    "def solution(number, k):\n",
    "    que=deque()\n",
    "    answer = ''\n",
    "    i=1\n",
    "    que.append(number[0])\n",
    "    \n",
    "    while True:\n",
    "        #k가 0이 아닌데, 인덱스는 이미 끝남 #9999\n",
    "        if k!=0 and i==len(number):\n",
    "            answer=''.join(map(str,list(que)))\n",
    "            answer=answer[0:-k]\n",
    "            return answer\n",
    "            \n",
    "        if k==0:\n",
    "            if i==len(number):\n",
    "                break\n",
    "            que.append(number[i])\n",
    "            i+=1\n",
    "            continue\n",
    "            \n",
    "        ptr=number[i]\n",
    "\n",
    "        \n",
    "        while len(que)>0:\n",
    "            p=que.pop()\n",
    "            if ptr<=p or k==0:\n",
    "                que.append(p)\n",
    "                break\n",
    "            elif ptr>p and k!=0: #현재 숫자가 나머지 애들보다 큼\n",
    "                k-=1                    \n",
    "        \n",
    "        que.append(ptr)\n",
    "        i+=1\n",
    "\n",
    "    \n",
    "    answer=list(que)\n",
    "                       \n",
    "    return ''.join(map(str,answer))"
   ]
  },
  {
   "cell_type": "code",
   "execution_count": 29,
   "metadata": {},
   "outputs": [
    {
     "data": {
      "text/plain": [
       "'775841'"
      ]
     },
     "execution_count": 29,
     "metadata": {},
     "output_type": "execute_result"
    }
   ],
   "source": [
    "solution(\"4177252841\",4)"
   ]
  }
 ],
 "metadata": {
  "kernelspec": {
   "display_name": "Python 3",
   "language": "python",
   "name": "python3"
  },
  "language_info": {
   "codemirror_mode": {
    "name": "ipython",
    "version": 3
   },
   "file_extension": ".py",
   "mimetype": "text/x-python",
   "name": "python",
   "nbconvert_exporter": "python",
   "pygments_lexer": "ipython3",
   "version": "3.8.5"
  }
 },
 "nbformat": 4,
 "nbformat_minor": 4
}
