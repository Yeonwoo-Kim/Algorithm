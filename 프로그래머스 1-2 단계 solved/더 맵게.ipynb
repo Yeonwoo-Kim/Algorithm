{
 "cells": [
  {
   "cell_type": "code",
   "execution_count": 9,
   "metadata": {},
   "outputs": [],
   "source": [
    "import heapq\n",
    "def solution(scoville, K):\n",
    "    cnt = 0\n",
    "    heapq.heapify(scoville)\n",
    "    \n",
    "    while True:\n",
    "        #최소값이 스코빌 지수보다 높으면 break\n",
    "        if scoville[0] >=K:\n",
    "            break\n",
    "        \n",
    "        a=heapq.heappop(scoville)\n",
    "        \n",
    "        if len(scoville)==0:\n",
    "            cnt=-1\n",
    "            break\n",
    "            \n",
    "        b=heapq.heappop(scoville)\n",
    "        \n",
    "        heapq.heappush(scoville,a+2*b)\n",
    "        cnt+=1\n",
    "    \n",
    "    return cnt"
   ]
  }
 ],
 "metadata": {
  "kernelspec": {
   "display_name": "Python 3",
   "language": "python",
   "name": "python3"
  },
  "language_info": {
   "codemirror_mode": {
    "name": "ipython",
    "version": 3
   },
   "file_extension": ".py",
   "mimetype": "text/x-python",
   "name": "python",
   "nbconvert_exporter": "python",
   "pygments_lexer": "ipython3",
   "version": "3.8.5"
  }
 },
 "nbformat": 4,
 "nbformat_minor": 4
}
