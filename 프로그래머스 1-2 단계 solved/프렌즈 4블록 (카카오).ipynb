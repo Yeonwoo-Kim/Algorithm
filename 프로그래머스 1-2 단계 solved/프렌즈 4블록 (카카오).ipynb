{
 "cells": [
  {
   "cell_type": "code",
   "execution_count": 8,
   "metadata": {},
   "outputs": [],
   "source": [
    "def solution(m, n, board):\n",
    "    answer = 0\n",
    "    board=list(map(list,zip(*board))) # row와 col 뒤집기\n",
    "    \n",
    "    \n",
    "    while True:\n",
    "        delete=set()\n",
    "        for i in range(1,n):\n",
    "            for j in range(1,m):\n",
    "                if board[i][j]==board[i-1][j-1]==board[i-1][j]==board[i][j-1]!='_':\n",
    "                    delete |=set([(i,j),(i-1,j-1),(i-1,j),(i,j-1)])\n",
    "        \n",
    "        if len(delete)==0:\n",
    "            return answer\n",
    "        \n",
    "        answer+=len(delete)\n",
    "            \n",
    "        # 삭제된 것 지워주기\n",
    "        for x,y in delete:\n",
    "            board[x][y]=0\n",
    "        \n",
    "        List=[]\n",
    "        \n",
    "        for i in range(n):\n",
    "            List.append(['_']*board[i].count(0))\n",
    "            \n",
    "        \n",
    "        for i in range(n):\n",
    "            board[i]=List[i]+[data for data in board[i] if data!=0]\n",
    "        \n",
    "                \n",
    "    return answer"
   ]
  }
 ],
 "metadata": {
  "kernelspec": {
   "display_name": "Python 3",
   "language": "python",
   "name": "python3"
  },
  "language_info": {
   "codemirror_mode": {
    "name": "ipython",
    "version": 3
   },
   "file_extension": ".py",
   "mimetype": "text/x-python",
   "name": "python",
   "nbconvert_exporter": "python",
   "pygments_lexer": "ipython3",
   "version": "3.8.5"
  }
 },
 "nbformat": 4,
 "nbformat_minor": 4
}
