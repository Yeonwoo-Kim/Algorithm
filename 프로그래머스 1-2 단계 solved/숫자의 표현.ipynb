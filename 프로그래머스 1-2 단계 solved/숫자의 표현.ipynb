{
 "cells": [
  {
   "cell_type": "code",
   "execution_count": null,
   "metadata": {},
   "outputs": [],
   "source": [
    "def solution(n):\n",
    "    answer = 0\n",
    "    for i in range(1,n): #시작\n",
    "        cnt=0\n",
    "        for j in range(i,n+1): #끝\n",
    "            cnt+=j\n",
    "            if cnt==n:\n",
    "                answer+=1\n",
    "                break\n",
    "            if cnt>n:\n",
    "                break\n",
    "            \n",
    "    return answer+1 #자기자신"
   ]
  }
 ],
 "metadata": {
  "kernelspec": {
   "display_name": "Python 3",
   "language": "python",
   "name": "python3"
  },
  "language_info": {
   "codemirror_mode": {
    "name": "ipython",
    "version": 3
   },
   "file_extension": ".py",
   "mimetype": "text/x-python",
   "name": "python",
   "nbconvert_exporter": "python",
   "pygments_lexer": "ipython3",
   "version": "3.8.5"
  }
 },
 "nbformat": 4,
 "nbformat_minor": 4
}
