{
 "cells": [
  {
   "cell_type": "code",
   "execution_count": 15,
   "metadata": {},
   "outputs": [],
   "source": [
    "def solution(bridge_length, weight, truck_weights):\n",
    "    cnt = 0\n",
    "    bridge=[0]*bridge_length #빈 다리 생성\n",
    "\n",
    "    while bridge: \n",
    "        p=bridge.pop(0)\n",
    "        cnt+=1\n",
    "        \n",
    "        if len(truck_weights)>0:\n",
    "            ptr=truck_weights.pop(0)\n",
    "\n",
    "            if sum(bridge) + ptr <= weight:\n",
    "                bridge.append(ptr)\n",
    "            else:\n",
    "                truck_weights.insert(0,ptr)\n",
    "                bridge.append(0)  \n",
    "        \n",
    "    return cnt"
   ]
  },
  {
   "cell_type": "code",
   "execution_count": 16,
   "metadata": {},
   "outputs": [
    {
     "data": {
      "text/plain": [
       "110"
      ]
     },
     "execution_count": 16,
     "metadata": {},
     "output_type": "execute_result"
    }
   ],
   "source": [
    "solution(100, 100, [10,10,10,10,10,10,10,10,10,10])"
   ]
  }
 ],
 "metadata": {
  "kernelspec": {
   "display_name": "Python 3",
   "language": "python",
   "name": "python3"
  },
  "language_info": {
   "codemirror_mode": {
    "name": "ipython",
    "version": 3
   },
   "file_extension": ".py",
   "mimetype": "text/x-python",
   "name": "python",
   "nbconvert_exporter": "python",
   "pygments_lexer": "ipython3",
   "version": "3.8.5"
  }
 },
 "nbformat": 4,
 "nbformat_minor": 4
}
