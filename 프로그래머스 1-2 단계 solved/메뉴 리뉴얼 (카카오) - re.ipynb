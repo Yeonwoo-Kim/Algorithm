{
 "cells": [
  {
   "cell_type": "code",
   "execution_count": 139,
   "metadata": {},
   "outputs": [],
   "source": [
    "from itertools import combinations\n",
    "from collections import Counter\n",
    "\n",
    "def solution(orders, course):  \n",
    "    answer = []\n",
    "    food=[]\n",
    "    bag=[] # 임시 보관\n",
    "    Max=0\n",
    "    \n",
    "    # 조합 구하기\n",
    "    for num in course:\n",
    "        List=[]        \n",
    "        for order in orders:\n",
    "            for com in combinations(order,num):\n",
    "                List.append(''.join(sorted(com)))\n",
    "                \n",
    "        # 개수 세고 개수 많은 것 차례로 정렬\n",
    "        counter=Counter(List).most_common()\n",
    "        \n",
    "        if len(counter)!=0:       \n",
    "            Max=counter[0][1]\n",
    "\n",
    "            for count in counter:\n",
    "                if Max==count[1] and count[1]>=2:\n",
    "                    answer.append(count[0])\n",
    "                else:\n",
    "                    break\n",
    "                    \n",
    "        else:\n",
    "            continue\n",
    "    answer.sort()\n",
    "    return answer"
   ]
  }
 ],
 "metadata": {
  "kernelspec": {
   "display_name": "Python 3",
   "language": "python",
   "name": "python3"
  },
  "language_info": {
   "codemirror_mode": {
    "name": "ipython",
    "version": 3
   },
   "file_extension": ".py",
   "mimetype": "text/x-python",
   "name": "python",
   "nbconvert_exporter": "python",
   "pygments_lexer": "ipython3",
   "version": "3.8.5"
  }
 },
 "nbformat": 4,
 "nbformat_minor": 4
}
