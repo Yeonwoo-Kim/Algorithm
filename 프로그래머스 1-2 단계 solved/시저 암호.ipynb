{
 "cells": [
  {
   "cell_type": "code",
   "execution_count": 2,
   "metadata": {},
   "outputs": [],
   "source": [
    "def solution(s, n):\n",
    "    answer = ''\n",
    "    for i in s:\n",
    "        a=ord(i) #아스키코드\n",
    "        #a=대문자일때\n",
    "        if a>=65 and a<=90:\n",
    "            push=a+n #밀음\n",
    "            if push >90:\n",
    "                push=65+(push-65)%26\n",
    "            answer+=chr(push)\n",
    "            \n",
    "        #a==소문자일때\n",
    "        elif a>=97 and a<=122:\n",
    "            push=a+n\n",
    "            if push>122:\n",
    "                push=97+(push-97)%26\n",
    "            answer+=chr(push)\n",
    "            \n",
    "        else:\n",
    "            answer+=' '\n",
    "            \n",
    "    return answer"
   ]
  }
 ],
 "metadata": {
  "kernelspec": {
   "display_name": "Python 3",
   "language": "python",
   "name": "python3"
  },
  "language_info": {
   "codemirror_mode": {
    "name": "ipython",
    "version": 3
   },
   "file_extension": ".py",
   "mimetype": "text/x-python",
   "name": "python",
   "nbconvert_exporter": "python",
   "pygments_lexer": "ipython3",
   "version": "3.8.5"
  }
 },
 "nbformat": 4,
 "nbformat_minor": 4
}
