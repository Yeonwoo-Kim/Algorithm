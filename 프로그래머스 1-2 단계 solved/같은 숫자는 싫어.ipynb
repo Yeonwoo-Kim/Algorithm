{
 "cells": [
  {
   "cell_type": "markdown",
   "metadata": {},
   "source": [
    "- 순서를 유지해야하므로 set 사용 불가"
   ]
  },
  {
   "cell_type": "code",
   "execution_count": 6,
   "metadata": {},
   "outputs": [
    {
     "name": "stdout",
     "output_type": "stream",
     "text": [
      "1124\n"
     ]
    }
   ],
   "source": [
    "import re\n",
    "def solution(arr):\n",
    "    i=0\n",
    "    result=[]\n",
    "    \n",
    "    while True:\n",
    "        \n",
    "        ptr=arr[i]\n",
    "        result.append(ptr)\n",
    "        \n",
    "        while True:\n",
    "            if i>len(arr)-1:\n",
    "                break\n",
    "            if ptr==arr[i]:\n",
    "                i+=1                \n",
    "            else:\n",
    "                break\n",
    "                \n",
    "        if i>len(arr)-1:\n",
    "            break\n",
    "        \n",
    "            \n",
    "    return result"
   ]
  }
 ],
 "metadata": {
  "kernelspec": {
   "display_name": "Python 3",
   "language": "python",
   "name": "python3"
  },
  "language_info": {
   "codemirror_mode": {
    "name": "ipython",
    "version": 3
   },
   "file_extension": ".py",
   "mimetype": "text/x-python",
   "name": "python",
   "nbconvert_exporter": "python",
   "pygments_lexer": "ipython3",
   "version": "3.8.5"
  }
 },
 "nbformat": 4,
 "nbformat_minor": 4
}
