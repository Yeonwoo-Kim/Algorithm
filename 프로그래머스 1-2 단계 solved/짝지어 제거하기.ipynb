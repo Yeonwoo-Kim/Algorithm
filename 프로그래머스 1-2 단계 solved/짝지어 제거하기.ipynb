{
 "cells": [
  {
   "cell_type": "code",
   "execution_count": 4,
   "metadata": {},
   "outputs": [],
   "source": [
    "from collections import deque\n",
    "def solution(s):\n",
    "    \n",
    "    que=deque()    \n",
    "    que.append(s[0])\n",
    "    i=1\n",
    "    \n",
    "    while True:        \n",
    "        if i==len(s):\n",
    "            break\n",
    "            \n",
    "        ptr=s[i]\n",
    "        \n",
    "        if len(que)!=0:\n",
    "            if ptr == que[-1]:\n",
    "                que.pop()                \n",
    "            else:\n",
    "                que.append(ptr) \n",
    "        \n",
    "        else:\n",
    "            que.append(ptr)     \n",
    "            \n",
    "        i+=1\n",
    "        \n",
    "            \n",
    "    if len(que)==0:\n",
    "        answer=1\n",
    "        \n",
    "    else:\n",
    "        answer=0\n",
    "        \n",
    "    return answer"
   ]
  }
 ],
 "metadata": {
  "kernelspec": {
   "display_name": "Python 3",
   "language": "python",
   "name": "python3"
  },
  "language_info": {
   "codemirror_mode": {
    "name": "ipython",
    "version": 3
   },
   "file_extension": ".py",
   "mimetype": "text/x-python",
   "name": "python",
   "nbconvert_exporter": "python",
   "pygments_lexer": "ipython3",
   "version": "3.8.5"
  }
 },
 "nbformat": 4,
 "nbformat_minor": 4
}
