{
 "cells": [
  {
   "cell_type": "code",
   "execution_count": null,
   "metadata": {},
   "outputs": [],
   "source": [
    "def solution(board):\n",
    "    answer=0\n",
    "    \n",
    "    x=len(board)\n",
    "    y=len(board[0])\n",
    "    \n",
    "    if x==1 and 1 in board:\n",
    "        answer=1\n",
    "    \n",
    "    for i in range(1,x):\n",
    "        for j in range(1,y):\n",
    "            Min=min(board[i][j-1],board[i-1][j],board[i-1][j-1])\n",
    "            \n",
    "            if Min!=0 and board[i][j]!=0:\n",
    "                board[i][j]+=Min       \n",
    "    result=[]\n",
    "    for i in range(x):\n",
    "        result.append(max(board[i]))\n",
    "    answer=max(result)\n",
    "    \n",
    "    return answer**2"
   ]
  }
 ],
 "metadata": {
  "kernelspec": {
   "display_name": "Python 3",
   "language": "python",
   "name": "python3"
  },
  "language_info": {
   "codemirror_mode": {
    "name": "ipython",
    "version": 3
   },
   "file_extension": ".py",
   "mimetype": "text/x-python",
   "name": "python",
   "nbconvert_exporter": "python",
   "pygments_lexer": "ipython3",
   "version": "3.8.5"
  }
 },
 "nbformat": 4,
 "nbformat_minor": 4
}
