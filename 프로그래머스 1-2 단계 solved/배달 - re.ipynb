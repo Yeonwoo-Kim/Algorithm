{
 "cells": [
  {
   "cell_type": "code",
   "execution_count": null,
   "metadata": {},
   "outputs": [],
   "source": [
    "import sys\n",
    "import heapq\n",
    "\n",
    "\n",
    "def solution(N, road, K):\n",
    "    inf = sys.maxsize\n",
    "    answer = 0\n",
    "\n",
    "    List = [[] for i in range(N + 1)]\n",
    "    distance = [inf] * (N + 1)\n",
    "    distance[1] = 0\n",
    "\n",
    "    for i in road:\n",
    "        a = i[0]\n",
    "        b = i[1]\n",
    "        w = i[2]\n",
    "\n",
    "        List[a].append((b, w))  # a에서 b로 가는 최소 거리 w\n",
    "        List[b].append((a,w))\n",
    "\n",
    "    heap = []\n",
    "    heapq.heappush(heap, (0, 1))  # 가중치가 0이고 1을 거쳐서 가는애\n",
    "\n",
    "    while heap:\n",
    "\n",
    "        weight, p = heapq.heappop(heap)  # 가중치가 weight이고 p를 거쳐서 가는애\n",
    "\n",
    "        if distance[p] < weight:\n",
    "            continue\n",
    "\n",
    "        for i in List[p]: # p에 연결된 노드의 정보 가져오기\n",
    "            node = i[0]  # node까지의 거리 갱신\n",
    "            w = i[1]\n",
    "            cost = weight + w\n",
    "\n",
    "            if cost < distance[node]:\n",
    "                distance[node] = cost\n",
    "                heapq.heappush(heap, (cost, node))\n",
    "\n",
    "    result = [i for i in distance if i <= K]\n",
    "    answer = len(result)\n",
    "\n",
    "    return answer"
   ]
  }
 ],
 "metadata": {
  "kernelspec": {
   "display_name": "Python 3",
   "language": "python",
   "name": "python3"
  },
  "language_info": {
   "codemirror_mode": {
    "name": "ipython",
    "version": 3
   },
   "file_extension": ".py",
   "mimetype": "text/x-python",
   "name": "python",
   "nbconvert_exporter": "python",
   "pygments_lexer": "ipython3",
   "version": "3.8.5"
  }
 },
 "nbformat": 4,
 "nbformat_minor": 4
}
