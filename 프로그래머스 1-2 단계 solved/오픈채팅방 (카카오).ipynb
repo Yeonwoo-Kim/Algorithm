{
 "cells": [
  {
   "cell_type": "code",
   "execution_count": null,
   "metadata": {},
   "outputs": [],
   "source": [
    "def solution(record):\n",
    "    result = []\n",
    "    dic={}\n",
    "    \n",
    "    for i in record:\n",
    "        List=i.split(' ')\n",
    "        \n",
    "        if List[0]=='Enter' or List[0]=='Change':\n",
    "            user=List[1]\n",
    "            ID=List[2]\n",
    "            \n",
    "            dic[user]=ID\n",
    "            \n",
    "    \n",
    "    for i in record:\n",
    "        s=''\n",
    "        List=i.split(' ')\n",
    "        if List[0]=='Enter':\n",
    "            user=List[1]\n",
    "            s=dic[user]+\"님이 들어왔습니다.\"\n",
    "            \n",
    "        elif List[0]=='Leave':\n",
    "            user=List[1]\n",
    "            s=dic[user]+\"님이 나갔습니다.\"\n",
    "            \n",
    "        else:\n",
    "            continue\n",
    "            \n",
    "        result.append(s)            \n",
    "    \n",
    "    return result"
   ]
  }
 ],
 "metadata": {
  "kernelspec": {
   "display_name": "Python 3",
   "language": "python",
   "name": "python3"
  },
  "language_info": {
   "codemirror_mode": {
    "name": "ipython",
    "version": 3
   },
   "file_extension": ".py",
   "mimetype": "text/x-python",
   "name": "python",
   "nbconvert_exporter": "python",
   "pygments_lexer": "ipython3",
   "version": "3.8.5"
  }
 },
 "nbformat": 4,
 "nbformat_minor": 4
}
