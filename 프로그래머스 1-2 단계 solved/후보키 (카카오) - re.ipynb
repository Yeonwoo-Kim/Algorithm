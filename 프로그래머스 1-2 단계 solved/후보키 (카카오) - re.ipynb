{
 "cells": [
  {
   "cell_type": "code",
   "execution_count": 1,
   "metadata": {},
   "outputs": [],
   "source": [
    "from itertools import combinations\n",
    "\n",
    "def solution(relation):\n",
    "    answer=0\n",
    "    \n",
    "    n=len(relation) #  학생의 수\n",
    "    m=len(relation[0]) # 후보키의 개수\n",
    "    \n",
    "    #전체 조합\n",
    "    combination=[]\n",
    "    for i in range(1,m+1):\n",
    "        combination.extend(combinations(range(m),i))\n",
    "        \n",
    "    \n",
    "    #유일성\n",
    "    unique=[]\n",
    "    for com in combination:\n",
    "        tmp=[tuple([List[i] for i in com]) for List in relation]\n",
    "        \n",
    "        if len(tmp)==len(set(tmp)):\n",
    "            unique.append(com)\n",
    "\n",
    "    \n",
    "    #최소성\n",
    "    answer=set(unique)\n",
    "    \n",
    "    for i in range(len(unique)):\n",
    "        for j in range(i+1,len(unique)):\n",
    "            if len(unique[i]) == len(set(unique[i])&set(unique[j])):\n",
    "                answer.discard(unique[j])\n",
    "                  \n",
    "\n",
    "    return len(answer)"
   ]
  }
 ],
 "metadata": {
  "kernelspec": {
   "display_name": "Python 3",
   "language": "python",
   "name": "python3"
  },
  "language_info": {
   "codemirror_mode": {
    "name": "ipython",
    "version": 3
   },
   "file_extension": ".py",
   "mimetype": "text/x-python",
   "name": "python",
   "nbconvert_exporter": "python",
   "pygments_lexer": "ipython3",
   "version": "3.8.5"
  }
 },
 "nbformat": 4,
 "nbformat_minor": 4
}
