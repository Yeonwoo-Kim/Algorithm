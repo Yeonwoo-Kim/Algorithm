{
 "cells": [
  {
   "cell_type": "code",
   "execution_count": null,
   "metadata": {},
   "outputs": [],
   "source": [
    "def solution(brown, yellow):\n",
    "    '''\n",
    "    노랑 가로길이=x라고 하면\n",
    "    갈색 가로= 2*(x+2)\n",
    "    갈색 세로 = 2*(노랑개수//x)\n",
    "    갈색 총 개수 =2*((x+2)+(노랑개수//x))\n",
    "    '''\n",
    "    for i in range(1,yellow+1):\n",
    "        if yellow%i==0: #나누어 떨어지면=약수이면\n",
    "            x=i\n",
    "        if yellow//x <=x: #가로 길이가 세로길이보다 클때\n",
    "            if ((x+2)+(yellow//x))*2 ==brown:\n",
    "                answer=[x+2,(yellow//x)+2]\n",
    "    return answer"
   ]
  }
 ],
 "metadata": {
  "kernelspec": {
   "display_name": "Python 3",
   "language": "python",
   "name": "python3"
  },
  "language_info": {
   "codemirror_mode": {
    "name": "ipython",
    "version": 3
   },
   "file_extension": ".py",
   "mimetype": "text/x-python",
   "name": "python",
   "nbconvert_exporter": "python",
   "pygments_lexer": "ipython3",
   "version": "3.8.5"
  }
 },
 "nbformat": 4,
 "nbformat_minor": 4
}
