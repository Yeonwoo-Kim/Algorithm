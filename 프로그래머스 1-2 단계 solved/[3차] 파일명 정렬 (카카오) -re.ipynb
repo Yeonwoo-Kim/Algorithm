{
 "cells": [
  {
   "cell_type": "code",
   "execution_count": 29,
   "metadata": {},
   "outputs": [],
   "source": [
    "import re\n",
    "def solution(files):\n",
    "    answer = []\n",
    "    filtering=[]\n",
    "    \n",
    "    for i in range(len(files)):\n",
    "        \n",
    "        file=files[i]\n",
    "        List=[]\n",
    "        \n",
    "        #모두 소문자로 바꾸기\n",
    "        file=file.lower()\n",
    "        \n",
    "        #Head\n",
    "        p1=re.compile('[^0-9]+')\n",
    "        head=p1.findall(file)[0]\n",
    "        \n",
    "        List.append(head)\n",
    "        \n",
    "        #number\n",
    "        p2=re.compile('[0-9]{1,5}')\n",
    "        number=p2.findall(file)[0]\n",
    "        List.append(number)\n",
    "        \n",
    "        #tail 대신 index 저장 (순서 기억을 위해)\n",
    "        List.append(i)\n",
    "        \n",
    "        filtering.append(List)\n",
    "    \n",
    "    filtering=sorted(filtering,key=lambda x:int(x[1]))\n",
    "    filtering=sorted(filtering,key=lambda x:x[0])\n",
    "        \n",
    "    for a,b,index in filtering:\n",
    "        answer.append(files[index])\n",
    "    \n",
    "    return answer"
   ]
  }
 ],
 "metadata": {
  "kernelspec": {
   "display_name": "Python 3",
   "language": "python",
   "name": "python3"
  },
  "language_info": {
   "codemirror_mode": {
    "name": "ipython",
    "version": 3
   },
   "file_extension": ".py",
   "mimetype": "text/x-python",
   "name": "python",
   "nbconvert_exporter": "python",
   "pygments_lexer": "ipython3",
   "version": "3.8.5"
  }
 },
 "nbformat": 4,
 "nbformat_minor": 4
}
