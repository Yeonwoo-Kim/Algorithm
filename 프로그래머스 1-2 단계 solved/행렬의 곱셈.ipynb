{
 "cells": [
  {
   "cell_type": "code",
   "execution_count": 15,
   "metadata": {},
   "outputs": [],
   "source": [
    "def solution(arr1, arr2):\n",
    "    \n",
    "    x1=len(arr1) #행\n",
    "    x2=len(arr1[0]) #열\n",
    "    \n",
    "    y1=len(arr2) #행\n",
    "    y2=len(arr2[0]) #열\n",
    "    \n",
    "    answer = [[] for i in range(x1)]\n",
    "    \n",
    "    for k in range(x1):\n",
    "        a=arr1[k]\n",
    "        for i in range(y2):\n",
    "            result=0\n",
    "            for j in range(x2):\n",
    "                result+=arr1[k][j]*arr2[j][i] \n",
    "\n",
    "            answer[k].append(result)\n",
    "            \n",
    "    return answer"
   ]
  }
 ],
 "metadata": {
  "kernelspec": {
   "display_name": "Python 3",
   "language": "python",
   "name": "python3"
  },
  "language_info": {
   "codemirror_mode": {
    "name": "ipython",
    "version": 3
   },
   "file_extension": ".py",
   "mimetype": "text/x-python",
   "name": "python",
   "nbconvert_exporter": "python",
   "pygments_lexer": "ipython3",
   "version": "3.8.5"
  }
 },
 "nbformat": 4,
 "nbformat_minor": 4
}
