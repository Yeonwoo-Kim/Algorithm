{
 "cells": [
  {
   "cell_type": "code",
   "execution_count": 2,
   "metadata": {},
   "outputs": [],
   "source": [
    "def solution(cacheSize, cities):\n",
    "    answer = 0\n",
    "    que=[]\n",
    "    \n",
    "    if cacheSize==0:\n",
    "        return len(cities)*5\n",
    "    \n",
    "    cities=[i.lower() for i in cities]\n",
    "    \n",
    "    for city in cities:\n",
    "        if len(que) < cacheSize: # 캐시가 꽉 차있지 않음\n",
    "            if city in que:\n",
    "                que.remove(city)\n",
    "                que.append(city)\n",
    "                answer+=1\n",
    "            else:\n",
    "                que.append(city)\n",
    "                answer+=5\n",
    "        \n",
    "        elif len(que)==cacheSize:\n",
    "            if city in que:\n",
    "                que.remove(city)\n",
    "                que.append(city)\n",
    "                answer+=1\n",
    "            else:\n",
    "                que.pop(0)\n",
    "                que.append(city)\n",
    "                answer+=5                \n",
    "    \n",
    "    return answer"
   ]
  }
 ],
 "metadata": {
  "kernelspec": {
   "display_name": "Python 3",
   "language": "python",
   "name": "python3"
  },
  "language_info": {
   "codemirror_mode": {
    "name": "ipython",
    "version": 3
   },
   "file_extension": ".py",
   "mimetype": "text/x-python",
   "name": "python",
   "nbconvert_exporter": "python",
   "pygments_lexer": "ipython3",
   "version": "3.8.5"
  }
 },
 "nbformat": 4,
 "nbformat_minor": 4
}
