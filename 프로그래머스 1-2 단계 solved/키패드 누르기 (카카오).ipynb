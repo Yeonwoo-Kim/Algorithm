{
 "cells": [
  {
   "cell_type": "code",
   "execution_count": 2,
   "metadata": {},
   "outputs": [
    {
     "name": "stdout",
     "output_type": "stream",
     "text": [
      "3.0\n"
     ]
    }
   ],
   "source": [
    "def solution(numbers, hand):\n",
    "    answer = ''\n",
    "    index=[(3,1),(0,0),(0,1),(0,2),(1,0),(1,1),(1,2),(2,0),(2,1),(2,2),(3,0),(3,2)] #마지막은 *(10),#(11)\n",
    "    left=[10]\n",
    "    right=[11]\n",
    "    for n in numbers:\n",
    "        #왼쪽\n",
    "        if n==1 or n==4 or n==7:\n",
    "            left.append(n)\n",
    "            answer+='L'\n",
    "        elif n==3 or n==6 or n==9:\n",
    "            right.append(n)\n",
    "            answer+='R'\n",
    "        #애매한 애들\n",
    "        else:\n",
    "            pre_left=left[-1] #그 전의 왼쪽 손가락 위치\n",
    "            pre_right=right[-1] # 그 전의 오른쪽 손가락 위치\n",
    "            \n",
    "            now=index[n] #누르고자하는 번호의 (x,y)위치\n",
    "            l=index[pre_left] #이 전의 왼쪽 손가락 (x,y) 위치\n",
    "            r=index[pre_right] #이 전의 왼쪽 손가락 (x,y) 위치\n",
    "            \n",
    "            #현재 누르고자하는 위치와 이 전 손가락의 위치 차이\n",
    "            L=abs(abs(now[0]-l[0])+abs(now[1]-l[1]))\n",
    "            R=abs(abs(now[0]-r[0])+abs(now[1]-r[1]))\n",
    "            \n",
    "            if L<R: #왼쪽이 더 가까움\n",
    "                answer+='L'\n",
    "                left.append(n)\n",
    "            elif L>R: #오른쪽이 더 가까움\n",
    "                answer+='R'\n",
    "                right.append(n)\n",
    "            else: #둘이 같음\n",
    "                if hand=='left':\n",
    "                    answer+='L'\n",
    "                    left.append(n)\n",
    "                else:\n",
    "                    answer+='R'\n",
    "                    right.append(n)\n",
    "            \n",
    "    return answer"
   ]
  }
 ],
 "metadata": {
  "kernelspec": {
   "display_name": "Python 3",
   "language": "python",
   "name": "python3"
  },
  "language_info": {
   "codemirror_mode": {
    "name": "ipython",
    "version": 3
   },
   "file_extension": ".py",
   "mimetype": "text/x-python",
   "name": "python",
   "nbconvert_exporter": "python",
   "pygments_lexer": "ipython3",
   "version": "3.8.5"
  }
 },
 "nbformat": 4,
 "nbformat_minor": 4
}
