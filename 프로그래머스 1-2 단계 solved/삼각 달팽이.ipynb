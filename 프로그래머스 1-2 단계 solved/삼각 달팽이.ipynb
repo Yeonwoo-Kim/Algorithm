{
 "cells": [
  {
   "cell_type": "code",
   "execution_count": 1,
   "metadata": {},
   "outputs": [],
   "source": [
    "def solution(n):\n",
    "    answer = []\n",
    "    List=[[0]*n for _ in range(n)]\n",
    "    \n",
    "    x=-1\n",
    "    y=0\n",
    "    k=1\n",
    "    \n",
    "    for i in range(n):\n",
    "        for j in range(i,n):\n",
    "            if i%3==0: #아래\n",
    "                x+=1\n",
    "            elif i%3==1: #오른쪽\n",
    "                y+=1\n",
    "            elif i%3==2: #대각선\n",
    "                x-=1\n",
    "                y-=1\n",
    "                \n",
    "            List[x][y]=k\n",
    "            k+=1\n",
    "            \n",
    "    for i in range(n):\n",
    "        for j in range(n):\n",
    "            if List[i][j]!=0:\n",
    "                answer.append(List[i][j])                \n",
    "                \n",
    "    return answer"
   ]
  }
 ],
 "metadata": {
  "kernelspec": {
   "display_name": "Python 3",
   "language": "python",
   "name": "python3"
  },
  "language_info": {
   "codemirror_mode": {
    "name": "ipython",
    "version": 3
   },
   "file_extension": ".py",
   "mimetype": "text/x-python",
   "name": "python",
   "nbconvert_exporter": "python",
   "pygments_lexer": "ipython3",
   "version": "3.8.5"
  }
 },
 "nbformat": 4,
 "nbformat_minor": 4
}
