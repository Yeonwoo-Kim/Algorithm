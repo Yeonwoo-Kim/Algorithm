{
 "cells": [
  {
   "cell_type": "code",
   "execution_count": 3,
   "metadata": {},
   "outputs": [],
   "source": [
    "from collections import deque\n",
    "def solution(people, limit):\n",
    "    cnt = 0\n",
    "    n=len(people)\n",
    "    people.sort(reverse=True) #내림차순\n",
    "    que=deque(people)\n",
    "    \n",
    "    while que:\n",
    "        if len(que)>0:\n",
    "            q=que.popleft() #제일 큰 값\n",
    "            cnt+=1\n",
    "            if len(que)>0:\n",
    "                p=que.pop() #제일 작은 값\n",
    "                if q+p <=limit:\n",
    "                    continue\n",
    "                else:\n",
    "                    que.append(p)\n",
    "          \n",
    "    \n",
    "    return cnt"
   ]
  }
 ],
 "metadata": {
  "kernelspec": {
   "display_name": "Python 3",
   "language": "python",
   "name": "python3"
  },
  "language_info": {
   "codemirror_mode": {
    "name": "ipython",
    "version": 3
   },
   "file_extension": ".py",
   "mimetype": "text/x-python",
   "name": "python",
   "nbconvert_exporter": "python",
   "pygments_lexer": "ipython3",
   "version": "3.8.5"
  }
 },
 "nbformat": 4,
 "nbformat_minor": 4
}
