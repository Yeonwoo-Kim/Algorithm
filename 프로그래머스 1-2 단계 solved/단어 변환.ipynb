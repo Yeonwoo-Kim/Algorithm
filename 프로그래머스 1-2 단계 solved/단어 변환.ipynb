{
 "cells": [
  {
   "cell_type": "code",
   "execution_count": 8,
   "metadata": {},
   "outputs": [],
   "source": [
    "from collections import deque\n",
    "def solution(begin, target, words):\n",
    "    cnt = 0\n",
    "    que=deque()\n",
    "    n=len(begin)\n",
    "    \n",
    "    if target not in words:\n",
    "        cnt=0\n",
    "        \n",
    "    else:\n",
    "        que.append(begin)\n",
    "        \n",
    "        while que:\n",
    "            q=que.pop()\n",
    "            \n",
    "            if q==begin:\n",
    "                idx=-1\n",
    "            else:\n",
    "                idx=words.index(q) #q의 index부터 검사하면됨\n",
    "                \n",
    "            if q == target:\n",
    "                break\n",
    "            cnt+=1\n",
    "            for i in range(idx+1,len(words)):\n",
    "                p=0\n",
    "                word=words[i]\n",
    "                \n",
    "                for j in range(n):\n",
    "                    if word[j]!=q[j]: #한글자만 다름\n",
    "                        p+=1\n",
    "                if p==1:\n",
    "                    que.append(word)\n",
    "                               \n",
    "    return cnt"
   ]
  }
 ],
 "metadata": {
  "kernelspec": {
   "display_name": "Python 3",
   "language": "python",
   "name": "python3"
  },
  "language_info": {
   "codemirror_mode": {
    "name": "ipython",
    "version": 3
   },
   "file_extension": ".py",
   "mimetype": "text/x-python",
   "name": "python",
   "nbconvert_exporter": "python",
   "pygments_lexer": "ipython3",
   "version": "3.8.5"
  }
 },
 "nbformat": 4,
 "nbformat_minor": 4
}
