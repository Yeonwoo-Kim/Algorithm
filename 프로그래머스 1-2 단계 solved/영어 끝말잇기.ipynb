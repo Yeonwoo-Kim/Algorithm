{
 "cells": [
  {
   "cell_type": "code",
   "execution_count": null,
   "metadata": {},
   "outputs": [],
   "source": [
    "def solution(n, words):\n",
    "    answer = []    \n",
    "    already=[]\n",
    "    a=0\n",
    "    b=0\n",
    "    around=1\n",
    "    cnt=0\n",
    "    \n",
    "    for word in words:\n",
    "        if len(already)==0:\n",
    "            already.append(word)\n",
    "            cnt+=1\n",
    "        else:\n",
    "            if already[-1][-1]!= word[0] or word in already:\n",
    "                a=cnt+1\n",
    "                b=around\n",
    "                break\n",
    "            else:\n",
    "                already.append(word)\n",
    "                cnt+=1\n",
    "        if cnt==n:\n",
    "            cnt=0\n",
    "            around+=1\n",
    "        \n",
    "    answer=[a,b]   \n",
    "        \n",
    "        \n",
    "    return answer"
   ]
  }
 ],
 "metadata": {
  "kernelspec": {
   "display_name": "Python 3",
   "language": "python",
   "name": "python3"
  },
  "language_info": {
   "codemirror_mode": {
    "name": "ipython",
    "version": 3
   },
   "file_extension": ".py",
   "mimetype": "text/x-python",
   "name": "python",
   "nbconvert_exporter": "python",
   "pygments_lexer": "ipython3",
   "version": "3.8.5"
  }
 },
 "nbformat": 4,
 "nbformat_minor": 4
}
