{
 "cells": [
  {
   "cell_type": "code",
   "execution_count": 16,
   "metadata": {},
   "outputs": [],
   "source": [
    "def solution(answers):\n",
    "\n",
    "    n=len(answers) #문제의 개수\n",
    "    answers=''.join(map(str,answers))\n",
    "    \n",
    "    if n<5:\n",
    "        s_1='12345'[0:n]\n",
    "    else:\n",
    "        s_1='12345'*(n//5)+'12345'[0:n%5]\n",
    "        \n",
    "    if n<8:\n",
    "        s_2='21232425'[0:n]\n",
    "    else:\n",
    "        s_2='21232425'*(n//8)+'21232425'[0:n%8]\n",
    "        \n",
    "    if n<10:\n",
    "        s_3='3311224455'[0:n]\n",
    "    else:\n",
    "        s_3='3311224455'*(n//10)+'3311224455'[0:n%10]\n",
    "\n",
    "    cnt1=0\n",
    "    cnt2=0\n",
    "    cnt3=0\n",
    "    \n",
    "    for i in range(n):\n",
    "        ans=answers[i]\n",
    "        print(ans,s_1[i])\n",
    "        if ans==s_1[i]:\n",
    "            cnt1+=1\n",
    "        if ans==s_2[i]:\n",
    "            cnt2+=1\n",
    "        if ans==s_3[i]:\n",
    "            cnt3+=1\n",
    "       \n",
    "    answer=[cnt1,cnt2,cnt3]\n",
    "    \n",
    "    M=max(answer)\n",
    "    \n",
    "    answer=[i+1 for i in range(3) if answer[i]==M]\n",
    "        \n",
    "    return answer"
   ]
  }
 ],
 "metadata": {
  "kernelspec": {
   "display_name": "Python 3",
   "language": "python",
   "name": "python3"
  },
  "language_info": {
   "codemirror_mode": {
    "name": "ipython",
    "version": 3
   },
   "file_extension": ".py",
   "mimetype": "text/x-python",
   "name": "python",
   "nbconvert_exporter": "python",
   "pygments_lexer": "ipython3",
   "version": "3.8.5"
  }
 },
 "nbformat": 4,
 "nbformat_minor": 4
}
