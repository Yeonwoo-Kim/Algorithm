{
 "cells": [
  {
   "cell_type": "code",
   "execution_count": null,
   "metadata": {},
   "outputs": [],
   "source": [
    "import sys\n",
    "def solution(n):\n",
    "    result = 0\n",
    "    INF = sys.maxsize\n",
    "    ptr = ''\n",
    "    k=n\n",
    "    # n을 2진수로 바꾸기\n",
    "    while n != 0:\n",
    "        ptr = str(n % 2) + ptr\n",
    "        n = n // 2\n",
    "\n",
    "    for i in range(k+ 1, INF):\n",
    "        p = ''\n",
    "        while i != 0:\n",
    "            p = str(i % 2) + p\n",
    "            i = i // 2\n",
    "\n",
    "        if ptr.count('1') == p.count('1'):\n",
    "            answer = p\n",
    "            break\n",
    "\n",
    "    j = 0\n",
    "\n",
    "    for i in range(len(answer) - 1, -1, -1):\n",
    "        result += (2 ** j) * int(answer[i])\n",
    "        j += 1\n",
    "\n",
    "    return result"
   ]
  }
 ],
 "metadata": {
  "kernelspec": {
   "display_name": "Python 3",
   "language": "python",
   "name": "python3"
  },
  "language_info": {
   "codemirror_mode": {
    "name": "ipython",
    "version": 3
   },
   "file_extension": ".py",
   "mimetype": "text/x-python",
   "name": "python",
   "nbconvert_exporter": "python",
   "pygments_lexer": "ipython3",
   "version": "3.8.5"
  }
 },
 "nbformat": 4,
 "nbformat_minor": 4
}
