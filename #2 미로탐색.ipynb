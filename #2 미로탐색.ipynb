{
 "cells": [
  {
   "cell_type": "code",
   "execution_count": 25,
   "metadata": {
    "scrolled": true
   },
   "outputs": [
    {
     "name": "stdout",
     "output_type": "stream",
     "text": [
      "4 6\n",
      "101111\n",
      "101010\n",
      "101011\n",
      "111011\n",
      "15\n"
     ]
    }
   ],
   "source": [
    "from collections import deque\n",
    "\n",
    "def dfs(x,y):\n",
    "    queue=deque()\n",
    "    queue.append((x,y))\n",
    "    \n",
    "    while queue:\n",
    "        \n",
    "        x,y=queue.popleft()\n",
    "        \n",
    "        for i in range(4):\n",
    "            nx=x+dx[i]\n",
    "            ny=y+dy[i]\n",
    "            \n",
    "            if(nx<0 or ny<0 or nx>=n or ny >=m):\n",
    "                continue\n",
    "                \n",
    "            if l_list[nx][ny]==0:\n",
    "                continue\n",
    "                \n",
    "            if l_list[nx][ny]==1:\n",
    "                l_list[nx][ny]=l_list[x][y]+1\n",
    "                queue.append((nx,ny))\n",
    "    \n",
    "    return l_list[n-1][m-1]\n",
    "\n",
    "n,m=map(int,input().split())\n",
    "l_list=[]\n",
    "for i in range(n):\n",
    "    l_list.append(list(map(int,input())))\n",
    "    \n",
    "# 상하좌우로 움직이기\n",
    "dx=[-1,1,0,0]\n",
    "dy=[0,0,-1,1] \n",
    "           \n",
    "print(dfs(0,0))               "
   ]
  }
 ],
 "metadata": {
  "kernelspec": {
   "display_name": "Python 3",
   "language": "python",
   "name": "python3"
  },
  "language_info": {
   "codemirror_mode": {
    "name": "ipython",
    "version": 3
   },
   "file_extension": ".py",
   "mimetype": "text/x-python",
   "name": "python",
   "nbconvert_exporter": "python",
   "pygments_lexer": "ipython3",
   "version": "3.8.3"
  }
 },
 "nbformat": 4,
 "nbformat_minor": 4
}
