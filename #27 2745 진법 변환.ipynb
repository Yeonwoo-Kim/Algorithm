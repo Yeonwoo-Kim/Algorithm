{
 "cells": [
  {
   "cell_type": "code",
   "execution_count": 13,
   "metadata": {},
   "outputs": [
    {
     "name": "stdout",
     "output_type": "stream",
     "text": [
      "ZZZZZ 36\n",
      "60466175\n"
     ]
    }
   ],
   "source": [
    "s,n=map(str,input().split())\n",
    "List=[]\n",
    "result=0\n",
    "for i in s:\n",
    "    if i >='A' and i<='Z':\n",
    "        List.append(ord(i)-55)\n",
    "    else:\n",
    "        List.append(int(i))\n",
    "k=0\n",
    "for i in range(len(List)-1,-1,-1):\n",
    "    result+=List[k]*(int(n)**(i))\n",
    "    k+=1\n",
    "    \n",
    "print(result)"
   ]
  }
 ],
 "metadata": {
  "kernelspec": {
   "display_name": "Python 3",
   "language": "python",
   "name": "python3"
  },
  "language_info": {
   "codemirror_mode": {
    "name": "ipython",
    "version": 3
   },
   "file_extension": ".py",
   "mimetype": "text/x-python",
   "name": "python",
   "nbconvert_exporter": "python",
   "pygments_lexer": "ipython3",
   "version": "3.8.5"
  }
 },
 "nbformat": 4,
 "nbformat_minor": 4
}
