{
 "cells": [
  {
   "cell_type": "markdown",
   "metadata": {},
   "source": [
    "## 시간초과에 대한 생각... <br>list는 메모리 공간을 할당해서 자료를 저장함, 그래서 삽입하거나 삭제할때 다른 원소들을 밀거나 당기는 등, 건들이게됨... 이 문제를 풀기 위해서는 1. list의 맨 앞,뒤에서만 삽입/삭제 연산을 할 수 있도록 알고리즘 구현하기 2. 다른 원소를 건들일 필요가 없는 자료구조 사용하기"
   ]
  },
  {
   "cell_type": "code",
   "execution_count": 38,
   "metadata": {
    "scrolled": true
   },
   "outputs": [
    {
     "name": "stdout",
     "output_type": "stream",
     "text": [
      "abcd\n",
      "3\n",
      "P x\n",
      "L\n",
      "P y\n",
      "abcdyx\n",
      "11.144192457199097\n"
     ]
    }
   ],
   "source": [
    "import time\n",
    "\n",
    "T=time.time()\n",
    "s=input()\n",
    "List=[0]*600001\n",
    "for i in range(len(s)):\n",
    "    List[i]=s[i]\n",
    "pointer = len(s)\n",
    "\n",
    "n=int(input())\n",
    "for i in range(n):\n",
    "    cur=input().split()\n",
    "    if cur[0]=='L':\n",
    "        if pointer !=0:\n",
    "            List[pointer-1],List[pointer]=List[pointer],List[pointer-1]\n",
    "            pointer=pointer-1\n",
    "    elif cur[0]=='D':\n",
    "        if pointer !=len(s):\n",
    "            List[pointer+1],List[pointer]=List[pointer],List[pointer+1]\n",
    "            pointer+=1\n",
    "    elif cur[0] =='B':\n",
    "        if pointer !=0:\n",
    "            List[pointer-1]=0\n",
    "            List.remove(0)\n",
    "            pointer=pointer-1\n",
    "    elif cur[0] =='P':\n",
    "        data=cur[1]\n",
    "        List.insert(pointer,data)\n",
    "        pointer+=1\n",
    "        \n",
    "#커서랑 비어있는거 지움\n",
    "List=list(filter(lambda x:x!=0,List))\n",
    "print(''.join(List))\n",
    "print(time.time()-T)"
   ]
  },
  {
   "cell_type": "markdown",
   "metadata": {},
   "source": [
    "### 시간초과가 난다.. 링크드리스트와 스택을 생각해보자.."
   ]
  },
  {
   "cell_type": "code",
   "execution_count": 54,
   "metadata": {},
   "outputs": [
    {
     "name": "stdout",
     "output_type": "stream",
     "text": [
      "abcde\n",
      "5\n",
      "L\n",
      "L\n",
      "L\n",
      "L\n",
      "P c\n",
      "acbcde\n"
     ]
    }
   ],
   "source": [
    "from collections import deque\n",
    "\n",
    "que_1=list(input())\n",
    "que_2=deque()\n",
    "\n",
    "n=int(input())\n",
    "    \n",
    "for i in range(n):\n",
    "    com=input().split()\n",
    "    if com[0]=='L':\n",
    "        if que_1:\n",
    "            que_2.append(que_1.pop())        \n",
    "    elif com[0]=='D':\n",
    "        if que_2:\n",
    "            que_1.append(que_2.pop())        \n",
    "    elif com[0]=='B':\n",
    "        if que_1:\n",
    "            que_1.pop()\n",
    "    elif com[0]=='P':\n",
    "        que_1.append(com[1])\n",
    "        \n",
    "print(''.join(list(que_1)+list(reversed(que_2))))"
   ]
  },
  {
   "cell_type": "code",
   "execution_count": null,
   "metadata": {},
   "outputs": [],
   "source": [
    "#readline()에 개행 문자 포함된걸 생각못하고 계속 왜 틀렸는지 삽질했다...ㅋ\n",
    "#아무래도 sys 모듈 쓸 수 있는 파이참으로 넘어가야할듯\n",
    "\n",
    "\n",
    "from collections import deque\n",
    "import sys\n",
    "\n",
    "que_1=list(sys.stdin.readline().strip())\n",
    "que_2=deque()\n",
    "n=int(sys.stdin.readline())\n",
    "    \n",
    "for i in range(n):\n",
    "    com=sys.stdin.readline().split()\n",
    "    if com[0]=='L':\n",
    "        if que_1:\n",
    "            que_2.append(que_1.pop())        \n",
    "    elif com[0]=='D':\n",
    "        if que_2:\n",
    "            que_1.append(que_2.pop())        \n",
    "    elif com[0]=='B':\n",
    "        if que_1:\n",
    "            que_1.pop()\n",
    "    elif com[0]=='P':\n",
    "        que_1.append(com[1])\n",
    "        \n",
    "print(''.join(list(que_1)+list(reversed(que_2))))"
   ]
  },
  {
   "cell_type": "markdown",
   "metadata": {},
   "source": [
    "https://wiki.python.org/moin/TimeComplexity\n",
    "\n",
    "\n",
    "시간복잡도"
   ]
  },
  {
   "cell_type": "markdown",
   "metadata": {},
   "source": [
    "당연히 deque를 사용했을 때 더 빠를 것이라고 생각했는데.. 구글링을 통해 검색해보니\n",
    "python에서 list의 경우에는 동적 array로 구현되어 있고 deque의 경우 양방향 linked-list의 형태로 구현되었음을 알수있다.\n",
    "\n",
    "\n",
    "\n",
    "따라서 stack의 동작을 생각해보면 동적 array와 linked-list의 append와 pop 연산은 둘다 O(1)임을 알 수 있다.\n",
    "\n",
    "\n",
    "\n",
    "list가 더 빠른이유는 생성할때 동적 array의 경우가 더 빠르고, pop과 append 연산시에 같은 시간복잡도 일지라도 linked-list가 자신과 연결된 node의 주소값을 저장하는 과정과 linked-list의 끝을 가리키는 값 수정 등 여러 추가사항이 있어서 조금 더 느린것으로 예상된다.\n",
    "\n",
    "\n",
    "\n",
    "deque가 list보다 빠른 경우는 위의 글에서 보여주듯이 두 배열의 맨 앞에 추가하는 연산인 deque의 appendleft 와 list의 insert이다.\n",
    "\n",
    "위의 경우에는 deque의 시간복잡도는 O(1) 이고, list는 동적 array이므로 모든 요소를 왼쪽으로 옮기는 연산 때문에 O(n)의 시간복잡도를 갖는다.\n",
    "\n",
    "따라서 스택을 활용할때는 list를, 큐를 활용할때는 deque를 사용하는것이 유리할것으로 보인다."
   ]
  },
  {
   "cell_type": "code",
   "execution_count": null,
   "metadata": {},
   "outputs": [],
   "source": [
    "#readline() 은 줄 바꿈 문자를 포함하고있음"
   ]
  }
 ],
 "metadata": {
  "kernelspec": {
   "display_name": "Python 3",
   "language": "python",
   "name": "python3"
  },
  "language_info": {
   "codemirror_mode": {
    "name": "ipython",
    "version": 3
   },
   "file_extension": ".py",
   "mimetype": "text/x-python",
   "name": "python",
   "nbconvert_exporter": "python",
   "pygments_lexer": "ipython3",
   "version": "3.8.5"
  }
 },
 "nbformat": 4,
 "nbformat_minor": 4
}
