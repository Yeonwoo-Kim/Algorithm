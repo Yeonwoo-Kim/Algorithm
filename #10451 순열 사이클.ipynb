{
 "cells": [
  {
   "cell_type": "code",
   "execution_count": 42,
   "metadata": {},
   "outputs": [
    {
     "name": "stdout",
     "output_type": "stream",
     "text": [
      "1\n",
      "8\n",
      "3 2 7 8 1 4 5 6\n"
     ]
    }
   ],
   "source": [
    "from collections import deque\n",
    "import sys\n",
    "\n",
    "N = int(sys.stdin.readline())\n",
    "for i in range(N):\n",
    "    que = deque()\n",
    "\n",
    "    n = int(sys.stdin.readline())\n",
    "\n",
    "    visited = [0] * n\n",
    "\n",
    "    graph = {i: [] for i in range(1, n + 1)}\n",
    "\n",
    "    List = [0] + list(map(int, sys.stdin.readline().rstrip().split()))\n",
    "\n",
    "    for j in range(1, n + 1):\n",
    "        graph[j].append(List[j])\n",
    "    cnt = 0\n",
    "\n",
    "    for j in range(1, n + 1):\n",
    "        if visited[j - 1] == 0:\n",
    "            que.append(j)\n",
    "            while que:\n",
    "                p = que.popleft()\n",
    "                visited[p - 1] = 1\n",
    "                if visited[graph[p][0] - 1] == 0:\n",
    "                    que.append(graph[p][0])\n",
    "                else:\n",
    "                    break\n",
    "\n",
    "            cnt += 1\n",
    "    print(cnt)"
   ]
  }
 ],
 "metadata": {
  "kernelspec": {
   "display_name": "Python 3",
   "language": "python",
   "name": "python3"
  },
  "language_info": {
   "codemirror_mode": {
    "name": "ipython",
    "version": 3
   },
   "file_extension": ".py",
   "mimetype": "text/x-python",
   "name": "python",
   "nbconvert_exporter": "python",
   "pygments_lexer": "ipython3",
   "version": "3.8.5"
  }
 },
 "nbformat": 4,
 "nbformat_minor": 4
}
