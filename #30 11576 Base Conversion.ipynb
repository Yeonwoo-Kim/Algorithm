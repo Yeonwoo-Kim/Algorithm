{
 "cells": [
  {
   "cell_type": "code",
   "execution_count": 6,
   "metadata": {},
   "outputs": [
    {
     "name": "stdout",
     "output_type": "stream",
     "text": [
      "23 16\n",
      "3\n",
      "1 2 16\n",
      "591\n",
      "1 9 9 15\n"
     ]
    }
   ],
   "source": [
    "import sys\n",
    "\n",
    "A, B = map(int, sys.stdin.readline().rstrip().split())\n",
    "n = int(sys.stdin.readline().rstrip())\n",
    "List = list(map(int, sys.stdin.readline().split()))\n",
    "cnt = 0\n",
    "k = 0\n",
    "for i in range(n - 1, -1, -1):\n",
    "    cnt += List[k] * (A ** i)\n",
    "    k += 1\n",
    "\n",
    "result = []\n",
    "\n",
    "while True:\n",
    "    if cnt == 0:\n",
    "        break\n",
    "    result.append(cnt % B)\n",
    "    cnt = cnt // B\n",
    "\n",
    "print(*reversed(result))\n"
   ]
  },
  {
   "cell_type": "code",
   "execution_count": null,
   "metadata": {},
   "outputs": [],
   "source": []
  }
 ],
 "metadata": {
  "kernelspec": {
   "display_name": "Python 3",
   "language": "python",
   "name": "python3"
  },
  "language_info": {
   "codemirror_mode": {
    "name": "ipython",
    "version": 3
   },
   "file_extension": ".py",
   "mimetype": "text/x-python",
   "name": "python",
   "nbconvert_exporter": "python",
   "pygments_lexer": "ipython3",
   "version": "3.8.5"
  }
 },
 "nbformat": 4,
 "nbformat_minor": 4
}
