{
 "cells": [
  {
   "cell_type": "code",
   "execution_count": 10,
   "metadata": {
    "scrolled": true
   },
   "outputs": [
    {
     "name": "stdout",
     "output_type": "stream",
     "text": [
      "5\n",
      "1\n",
      "1\n",
      "1\n",
      "1\n",
      "1\n",
      "5\n"
     ]
    }
   ],
   "source": [
    "result=0\n",
    "\n",
    "n=int(input())\n",
    "data=[]\n",
    "for i in range(n):\n",
    "    data.append(int(input()))\n",
    "\n",
    "#음수 따로,양수따로 리스트 분리 후, 양수는 내림차순, 음수는 오름 차순으로..\n",
    "\n",
    "m_data=[i for i in data if(i<=0)]\n",
    "m_data=sorted(m_data) #오름차순\n",
    "\n",
    "p_data=[i for i in data if(i>0)]\n",
    "p_data=sorted(p_data,reverse=True)\n",
    "\n",
    "\n",
    "#마이너스,0 리스트 부터\n",
    "if(len(m_data)%2==0): # 데이터 개수가 짝수일때\n",
    "    for i in range(len(m_data)-1):\n",
    "        if(i%2==0):\n",
    "            result=result+(m_data[i]*m_data[i+1])        \n",
    "        \n",
    "else:\n",
    "    for i in range(len(m_data)-1):\n",
    "        if(i%2==0):\n",
    "            result=result+(m_data[i]*m_data[i+1])\n",
    "    result+=m_data[len(m_data)-1]\n",
    "\n",
    "\n",
    "#양수 리스트\n",
    "\n",
    "if(len(p_data)%2==0): # 데이터 개수가 짝수일때\n",
    "    for i in range(len(p_data)-1):\n",
    "        if(i%2==0):\n",
    "            if(p_data[i+1]==1): #1이면 더하는게 더 큼\n",
    "                result=result+(p_data[i]+p_data[i+1])\n",
    "            else:\n",
    "                result=result+(p_data[i]*p_data[i+1])        \n",
    "        \n",
    "else:\n",
    "    for i in range(len(p_data)-1):\n",
    "        if(i%2==0):\n",
    "            if(p_data[i+1]==1): #1이면 더하는게 더 큼\n",
    "                result=result+(p_data[i]+p_data[i+1])\n",
    "            else:\n",
    "                result=result+(p_data[i]*p_data[i+1])\n",
    "    result+=p_data[len(p_data)-1]\n",
    "    \n",
    "\n",
    "print(result)"
   ]
  },
  {
   "cell_type": "code",
   "execution_count": null,
   "metadata": {},
   "outputs": [],
   "source": []
  }
 ],
 "metadata": {
  "kernelspec": {
   "display_name": "Python 3",
   "language": "python",
   "name": "python3"
  },
  "language_info": {
   "codemirror_mode": {
    "name": "ipython",
    "version": 3
   },
   "file_extension": ".py",
   "mimetype": "text/x-python",
   "name": "python",
   "nbconvert_exporter": "python",
   "pygments_lexer": "ipython3",
   "version": "3.8.3"
  }
 },
 "nbformat": 4,
 "nbformat_minor": 4
}
