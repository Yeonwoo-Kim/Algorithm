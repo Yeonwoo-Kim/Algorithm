{
 "cells": [
  {
   "cell_type": "code",
   "execution_count": 29,
   "metadata": {},
   "outputs": [
    {
     "name": "stdout",
     "output_type": "stream",
     "text": [
      "7\n",
      "6\n",
      "1 2\n",
      "2 3\n",
      "1 5\n",
      "5 2\n",
      "5 6\n",
      "4 7\n",
      "4\n",
      "9.85442590713501\n"
     ]
    }
   ],
   "source": [
    "n=int(input())\n",
    "m=int(input())\n",
    "graph={i:[] for i in range(1,n+1)}\n",
    "\n",
    "for i in range(m):\n",
    "    x,y=map(int,input().split())\n",
    "    graph[x].append(y)\n",
    "    graph[y].append(x)\n",
    "    \n",
    "for key in graph:\n",
    "    graph[key].sort()\n",
    "    \n",
    "visited=[0 for i in range(n)]\n",
    "\n",
    "from collections import deque\n",
    "\n",
    "cnt=0\n",
    "que=deque()\n",
    "\n",
    "que.append(1)\n",
    "visited[0]=1\n",
    "\n",
    "while que:\n",
    "    k=que.popleft()\n",
    "    \n",
    "    for i in graph[k]:\n",
    "        if(visited[i-1]==0): #방문 안했으면\n",
    "            que.append(i)\n",
    "            cnt+=1\n",
    "            visited[i-1]=1\n",
    "            \n",
    "print(cnt)"
   ]
  },
  {
   "cell_type": "code",
   "execution_count": null,
   "metadata": {},
   "outputs": [],
   "source": []
  }
 ],
 "metadata": {
  "kernelspec": {
   "display_name": "Python 3",
   "language": "python",
   "name": "python3"
  },
  "language_info": {
   "codemirror_mode": {
    "name": "ipython",
    "version": 3
   },
   "file_extension": ".py",
   "mimetype": "text/x-python",
   "name": "python",
   "nbconvert_exporter": "python",
   "pygments_lexer": "ipython3",
   "version": "3.8.3"
  }
 },
 "nbformat": 4,
 "nbformat_minor": 4
}
