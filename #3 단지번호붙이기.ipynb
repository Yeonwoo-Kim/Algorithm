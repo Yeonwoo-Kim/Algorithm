{
 "cells": [
  {
   "cell_type": "code",
   "execution_count": 83,
   "metadata": {
    "scrolled": true
   },
   "outputs": [
    {
     "name": "stdout",
     "output_type": "stream",
     "text": [
      "7\n",
      "0110100\n",
      "0110101\n",
      "1110101\n",
      "0000111\n",
      "0100000\n",
      "0111110\n",
      "0111000\n",
      "3\n",
      "7\n",
      "8\n",
      "9\n"
     ]
    }
   ],
   "source": [
    "def dfs(x,y):\n",
    "    global cnt\n",
    "    if x<0 or y<0 or x>=n or y>=n:\n",
    "        return False\n",
    "    \n",
    "    if l_list[x][y]==1:\n",
    "        l_list[x][y]=0\n",
    "        cnt+=1\n",
    "        \n",
    "        dfs(x-1,y) #상\n",
    "        \n",
    "        dfs(x+1,y) #하\n",
    "        \n",
    "        dfs(x,y-1) #좌\n",
    "        \n",
    "        dfs(x,y+1) #우\n",
    "        \n",
    "        return (int(1),cnt)\n",
    "    \n",
    "n=int(input())\n",
    "l_list=[]\n",
    "result=[] # 단지내 집의 수\n",
    "ptr=0\n",
    "cnt=0\n",
    "\n",
    "for i in range(n):\n",
    "    l_list.append(list(map(int,input())))\n",
    "    \n",
    "for i in range(n):\n",
    "    for j in range(n):        \n",
    "        a=dfs(i,j)        \n",
    "        if(a!=None):    \n",
    "            ptr+=1            \n",
    "            result.append(a[1])\n",
    "            cnt=0\n",
    "print(ptr)\n",
    "result=sorted(result)\n",
    "for i in result:\n",
    "    print(i)       "
   ]
  },
  {
   "cell_type": "code",
   "execution_count": null,
   "metadata": {},
   "outputs": [],
   "source": []
  }
 ],
 "metadata": {
  "kernelspec": {
   "display_name": "Python 3",
   "language": "python",
   "name": "python3"
  },
  "language_info": {
   "codemirror_mode": {
    "name": "ipython",
    "version": 3
   },
   "file_extension": ".py",
   "mimetype": "text/x-python",
   "name": "python",
   "nbconvert_exporter": "python",
   "pygments_lexer": "ipython3",
   "version": "3.8.3"
  }
 },
 "nbformat": 4,
 "nbformat_minor": 4
}
