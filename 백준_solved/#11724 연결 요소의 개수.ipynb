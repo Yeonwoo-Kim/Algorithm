{
 "cells": [
  {
   "cell_type": "code",
   "execution_count": null,
   "metadata": {},
   "outputs": [],
   "source": [
    "#pypy3로 넣으면 통과, python3로 넣으면 시간초과..뭐가 문제일까?!\n",
    "\n",
    "from collections import deque\n",
    "import sys\n",
    "\n",
    "stack=deque()\n",
    "n, m = map(int, sys.stdin.readline().split())\n",
    "graph = {i: [] for i in range(1, n + 1)}\n",
    "\n",
    "for i in range(m):\n",
    "    a, b = map(int, sys.stdin.readline().split())\n",
    "    graph[a].append(b)\n",
    "    graph[b].append(a)\n",
    "\n",
    "visited = [0 for i in range(n)]\n",
    "\n",
    "cnt = 0\n",
    "for i in range(1,n+1):\n",
    "    if visited[i-1] == 0:\n",
    "        stack.append(i)\n",
    "        while stack:\n",
    "            k = stack.pop()\n",
    "            for node in graph[k]:\n",
    "                if visited[node - 1] == 0:\n",
    "                    stack.append(node)\n",
    "\n",
    "            visited[k - 1] = 1\n",
    "        cnt += 1\n",
    "\n",
    "print(cnt)"
   ]
  },
  {
   "cell_type": "code",
   "execution_count": null,
   "metadata": {},
   "outputs": [],
   "source": []
  }
 ],
 "metadata": {
  "kernelspec": {
   "display_name": "Python 3",
   "language": "python",
   "name": "python3"
  },
  "language_info": {
   "codemirror_mode": {
    "name": "ipython",
    "version": 3
   },
   "file_extension": ".py",
   "mimetype": "text/x-python",
   "name": "python",
   "nbconvert_exporter": "python",
   "pygments_lexer": "ipython3",
   "version": "3.8.5"
  }
 },
 "nbformat": 4,
 "nbformat_minor": 4
}
