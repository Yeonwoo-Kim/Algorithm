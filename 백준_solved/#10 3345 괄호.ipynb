{
 "cells": [
  {
   "cell_type": "code",
   "execution_count": 2,
   "metadata": {},
   "outputs": [
    {
     "name": "stdout",
     "output_type": "stream",
     "text": [
      "3\n",
      "((\n",
      "NO\n",
      "))\n",
      "NO\n",
      "())(()\n",
      "NO\n"
     ]
    }
   ],
   "source": [
    "n=int(input())\n",
    "cnt1=0 #(\n",
    "cnt2=0 #)\n",
    "for i in range(n):\n",
    "    cnt1=0\n",
    "    cnt2=0\n",
    "    p=input()\n",
    "    for j in p:\n",
    "        if j=='(':\n",
    "            cnt1+=1\n",
    "        elif j==')':\n",
    "            cnt2+=1\n",
    "        if cnt1<cnt2: ##닫기 괄호가 열기보다 많아지면 중단\n",
    "            cnt=-1\n",
    "            break\n",
    "    if cnt1==cnt2:\n",
    "        print('YES')\n",
    "    else:\n",
    "        print('NO')\n",
    "        "
   ]
  }
 ],
 "metadata": {
  "kernelspec": {
   "display_name": "Python 3",
   "language": "python",
   "name": "python3"
  },
  "language_info": {
   "codemirror_mode": {
    "name": "ipython",
    "version": 3
   },
   "file_extension": ".py",
   "mimetype": "text/x-python",
   "name": "python",
   "nbconvert_exporter": "python",
   "pygments_lexer": "ipython3",
   "version": "3.8.5"
  }
 },
 "nbformat": 4,
 "nbformat_minor": 4
}
