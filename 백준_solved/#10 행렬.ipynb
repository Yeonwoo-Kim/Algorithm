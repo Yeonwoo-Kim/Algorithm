{
 "cells": [
  {
   "cell_type": "code",
   "execution_count": 40,
   "metadata": {},
   "outputs": [
    {
     "name": "stdout",
     "output_type": "stream",
     "text": [
      "3 4\n",
      "0000\n",
      "0010\n",
      "0000\n",
      "1001\n",
      "1011\n",
      "1001\n",
      "n,m: 0 0\n",
      "n,m: 0 1\n",
      "2\n"
     ]
    }
   ],
   "source": [
    "n,m=map(int,input().split())\n",
    "A=[]\n",
    "A_list=[]\n",
    "B_list=[]\n",
    "cnt=0\n",
    "k=-1\n",
    "\n",
    "for i in range(n):\n",
    "    A_list.append(list(input())) # A행렬\n",
    "    \n",
    "for i in range(n):\n",
    "    B_list.append(list(input())) # B행렬\n",
    "\n",
    "        \n",
    "\n",
    "def SWAP(n,m):    \n",
    "    for i in range(n,n+3):\n",
    "        for j in range(m,m+3):\n",
    "            if(A_list[i][j]=='0'):\n",
    "                A_list[i][j]='1'\n",
    "            else:\n",
    "                A_list[i][j]='0'\n",
    "            \n",
    "            \n",
    "for i in range(n):\n",
    "    for j in range(m):\n",
    "        if(A_list[i][j]!=B_list[i][j]):\n",
    "            if(i<=(n-3) and j<=(m-3)):\n",
    "                #print(\"n,m:\",i,j)\n",
    "                SWAP(i,j)\n",
    "                cnt+=1\n",
    "            \n",
    "for i in range(n):\n",
    "    for j in range(m):\n",
    "        if(A_list[i][j]!=B_list[i][j]):\n",
    "            cnt=-1\n",
    "            break\n",
    "            \n",
    "            \n",
    "print(cnt)\n",
    "                "
   ]
  },
  {
   "cell_type": "code",
   "execution_count": null,
   "metadata": {},
   "outputs": [],
   "source": []
  }
 ],
 "metadata": {
  "kernelspec": {
   "display_name": "Python 3",
   "language": "python",
   "name": "python3"
  },
  "language_info": {
   "codemirror_mode": {
    "name": "ipython",
    "version": 3
   },
   "file_extension": ".py",
   "mimetype": "text/x-python",
   "name": "python",
   "nbconvert_exporter": "python",
   "pygments_lexer": "ipython3",
   "version": "3.8.3"
  }
 },
 "nbformat": 4,
 "nbformat_minor": 4
}
