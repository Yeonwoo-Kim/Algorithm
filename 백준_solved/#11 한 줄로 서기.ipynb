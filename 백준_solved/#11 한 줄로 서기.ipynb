{
 "cells": [
  {
   "cell_type": "code",
   "execution_count": 4,
   "metadata": {},
   "outputs": [
    {
     "name": "stdout",
     "output_type": "stream",
     "text": [
      "10\n",
      "5 3 7 1 4 2 1 0 0 0\n",
      "8 4 7 2 6 1 9 5 10 3 "
     ]
    }
   ],
   "source": [
    "cnt=0\n",
    "n=int(input())\n",
    "\n",
    "l_list=list(map(int,input().split()))\n",
    "result=[0 for i in range(n)]\n",
    "\n",
    "for i in range(n):\n",
    "    p=l_list[i]\n",
    "    \n",
    "    for j in range(n):\n",
    "        if(result[j]==0):\n",
    "            cnt+=1\n",
    "        if (cnt==p+1):\n",
    "            result[j]=i+1\n",
    "            cnt=0\n",
    "            break\n",
    "            \n",
    "for i in result:\n",
    "    print(i,end=' ')"
   ]
  },
  {
   "cell_type": "code",
   "execution_count": null,
   "metadata": {},
   "outputs": [],
   "source": []
  }
 ],
 "metadata": {
  "kernelspec": {
   "display_name": "Python 3",
   "language": "python",
   "name": "python3"
  },
  "language_info": {
   "codemirror_mode": {
    "name": "ipython",
    "version": 3
   },
   "file_extension": ".py",
   "mimetype": "text/x-python",
   "name": "python",
   "nbconvert_exporter": "python",
   "pygments_lexer": "ipython3",
   "version": "3.8.3"
  }
 },
 "nbformat": 4,
 "nbformat_minor": 4
}
