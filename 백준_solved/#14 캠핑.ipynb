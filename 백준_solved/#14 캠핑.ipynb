{
 "cells": [
  {
   "cell_type": "code",
   "execution_count": 4,
   "metadata": {},
   "outputs": [
    {
     "name": "stdout",
     "output_type": "stream",
     "text": [
      "123 456 789\n",
      "Case 1: 246\n",
      "0 0 0\n"
     ]
    }
   ],
   "source": [
    "n=0\n",
    "while(1):\n",
    "    L,P,V=map(int,input().split())\n",
    "    if(L==0 and P==0 and V==0):\n",
    "        break\n",
    "    else:\n",
    "        n+=1\n",
    "        result=(V//P)*(P-(P-L))\n",
    "        if (V%P) <=L:\n",
    "            result+=(V%P)\n",
    "        else:\n",
    "            result+=L\n",
    "        \n",
    "        print(f\"Case {n}: {result}\")\n",
    "            "
   ]
  }
 ],
 "metadata": {
  "kernelspec": {
   "display_name": "Python 3",
   "language": "python",
   "name": "python3"
  },
  "language_info": {
   "codemirror_mode": {
    "name": "ipython",
    "version": 3
   },
   "file_extension": ".py",
   "mimetype": "text/x-python",
   "name": "python",
   "nbconvert_exporter": "python",
   "pygments_lexer": "ipython3",
   "version": "3.8.3"
  }
 },
 "nbformat": 4,
 "nbformat_minor": 4
}
