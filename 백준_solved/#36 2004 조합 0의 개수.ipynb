{
 "cells": [
  {
   "cell_type": "markdown",
   "metadata": {},
   "source": [
    "### 완전 탐색에서 조합,순열이 쓰이나???\n",
    "\n",
    "## 1. itertools 모듈\n",
    "- from itertools import permutations\n",
    "=>순열 = 고르고 나열하는 것<br>\n",
    "=> 반복 가능한 객체 중복을 허용하지 않고 r개를 뽑아서 나열 <br>\n",
    "=> permutations(반복 가능한 객체, 반복 횟수) <br>\n",
    "\n",
    "- from itertools import combinations \n",
    "=> 조합 = 고르기만 하는 것<br>\n",
    "=> 반복 가능한 객체 r개를 뽑고 순서는 고려하지 않음 <br>\n",
    "=> combinations(반복 가능한 객체, 반복 횟수) <br>\n",
    "=> (1,2) 와 (2,1)는 같다고 봄 <br>\n",
    "\n",
    "- items=[1,2,3,4] <br>\n",
    "- for i in list(combinations(items,2)) <br>"
   ]
  },
  {
   "cell_type": "code",
   "execution_count": 35,
   "metadata": {},
   "outputs": [
    {
     "name": "stdout",
     "output_type": "stream",
     "text": [
      "25 12\n",
      "2\n"
     ]
    }
   ],
   "source": [
    "#메모리 초과\n",
    "\n",
    "from itertools import combinations\n",
    "\n",
    "#팩토리얼 구하기\n",
    "def func(n):\n",
    "    if n==0:\n",
    "        return 1\n",
    "    else:\n",
    "        result=1\n",
    "        for i in range(1,n+1):\n",
    "            result=result*i\n",
    "\n",
    "        return result\n",
    "        \n",
    "n,r=map(int,input().split())\n",
    "\n",
    "k=len(list(combinations([i for i in range(1,n+1)],r)))\n",
    "k=str(k)\n",
    "cnt=0\n",
    "for i in range(len(k)-1,-1,-1):\n",
    "    if k[i] =='0':\n",
    "        cnt+=1\n",
    "    else:\n",
    "        break\n",
    "        \n",
    "print(cnt)\n"
   ]
  },
  {
   "cell_type": "code",
   "execution_count": 43,
   "metadata": {},
   "outputs": [
    {
     "name": "stdout",
     "output_type": "stream",
     "text": [
      "25 12\n",
      "1\n"
     ]
    }
   ],
   "source": [
    "#시간 초과\n",
    "\n",
    "import sys\n",
    "\n",
    "#팩토리얼 구하기\n",
    "def func(n):\n",
    "    if n==0:\n",
    "        return 1\n",
    "    else:\n",
    "        result=1\n",
    "        for i in range(1,n+1):\n",
    "            result=result*i\n",
    "\n",
    "        return result\n",
    "        \n",
    "n,r=map(int,sys.stdin.readline().split())\n",
    "\n",
    "a=func(n)\n",
    "b=func(r)\n",
    "c=func(n-r)\n",
    "\n",
    "k=a//(b*c)\n",
    "\n",
    "k=str(k)\n",
    "cnt=0\n",
    "for i in range(len(k)-1,-1,-1):\n",
    "    if k[i] =='0':\n",
    "        cnt+=1\n",
    "    else:\n",
    "        break\n",
    "        \n",
    "print(cnt)\n"
   ]
  },
  {
   "cell_type": "code",
   "execution_count": 77,
   "metadata": {},
   "outputs": [
    {
     "name": "stdout",
     "output_type": "stream",
     "text": [
      "25 12\n",
      "12\n",
      "0\n"
     ]
    }
   ],
   "source": [
    "#0의 개수를 구하는 문제이니 2와 5의 개수만 세면된다!\n",
    "\n",
    "n,r=map(int,input().split())\n",
    "\n",
    "def cnt_2(n):\n",
    "    cnt=0    \n",
    "    for i in range(n,0,-1):\n",
    "        p=i\n",
    "        k=0 #나머지\n",
    "        if p%2==0:\n",
    "            while k==0:\n",
    "                k=p%2\n",
    "                p=p//2\n",
    "                if k!=0:\n",
    "                    cnt+=1\n",
    "            \n",
    "    return cnt\n",
    "    \n",
    "def cnt_5(n):\n",
    "    cnt=0    \n",
    "    for i in range(n,0,-1):\n",
    "        p=i\n",
    "        k=0 #나머지\n",
    "        if p%2==0:\n",
    "            while k==0:\n",
    "                k=p%5\n",
    "                p=p//5\n",
    "                if k!=0:\n",
    "                    cnt+=1\n",
    "            \n",
    "    return cnt\n",
    "\n",
    "print(cnt_2(n))\n",
    "\n",
    "print(min(cnt_2(n)-cnt_2(n-r)-cnt_2(r),cnt_5(n)-cnt_5(n-r)-cnt_5(r)))"
   ]
  },
  {
   "cell_type": "code",
   "execution_count": 16,
   "metadata": {},
   "outputs": [
    {
     "name": "stdout",
     "output_type": "stream",
     "text": [
      "25 12\n",
      "2\n"
     ]
    }
   ],
   "source": [
    "#2와 5의 개수만 세기\n",
    "#팩토리얼에 들어간 개수세기.. 함수가 한건했음..\n",
    "#깨달음...\n",
    "\n",
    "import sys\n",
    "\n",
    "n,r=map(int,sys.stdin.readline().split())\n",
    "def check_2(n):\n",
    "    cnt=0\n",
    "    while n!=0:\n",
    "        n=n//2\n",
    "        cnt+=n\n",
    "    return cnt\n",
    "            \n",
    "            \n",
    "\n",
    "def check_5(n):\n",
    "    cnt=0\n",
    "    while n!=0:\n",
    "        n=n//5\n",
    "        cnt+=n\n",
    "    return cnt\n",
    "\n",
    "print(min(check_2(n)-check_2(n-r)-check_2(r),check_5(n)-check_5(n-r)-check_5(r)))"
   ]
  }
 ],
 "metadata": {
  "kernelspec": {
   "display_name": "Python 3",
   "language": "python",
   "name": "python3"
  },
  "language_info": {
   "codemirror_mode": {
    "name": "ipython",
    "version": 3
   },
   "file_extension": ".py",
   "mimetype": "text/x-python",
   "name": "python",
   "nbconvert_exporter": "python",
   "pygments_lexer": "ipython3",
   "version": "3.8.5"
  }
 },
 "nbformat": 4,
 "nbformat_minor": 4
}
