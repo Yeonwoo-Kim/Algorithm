{
 "cells": [
  {
   "cell_type": "code",
   "execution_count": null,
   "metadata": {},
   "outputs": [],
   "source": [
    "from collections import deque\n",
    "import sys\n",
    "\n",
    "\n",
    "def DFS(i, j):\n",
    "    que = deque()\n",
    "\n",
    "    if i < 0 or i >= h or j < 0 or j >= w:\n",
    "        return None\n",
    "\n",
    "    else:\n",
    "        if List[i][j] == 1:\n",
    "            que.append([i, j])\n",
    "            List[i][j] = 0\n",
    "\n",
    "            while que:\n",
    "                p = que.popleft()\n",
    "                xx = p[0]\n",
    "                yy = p[1]\n",
    "\n",
    "                for k in range(8):\n",
    "                    x = dx[k]\n",
    "                    y = dy[k]\n",
    "                    if xx + x < 0 or xx + x >= h or yy + y < 0 or yy + y >= w:\n",
    "                        continue\n",
    "                    else:\n",
    "                        if List[xx + x][yy + y] == 1:\n",
    "                            que.append([xx + x, yy + y])\n",
    "                            List[xx + x][yy + y] = 0\n",
    "            return True\n",
    "\n",
    "        else:\n",
    "            return None\n",
    "\n",
    "\n",
    "while True:\n",
    "    w, h = map(int, sys.stdin.readline().rstrip().split())\n",
    "    if w == 0 and h == 0:\n",
    "        break\n",
    "\n",
    "    List = []\n",
    "    cnt = 0\n",
    "    dx = [-1, 1, 0, 0, -1, -1, 1, 1]\n",
    "    dy = [0, 0, -1, 1, -1, 1, -1, 1]\n",
    "\n",
    "    for i in range(h):\n",
    "        List.append(list(map(int, sys.stdin.readline().rstrip().split())))\n",
    "\n",
    "    for i in range(h):\n",
    "        for j in range(w):\n",
    "            k = DFS(i, j)\n",
    "            if k == None:\n",
    "                continue\n",
    "            else:\n",
    "                cnt += 1\n",
    "    print(cnt)\n"
   ]
  }
 ],
 "metadata": {
  "kernelspec": {
   "display_name": "Python 3",
   "language": "python",
   "name": "python3"
  },
  "language_info": {
   "codemirror_mode": {
    "name": "ipython",
    "version": 3
   },
   "file_extension": ".py",
   "mimetype": "text/x-python",
   "name": "python",
   "nbconvert_exporter": "python",
   "pygments_lexer": "ipython3",
   "version": "3.8.5"
  }
 },
 "nbformat": 4,
 "nbformat_minor": 4
}
