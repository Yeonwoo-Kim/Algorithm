{
 "cells": [
  {
   "cell_type": "code",
   "execution_count": 5,
   "metadata": {},
   "outputs": [
    {
     "name": "stdout",
     "output_type": "stream",
     "text": [
      "2\n",
      "15\n",
      "10\n",
      "20\n"
     ]
    }
   ],
   "source": [
    "k=int(input())\n",
    "list=[]\n",
    "result=[]\n",
    "\n",
    "for i in range(k):\n",
    "    list.append(int(input()))\n",
    "    \n",
    "list.sort(reverse=True)\n",
    "\n",
    "for i in range(k):\n",
    "    result.append(list[i]*(i+1))\n",
    "\n",
    "print(max(result))"
   ]
  }
 ],
 "metadata": {
  "kernelspec": {
   "display_name": "Python 3",
   "language": "python",
   "name": "python3"
  },
  "language_info": {
   "codemirror_mode": {
    "name": "ipython",
    "version": 3
   },
   "file_extension": ".py",
   "mimetype": "text/x-python",
   "name": "python",
   "nbconvert_exporter": "python",
   "pygments_lexer": "ipython3",
   "version": "3.8.3"
  }
 },
 "nbformat": 4,
 "nbformat_minor": 4
}
