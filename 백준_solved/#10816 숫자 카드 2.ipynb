{
 "cells": [
  {
   "cell_type": "markdown",
   "metadata": {},
   "source": [
    "114372 KB\t1660ms"
   ]
  },
  {
   "cell_type": "code",
   "execution_count": null,
   "metadata": {},
   "outputs": [],
   "source": [
    "import bisect\n",
    "import sys\n",
    "\n",
    "n = int(sys.stdin.readline().rstrip())\n",
    "List = list(map(int, sys.stdin.readline().rstrip().split()))\n",
    "\n",
    "m = int(input())\n",
    "ans = list(map(int, sys.stdin.readline().rstrip().split()))\n",
    "\n",
    "List.sort()\n",
    "\n",
    "for i in range(m):\n",
    "    left = bisect.bisect_left(List, ans[i])\n",
    "    right = bisect.bisect_right(List, ans[i])\n",
    "\n",
    "    print(right - left, end=' ')\n"
   ]
  }
 ],
 "metadata": {
  "kernelspec": {
   "display_name": "Python 3",
   "language": "python",
   "name": "python3"
  },
  "language_info": {
   "codemirror_mode": {
    "name": "ipython",
    "version": 3
   },
   "file_extension": ".py",
   "mimetype": "text/x-python",
   "name": "python",
   "nbconvert_exporter": "python",
   "pygments_lexer": "ipython3",
   "version": "3.8.5"
  }
 },
 "nbformat": 4,
 "nbformat_minor": 4
}
