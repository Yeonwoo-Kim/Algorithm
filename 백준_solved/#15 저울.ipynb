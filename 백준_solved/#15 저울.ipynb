{
 "cells": [
  {
   "cell_type": "code",
   "execution_count": 6,
   "metadata": {},
   "outputs": [
    {
     "name": "stdout",
     "output_type": "stream",
     "text": [
      "7\n",
      "3 1 6 2 7 30 1\n",
      "21\n"
     ]
    }
   ],
   "source": [
    "n=int(input())\n",
    "List=list(map(int,input().split()))\n",
    "List=sorted(List,key=lambda x:x)\n",
    "\n",
    "sum=0\n",
    "for i in range(n):\n",
    "    if sum+1 >= List[i]:\n",
    "        sum+=List[i]\n",
    "    else:\n",
    "        break\n",
    "        \n",
    "print(sum+1)"
   ]
  }
 ],
 "metadata": {
  "kernelspec": {
   "display_name": "Python 3",
   "language": "python",
   "name": "python3"
  },
  "language_info": {
   "codemirror_mode": {
    "name": "ipython",
    "version": 3
   },
   "file_extension": ".py",
   "mimetype": "text/x-python",
   "name": "python",
   "nbconvert_exporter": "python",
   "pygments_lexer": "ipython3",
   "version": "3.8.3"
  }
 },
 "nbformat": 4,
 "nbformat_minor": 4
}
