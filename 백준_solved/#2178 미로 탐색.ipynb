{
 "cells": [
  {
   "cell_type": "code",
   "execution_count": null,
   "metadata": {},
   "outputs": [],
   "source": [
    "from collections import deque\n",
    "import sys\n",
    "\n",
    "que = deque()\n",
    "n, m = map(int, sys.stdin.readline().rstrip().split())\n",
    "List = []\n",
    "\n",
    "dx = [-1, 1, 0, 0]\n",
    "dy = [0, 0, -1, 1]\n",
    "\n",
    "for i in range(n):\n",
    "    List.append(list(map(int, sys.stdin.readline().rstrip())))\n",
    "\n",
    "\n",
    "que.append([0, 0])\n",
    "\n",
    "while que:\n",
    "    p = que.popleft()\n",
    "    x = p[0]\n",
    "    y = p[1]\n",
    "\n",
    "    for i in range(4):\n",
    "        xx = dx[i]\n",
    "        yy = dy[i]\n",
    "\n",
    "        if x + xx < 0 or x + xx >= n or y + yy < 0 or y + yy >= m:\n",
    "            continue\n",
    "\n",
    "        else:\n",
    "            if List[x + xx][y + yy] == 1:\n",
    "                que.append([x + xx, y + yy])\n",
    "                List[x + xx][y + yy] = List[x][y] + 1\n",
    "\n",
    "print(List[n - 1][m - 1])\n",
    "\n"
   ]
  }
 ],
 "metadata": {
  "kernelspec": {
   "display_name": "Python 3",
   "language": "python",
   "name": "python3"
  },
  "language_info": {
   "codemirror_mode": {
    "name": "ipython",
    "version": 3
   },
   "file_extension": ".py",
   "mimetype": "text/x-python",
   "name": "python",
   "nbconvert_exporter": "python",
   "pygments_lexer": "ipython3",
   "version": "3.8.5"
  }
 },
 "nbformat": 4,
 "nbformat_minor": 4
}
