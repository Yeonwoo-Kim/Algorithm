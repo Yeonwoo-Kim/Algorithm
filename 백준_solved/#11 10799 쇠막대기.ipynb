{
 "cells": [
  {
   "cell_type": "code",
   "execution_count": 50,
   "metadata": {},
   "outputs": [],
   "source": [
    "# 처음 코드 -> 시간초과"
   ]
  },
  {
   "cell_type": "code",
   "execution_count": 49,
   "metadata": {
    "scrolled": false
   },
   "outputs": [
    {
     "name": "stdout",
     "output_type": "stream",
     "text": [
      "()(((()())(())()))(())\n",
      "17\n"
     ]
    }
   ],
   "source": [
    "from collections import deque\n",
    "\n",
    "que=deque()\n",
    "s=input()\n",
    "cnt=0\n",
    "n=len(s)\n",
    "i=0\n",
    "\n",
    "while True:\n",
    "    x=0 # ( 의 개수\n",
    "    y=0 # ) 의 개수\n",
    "    ii=i\n",
    "    \n",
    "    if i== n-1:\n",
    "        break\n",
    "        \n",
    "    else:\n",
    "        x=0 # ( 의 개수\n",
    "        y=0 # ) 의 개수\n",
    "        ii=i\n",
    "        while True:\n",
    "            if ii== n:\n",
    "                break\n",
    "                \n",
    "            if s[ii]=='(':\n",
    "                x+=1\n",
    "                que.append(s[ii])\n",
    "                \n",
    "            if x!=0 and s[ii]==')':\n",
    "                y+=1\n",
    "                que.append(s[ii])\n",
    "\n",
    "            ii+=1\n",
    "            \n",
    "            if x==y:\n",
    "                break\n",
    "\n",
    "        if x==1 and y==1: #레이저만 존재함\n",
    "            while que:\n",
    "                que.popleft() #큐 비움           \n",
    "            i+=2\n",
    "        elif x==0 or y==0:\n",
    "            while que:\n",
    "                que.popleft()\n",
    "            i+=1\n",
    "\n",
    "        else :\n",
    "            p=0 #cnt+됐나 체크\n",
    "            data_pre=que.popleft() #이전 데이터\n",
    "            data_next=que.popleft() #다음 데이터\n",
    "                \n",
    "            while que:\n",
    "                if data_pre=='(' and data_next==')':\n",
    "                    cnt+=1\n",
    "                    p=-1\n",
    "                data_pre=data_next\n",
    "                data_next=que.popleft()\n",
    "            \n",
    "            if p==-1:\n",
    "                cnt+=1\n",
    "                \n",
    "            i+=1\n",
    "print(cnt)            "
   ]
  },
  {
   "cell_type": "code",
   "execution_count": 57,
   "metadata": {},
   "outputs": [
    {
     "name": "stdout",
     "output_type": "stream",
     "text": [
      "()(((()())(())()))(())\n",
      "17\n"
     ]
    }
   ],
   "source": [
    "from collections import deque\n",
    "que=deque()\n",
    "s=input()\n",
    "n=len(s)\n",
    "cnt=0\n",
    "\n",
    "for i in range(n):\n",
    "    if s[i]=='(':\n",
    "        que.append(s[i])\n",
    "    else: #)일때\n",
    "        if s[i-1]=='(':\n",
    "            que.popleft()\n",
    "            cnt+=len(que)\n",
    "            \n",
    "        else: # ))\n",
    "            que.popleft()\n",
    "            cnt+=1#끝자락\n",
    "print(cnt)\n",
    "               "
   ]
  },
  {
   "cell_type": "code",
   "execution_count": null,
   "metadata": {},
   "outputs": [],
   "source": []
  }
 ],
 "metadata": {
  "kernelspec": {
   "display_name": "Python 3",
   "language": "python",
   "name": "python3"
  },
  "language_info": {
   "codemirror_mode": {
    "name": "ipython",
    "version": 3
   },
   "file_extension": ".py",
   "mimetype": "text/x-python",
   "name": "python",
   "nbconvert_exporter": "python",
   "pygments_lexer": "ipython3",
   "version": "3.8.5"
  }
 },
 "nbformat": 4,
 "nbformat_minor": 4
}
