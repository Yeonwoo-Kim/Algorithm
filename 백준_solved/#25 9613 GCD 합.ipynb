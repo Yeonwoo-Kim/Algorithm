{
 "cells": [
  {
   "cell_type": "code",
   "execution_count": 6,
   "metadata": {},
   "outputs": [
    {
     "name": "stdout",
     "output_type": "stream",
     "text": [
      "3\n",
      "4 10 20 30 40\n",
      "70\n",
      "3 7 5 12\n",
      "3\n",
      "3 125 15 25\n",
      "35\n",
      "8.87558126449585\n"
     ]
    }
   ],
   "source": [
    "from math import gcd\n",
    "import time\n",
    "n=int(input())\n",
    "\n",
    "for i in range(n):\n",
    "    List=list(map(int,input().split()))\n",
    "    cnt=0\n",
    "    for j in range(1,len(List)-1):\n",
    "        for k in range(j+1,len(List)):\n",
    "            cnt+=gcd(List[j],List[k])\n",
    "    print(cnt)"
   ]
  }
 ],
 "metadata": {
  "kernelspec": {
   "display_name": "Python 3",
   "language": "python",
   "name": "python3"
  },
  "language_info": {
   "codemirror_mode": {
    "name": "ipython",
    "version": 3
   },
   "file_extension": ".py",
   "mimetype": "text/x-python",
   "name": "python",
   "nbconvert_exporter": "python",
   "pygments_lexer": "ipython3",
   "version": "3.8.5"
  }
 },
 "nbformat": 4,
 "nbformat_minor": 4
}
