{
 "cells": [
  {
   "cell_type": "code",
   "execution_count": 25,
   "metadata": {},
   "outputs": [
    {
     "name": "stdout",
     "output_type": "stream",
     "text": [
      "55-50+40\n",
      "-35\n"
     ]
    }
   ],
   "source": [
    "k=input()\n",
    "ans=0\n",
    "\n",
    "k=k.split('-')\n",
    "\n",
    "for i in k[0].split('+'):\n",
    "    ans+=int(i)\n",
    "for i in k[1:]:\n",
    "    p=0\n",
    "    for j in i.split('+'):\n",
    "        p+=int(j)\n",
    "    ans-=p\n",
    "\n",
    "print(ans)"
   ]
  }
 ],
 "metadata": {
  "kernelspec": {
   "display_name": "Python 3",
   "language": "python",
   "name": "python3"
  },
  "language_info": {
   "codemirror_mode": {
    "name": "ipython",
    "version": 3
   },
   "file_extension": ".py",
   "mimetype": "text/x-python",
   "name": "python",
   "nbconvert_exporter": "python",
   "pygments_lexer": "ipython3",
   "version": "3.8.3"
  }
 },
 "nbformat": 4,
 "nbformat_minor": 4
}
