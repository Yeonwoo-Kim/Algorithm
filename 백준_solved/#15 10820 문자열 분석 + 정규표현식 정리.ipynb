{
 "cells": [
  {
   "cell_type": "markdown",
   "metadata": {},
   "source": [
    "## 정규 표현식 re (문자열 다루기)"
   ]
  },
  {
   "cell_type": "markdown",
   "metadata": {},
   "source": [
    "- [] : [ ]사이의 문자들과 매치 되는지 <br>\n",
    "ex.[abc] => abc 중에 하나라도 매치되면 매치 =[a-c]\n",
    "- ^ 는 반대의 의미 <br>\n",
    "[^0-9]는 숫자가 아닌 문자만 매치됨\n",
    "- \\d - 숫자와 매치, [0-9]와 동일한 표현식이다.\n",
    "- \\D - 숫자가 아닌 것과 매치, [^0-9]와 동일한 표현식이다.\n",
    "- \\s - whitespace 문자와 매치, [ \\t\\n\\r\\f\\v]와 동일한 표현식이다. 맨 앞의 빈 칸은 공백문자(space)를 의미한다.\n",
    "- \\S - whitespace 문자가 아닌 것과 매치, [^ \\t\\n\\r\\f\\v]와 동일한 표현식이다.\n",
    "- \\w - 문자+숫자(alphanumeric)와 매치, [a-zA-Z0-9_]와 동일한 표현식이다.\n",
    "- \\W - 문자+숫자(alphanumeric)가 아닌 문자와 매치, [^a-zA-Z0-9_]와 동일한 표현식이다.\n",
    "- .은 줄바꿈 문자인 \\n을 제외한 모든 문자와 매치됨을 의미<br>\n",
    "ex) a.b = a + 모든 문자중에 하나라도 있어야함 + b <br>\n",
    "- * 는 0번 이상 반복을 의미함(존재해도되고 무한대로 반복해도됨)<br>\n",
    "ex) ca*t = ct,cat,caaaat 모두 매치\n",
    "- +는 1회 이상 반복될때<br>\n",
    "- {}로 반복 횟수 제한 가능.<br>\n",
    "ex) ca{2}t = c + {a는 반드시 2번 반복} + t <br>\n",
    "ex) ca{2,5}t = a는 2~5회 반복<br>\n",
    "- ? 는 앞에 문자가 있어도되고 없어도된다는 뜻\n"
   ]
  },
  {
   "cell_type": "markdown",
   "metadata": {},
   "source": [
    "import re <br>\n",
    "p=re.compile('ab*')<br>\n",
    "\n",
    "\n",
    "- p.match()\t문자열의 처음부터 정규식과 매치되는지 조사한다.\n",
    "- p.search()\t문자열 전체를 검색하여 정규식과 매치되는지 조사한다.\n",
    "- p.findall()\t정규식과 매치되는 모든 문자열(substring)을 리스트로 돌려준다.\n",
    "- p.finditer()\t정규식과 매치되는 모든 문자열(substring)을 반복 가능한 객체로 돌려준다."
   ]
  },
  {
   "cell_type": "code",
   "execution_count": 25,
   "metadata": {},
   "outputs": [
    {
     "name": "stdout",
     "output_type": "stream",
     "text": [
      "This is String\n",
      "10 2 0 2\n",
      "SPACE    1    SPACE\n",
      "0 10 1 8\n",
      " S a M p L e I n P u T     \n",
      "5 6 0 16\n",
      "0L1A2S3T4L5I6N7E8\n",
      "0 8 9 0\n"
     ]
    }
   ],
   "source": [
    "import re\n",
    "\n",
    "while True:\n",
    "    try:\n",
    "        s=input()\n",
    "        a=re.compile('[a-z]')\n",
    "        b=re.compile('[A-Z]')\n",
    "        c=re.compile('[0-9]')\n",
    "        d=re.compile('\\s')\n",
    "        print(len(a.findall(s)),len(b.findall(s)),len(c.findall(s)),len(d.findall(s)))\n",
    "\n",
    "    except:\n",
    "\n",
    "        break"
   ]
  }
 ],
 "metadata": {
  "kernelspec": {
   "display_name": "Python 3",
   "language": "python",
   "name": "python3"
  },
  "language_info": {
   "codemirror_mode": {
    "name": "ipython",
    "version": 3
   },
   "file_extension": ".py",
   "mimetype": "text/x-python",
   "name": "python",
   "nbconvert_exporter": "python",
   "pygments_lexer": "ipython3",
   "version": "3.8.5"
  }
 },
 "nbformat": 4,
 "nbformat_minor": 4
}
