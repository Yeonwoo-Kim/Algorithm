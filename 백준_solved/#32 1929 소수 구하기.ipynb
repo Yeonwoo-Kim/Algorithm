{
 "cells": [
  {
   "cell_type": "code",
   "execution_count": 1,
   "metadata": {},
   "outputs": [
    {
     "name": "stdout",
     "output_type": "stream",
     "text": [
      "3 16\n",
      "3\n",
      "5\n",
      "7\n",
      "11\n",
      "13\n"
     ]
    }
   ],
   "source": [
    "#시간초과!!!!\n",
    "n,m=map(int,input().split())\n",
    "\n",
    "for i in range(n,m+1):\n",
    "    if i==1:\n",
    "        continue\n",
    "        \n",
    "    k=0\n",
    "    for j in range(2,i):\n",
    "        if i%j==0:\n",
    "            k+=1\n",
    "    if k==0:\n",
    "        print(i)"
   ]
  },
  {
   "cell_type": "code",
   "execution_count": 5,
   "metadata": {},
   "outputs": [
    {
     "name": "stdout",
     "output_type": "stream",
     "text": [
      "3 16\n",
      "3\n",
      "5\n",
      "7\n",
      "11\n",
      "13\n"
     ]
    }
   ],
   "source": [
    "#에라토스테네스의 체 알고리즘 : 시간 복잡도 = nlonglogn\n",
    "#위의 방법은 범위 안에서의 소수를 구할때는 효율적인 방법이아님. 에라토스로 구해보자\n",
    "import sys\n",
    "\n",
    "n,m=map(int,sys.stdin.readline().split())\n",
    "List=[1]*(m+1)\n",
    "List[0]=0\n",
    "List[1]=0\n",
    "\n",
    "\n",
    "for k in range(2,m+1):\n",
    "    if List[k]==1: #지워지지않음\n",
    "        for i in range(k*2,m+1,k):\n",
    "            List[i]=0\n",
    "\n",
    "for i in range(m+1):\n",
    "    if i>=n and i<=m and List[i]==1:\n",
    "        print(i)\n",
    "    "
   ]
  },
  {
   "cell_type": "code",
   "execution_count": null,
   "metadata": {},
   "outputs": [],
   "source": []
  }
 ],
 "metadata": {
  "kernelspec": {
   "display_name": "Python 3",
   "language": "python",
   "name": "python3"
  },
  "language_info": {
   "codemirror_mode": {
    "name": "ipython",
    "version": 3
   },
   "file_extension": ".py",
   "mimetype": "text/x-python",
   "name": "python",
   "nbconvert_exporter": "python",
   "pygments_lexer": "ipython3",
   "version": "3.8.5"
  }
 },
 "nbformat": 4,
 "nbformat_minor": 4
}
