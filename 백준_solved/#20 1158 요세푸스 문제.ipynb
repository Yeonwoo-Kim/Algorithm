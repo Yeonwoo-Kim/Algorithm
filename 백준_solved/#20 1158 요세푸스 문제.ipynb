{
 "cells": [
  {
   "cell_type": "code",
   "execution_count": 71,
   "metadata": {},
   "outputs": [
    {
     "name": "stdout",
     "output_type": "stream",
     "text": [
      "7 3\n",
      "<3, 6, 2, 7, 5, 1, 4>\n"
     ]
    }
   ],
   "source": [
    "from collections import deque\n",
    "import sys\n",
    "\n",
    "que=deque()\n",
    "\n",
    "n,k=map(int,sys.stdin.readline().split())\n",
    "List=[]\n",
    "for i in range(n):\n",
    "    List.append(i+1)\n",
    "\n",
    "now=k-1\n",
    "result=[]\n",
    "\n",
    "while True:\n",
    "    que.append(List.pop(now))\n",
    "\n",
    "    if len(List)==0:\n",
    "        break\n",
    "    \n",
    "    now=(now+k-1)%len(List)\n",
    "            \n",
    "print(\"<\"+', '.join(map(str,que))+\">\")"
   ]
  }
 ],
 "metadata": {
  "kernelspec": {
   "display_name": "Python 3",
   "language": "python",
   "name": "python3"
  },
  "language_info": {
   "codemirror_mode": {
    "name": "ipython",
    "version": 3
   },
   "file_extension": ".py",
   "mimetype": "text/x-python",
   "name": "python",
   "nbconvert_exporter": "python",
   "pygments_lexer": "ipython3",
   "version": "3.8.5"
  }
 },
 "nbformat": 4,
 "nbformat_minor": 4
}
