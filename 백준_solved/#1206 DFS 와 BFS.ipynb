{
 "cells": [
  {
   "cell_type": "code",
   "execution_count": 2,
   "metadata": {
    "scrolled": false
   },
   "outputs": [
    {
     "name": "stdout",
     "output_type": "stream",
     "text": [
      "4 5 1\n",
      "1 2\n",
      "1 3\n",
      "1 4\n",
      "2 4\n",
      "3 4\n",
      "1 2 4 3 \n",
      "1 2 3 4 "
     ]
    }
   ],
   "source": [
    "from collections import deque\n",
    "\n",
    "def DFS(graph, s):\n",
    "    visited=[0 for i in range(n)]\n",
    "\n",
    "    for key in graph:\n",
    "        graph[key].sort(reverse=True)\n",
    "\n",
    "    stack=deque()\n",
    "    stack.append(s)\n",
    "\n",
    "    while stack:\n",
    "        k=stack.pop()\n",
    "        for i in graph[k]:\n",
    "            if visited[i-1]==0:\n",
    "                stack.append(i)\n",
    "        if visited[k-1]==0:\n",
    "            print(k,end=' ')\n",
    "            visited[k-1]=1\n",
    "\n",
    "\n",
    "\n",
    "\n",
    "def BFS(graph, s):\n",
    "    visited = [0 for i in range(n)]\n",
    "    que = deque()\n",
    "\n",
    "    # 키 값을 기준으로 value값들 그래프 정렬해주기\n",
    "    for key in graph:\n",
    "        graph[key].sort()\n",
    "\n",
    "    que.append(s)\n",
    "    visited[s - 1] = 1\n",
    "\n",
    "    while que:\n",
    "        k = que.popleft()\n",
    "        print(k, end=' ')\n",
    "        for i in graph[k]:\n",
    "            if visited[i - 1] == 0:\n",
    "                que.append(i)\n",
    "                visited[i - 1] = 1  # 방문체크\n",
    "\n",
    "\n",
    "\n",
    "n,m,v=map(int,input().split())\n",
    "graph={i:[] for i in range(1,n+1)}\n",
    "\n",
    "for i in range(m):\n",
    "    a,b=map(int,input().split())\n",
    "    graph[a].append(b)\n",
    "    graph[b].append(a)\n",
    "\n",
    "DFS(graph, v)\n",
    "print('')\n",
    "BFS(graph, v)\n"
   ]
  }
 ],
 "metadata": {
  "kernelspec": {
   "display_name": "Python 3",
   "language": "python",
   "name": "python3"
  },
  "language_info": {
   "codemirror_mode": {
    "name": "ipython",
    "version": 3
   },
   "file_extension": ".py",
   "mimetype": "text/x-python",
   "name": "python",
   "nbconvert_exporter": "python",
   "pygments_lexer": "ipython3",
   "version": "3.8.5"
  }
 },
 "nbformat": 4,
 "nbformat_minor": 4
}
