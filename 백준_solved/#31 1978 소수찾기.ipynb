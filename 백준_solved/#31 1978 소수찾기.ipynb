{
 "cells": [
  {
   "cell_type": "code",
   "execution_count": 12,
   "metadata": {},
   "outputs": [
    {
     "name": "stdout",
     "output_type": "stream",
     "text": [
      "4\n",
      "2 3 4 5\n",
      "3\n"
     ]
    }
   ],
   "source": [
    "n=int(input())\n",
    "List=list(map(int,input().split()))\n",
    "k=0\n",
    "cnt=0\n",
    "\n",
    "for data in List:\n",
    "    k=0\n",
    "    if data==1:\n",
    "        continue\n",
    "        \n",
    "    for j in range(2,data):\n",
    "        if data % j == 0:\n",
    "            k+=1\n",
    "            \n",
    "    if k==0:\n",
    "        cnt+=1\n",
    "        \n",
    "print(cnt)"
   ]
  }
 ],
 "metadata": {
  "kernelspec": {
   "display_name": "Python 3",
   "language": "python",
   "name": "python3"
  },
  "language_info": {
   "codemirror_mode": {
    "name": "ipython",
    "version": 3
   },
   "file_extension": ".py",
   "mimetype": "text/x-python",
   "name": "python",
   "nbconvert_exporter": "python",
   "pygments_lexer": "ipython3",
   "version": "3.8.5"
  }
 },
 "nbformat": 4,
 "nbformat_minor": 4
}
