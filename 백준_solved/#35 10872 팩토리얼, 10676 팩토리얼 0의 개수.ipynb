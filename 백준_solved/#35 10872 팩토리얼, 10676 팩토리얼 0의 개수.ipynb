{
 "cells": [
  {
   "cell_type": "code",
   "execution_count": 18,
   "metadata": {},
   "outputs": [
    {
     "name": "stdout",
     "output_type": "stream",
     "text": [
      "13\n",
      "6227020800\n"
     ]
    }
   ],
   "source": [
    "n=int(input())\n",
    "if n==0:\n",
    "    result=1\n",
    "else:\n",
    "    result=1\n",
    "    for i in range(1,n+1):\n",
    "        result=result*i\n",
    "        \n",
    "print(result)"
   ]
  },
  {
   "cell_type": "code",
   "execution_count": 15,
   "metadata": {},
   "outputs": [
    {
     "name": "stdout",
     "output_type": "stream",
     "text": [
      "10\n",
      "2\n"
     ]
    }
   ],
   "source": [
    "import sys\n",
    "\n",
    "n=int(sys.stdin.readline())\n",
    "if n==0:\n",
    "    result=1\n",
    "else:\n",
    "    result=1\n",
    "    for i in range(1,n+1):\n",
    "        result=result*i\n",
    "        \n",
    "cnt=0\n",
    "result=str(result)\n",
    "for i in range(len(result)-1,-1,-1):\n",
    "    if result[i]=='0':\n",
    "        cnt+=1\n",
    "    else:\n",
    "        break\n",
    "        \n",
    "print(cnt)"
   ]
  },
  {
   "cell_type": "code",
   "execution_count": null,
   "metadata": {},
   "outputs": [],
   "source": []
  }
 ],
 "metadata": {
  "kernelspec": {
   "display_name": "Python 3",
   "language": "python",
   "name": "python3"
  },
  "language_info": {
   "codemirror_mode": {
    "name": "ipython",
    "version": 3
   },
   "file_extension": ".py",
   "mimetype": "text/x-python",
   "name": "python",
   "nbconvert_exporter": "python",
   "pygments_lexer": "ipython3",
   "version": "3.8.5"
  }
 },
 "nbformat": 4,
 "nbformat_minor": 4
}
