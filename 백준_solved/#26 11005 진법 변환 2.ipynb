{
 "cells": [
  {
   "cell_type": "code",
   "execution_count": 38,
   "metadata": {},
   "outputs": [
    {
     "name": "stdout",
     "output_type": "stream",
     "text": [
      "60466175 36\n",
      "ZZZZZ\n"
     ]
    }
   ],
   "source": [
    "x,n=map(int,input().split())\n",
    "result=[]\n",
    "ptr=0\n",
    "while x >= n:\n",
    "    ptr=x%n\n",
    "    result.append(ptr)\n",
    "    x=x//n\n",
    "    \n",
    "result.append(x)    \n",
    "\n",
    "for i in range(len(result)):\n",
    "    if result[i]>=10:\n",
    "        result[i]=chr(result[i]+55)\n",
    "result=list(reversed(result))\n",
    "\n",
    "print(''.join(map(str,result)))"
   ]
  }
 ],
 "metadata": {
  "kernelspec": {
   "display_name": "Python 3",
   "language": "python",
   "name": "python3"
  },
  "language_info": {
   "codemirror_mode": {
    "name": "ipython",
    "version": 3
   },
   "file_extension": ".py",
   "mimetype": "text/x-python",
   "name": "python",
   "nbconvert_exporter": "python",
   "pygments_lexer": "ipython3",
   "version": "3.8.5"
  }
 },
 "nbformat": 4,
 "nbformat_minor": 4
}
