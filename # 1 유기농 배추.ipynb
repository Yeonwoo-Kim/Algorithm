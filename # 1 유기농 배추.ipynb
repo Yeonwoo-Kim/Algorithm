{
 "cells": [
  {
   "cell_type": "code",
   "execution_count": 18,
   "metadata": {},
   "outputs": [
    {
     "name": "stdout",
     "output_type": "stream",
     "text": [
      "2\n",
      "10 8 17\n",
      "0 0\n",
      "1 0\n",
      "1 1\n",
      "4 2\n",
      "4 3\n",
      "4 5\n",
      "2 4\n",
      "3 4\n",
      "7 4\n",
      "8 4\n",
      "9 4\n",
      "7 5\n",
      "8 5\n",
      "9 5\n",
      "7 6\n",
      "8 6\n",
      "9 6\n",
      "10 10 1\n",
      "5 5\n",
      "5\n",
      "1\n"
     ]
    }
   ],
   "source": [
    "from collections import deque\n",
    "que=deque()\n",
    "\n",
    "dx=[-1,1,0,0]\n",
    "dy=[0,0,-1,1]\n",
    "\n",
    "result=[]\n",
    "t=int(input())\n",
    "\n",
    "for i in range(t): #테스트 케이스\n",
    "    cnt=0\n",
    "    \n",
    "    #배추 정보 입력받기\n",
    "    n,m,k=map(int,input().split())\n",
    "    graph=[[] for i in range(n)]\n",
    "    \n",
    "    #배추 초기화   \n",
    "    for i in range(n):\n",
    "        for j in range(m):\n",
    "            graph[i].append(0)\n",
    "        \n",
    "    for j in range(k): #배추 자리\n",
    "        x,y=map(int,input().split())\n",
    "        graph[x][y]= 1 #배추심기\n",
    "    \n",
    "    for q in range(n):\n",
    "        for w in range(m):\n",
    "            if(graph[q][w]==1):\n",
    "                que.append([q,w])\n",
    "                graph[q][w]=0 #체크한건 0으로\n",
    "                while(que):\n",
    "                    p=que.pop()\n",
    "                    x=p[0]\n",
    "                    y=p[1]\n",
    "                    \n",
    "                    #상하좌우 체크\n",
    "                    for e in range(4):\n",
    "                        xx=x+dx[e]\n",
    "                        yy=y+dy[e]\n",
    "                        \n",
    "                        #벗어나는 경우 제외\n",
    "                        if(xx>=0 and xx<n and yy>=0 and yy<m):\n",
    "                            if(graph[xx][yy]==1):\n",
    "                                que.append([xx,yy])\n",
    "                                graph[xx][yy]=0 #체크한건 0으로\n",
    "                \n",
    "                cnt+=1\n",
    "                \n",
    "    result.append(cnt)            \n",
    "\n",
    "for i in result:\n",
    "    print(i)"
   ]
  },
  {
   "cell_type": "code",
   "execution_count": null,
   "metadata": {},
   "outputs": [],
   "source": []
  }
 ],
 "metadata": {
  "kernelspec": {
   "display_name": "Python 3",
   "language": "python",
   "name": "python3"
  },
  "language_info": {
   "codemirror_mode": {
    "name": "ipython",
    "version": 3
   },
   "file_extension": ".py",
   "mimetype": "text/x-python",
   "name": "python",
   "nbconvert_exporter": "python",
   "pygments_lexer": "ipython3",
   "version": "3.8.3"
  }
 },
 "nbformat": 4,
 "nbformat_minor": 4
}
